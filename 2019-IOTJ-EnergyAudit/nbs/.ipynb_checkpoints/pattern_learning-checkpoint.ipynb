{
 "cells": [
  {
   "cell_type": "markdown",
   "metadata": {},
   "source": [
    "## Imports"
   ]
  },
  {
   "cell_type": "code",
   "execution_count": 1,
   "metadata": {},
   "outputs": [],
   "source": [
    "import pandas\n",
    "import numpy\n",
    "import matplotlib.pyplot as plotter\n",
    "from pathlib import Path\n",
    "import seaborn\n",
    "from scipy.signal import *\n",
    "from scipy.stats import probplot"
   ]
  },
  {
   "cell_type": "code",
   "execution_count": 2,
   "metadata": {},
   "outputs": [
    {
     "name": "stdout",
     "output_type": "stream",
     "text": [
      "[PosixPath('../data/summer_simple/summer_simple_cpu.csv'), PosixPath('../data/summer_simple/summer_simple_network_rx.csv'), PosixPath('../data/summer_simple/summer_simple_context.csv'), PosixPath('../data/summer_simple/summer_simple_network_tx.csv'), PosixPath('../data/summer_simple/summer_simple_power.csv'), PosixPath('../data/summer_simple/summer_simple_disk_io.csv')]\n"
     ]
    }
   ],
   "source": [
    "data = Path(\"../data/summer_simple//\")\n",
    "files = list(data.iterdir())\n",
    "print(files)"
   ]
  },
  {
   "cell_type": "code",
   "execution_count": 3,
   "metadata": {},
   "outputs": [
    {
     "name": "stdout",
     "output_type": "stream",
     "text": [
      "Index(['Time',\n",
      "       'disk_io_time host raspberrypi_pc008 instance mmcblk0 type disk_io_time',\n",
      "       'disk_io_time host raspberrypi_pc008 instance mmcblk0p1 type disk_io_time',\n",
      "       'disk_io_time host raspberrypi_pc008 instance mmcblk0p2 type disk_io_time'],\n",
      "      dtype='object')\n",
      "Index(['Time', 'cpu_value host raspberrypi_pc008 type_instance idle',\n",
      "       'cpu_value host raspberrypi_pc008 type_instance interrupt',\n",
      "       'cpu_value host raspberrypi_pc008 type_instance nice',\n",
      "       'cpu_value host raspberrypi_pc008 type_instance softirq',\n",
      "       'cpu_value host raspberrypi_pc008 type_instance steal',\n",
      "       'cpu_value host raspberrypi_pc008 type_instance system',\n",
      "       'cpu_value host raspberrypi_pc008 type_instance user',\n",
      "       'cpu_value host raspberrypi_pc008 type_instance wait'],\n",
      "      dtype='object')\n"
     ]
    }
   ],
   "source": [
    "disk = pandas.read_csv(str(data/\"summer_simple_disk_io.csv\")).drop(\"Unnamed: 0\", axis=1)\n",
    "print(disk.columns)\n",
    "cpu = pandas.read_csv(str(data/\"summer_simple_cpu.csv\")).drop(\"Unnamed: 0\", axis=1)\n",
    "print(cpu.columns)\n",
    "power = pandas.read_csv(str(data/\"summer_simple_power.csv\")).drop(\"Unnamed: 0\", axis=1)\n",
    "context = pandas.read_csv(str(data/\"summer_simple_context.csv\")).drop(\"Unnamed: 0\", axis=1)\n",
    "tx = pandas.read_csv(str(data/\"summer_simple_network_tx.csv\")).drop(\"Unnamed: 0\", axis=1)\n",
    "rx = pandas.read_csv(str(data/\"summer_simple_network_rx.csv\")).drop(\"Unnamed: 0\", axis=1)"
   ]
  },
  {
   "cell_type": "markdown",
   "metadata": {},
   "source": [
    "----"
   ]
  },
  {
   "cell_type": "markdown",
   "metadata": {},
   "source": [
    "# Visualize and get info on data"
   ]
  },
  {
   "cell_type": "code",
   "execution_count": 4,
   "metadata": {},
   "outputs": [
    {
     "data": {
      "text/html": [
       "<div>\n",
       "<style scoped>\n",
       "    .dataframe tbody tr th:only-of-type {\n",
       "        vertical-align: middle;\n",
       "    }\n",
       "\n",
       "    .dataframe tbody tr th {\n",
       "        vertical-align: top;\n",
       "    }\n",
       "\n",
       "    .dataframe thead th {\n",
       "        text-align: right;\n",
       "    }\n",
       "</style>\n",
       "<table border=\"1\" class=\"dataframe\">\n",
       "  <thead>\n",
       "    <tr style=\"text-align: right;\">\n",
       "      <th></th>\n",
       "      <th>power</th>\n",
       "    </tr>\n",
       "  </thead>\n",
       "  <tbody>\n",
       "    <tr>\n",
       "      <th>0</th>\n",
       "      <td>NaN</td>\n",
       "    </tr>\n",
       "    <tr>\n",
       "      <th>1</th>\n",
       "      <td>NaN</td>\n",
       "    </tr>\n",
       "    <tr>\n",
       "      <th>2</th>\n",
       "      <td>NaN</td>\n",
       "    </tr>\n",
       "    <tr>\n",
       "      <th>3</th>\n",
       "      <td>NaN</td>\n",
       "    </tr>\n",
       "    <tr>\n",
       "      <th>4</th>\n",
       "      <td>NaN</td>\n",
       "    </tr>\n",
       "  </tbody>\n",
       "</table>\n",
       "</div>"
      ],
      "text/plain": [
       "   power\n",
       "0    NaN\n",
       "1    NaN\n",
       "2    NaN\n",
       "3    NaN\n",
       "4    NaN"
      ]
     },
     "execution_count": 4,
     "metadata": {},
     "output_type": "execute_result"
    }
   ],
   "source": [
    "time = power[\"Time\"]\n",
    "power = power.drop(\"Time\", axis=1)\n",
    "#power = medfilt(power.as_matrix().ravel(), 21)\n",
    "power = pandas.DataFrame(power.as_matrix().ravel(), columns=[\"power\"])\n",
    "power.head()"
   ]
  },
  {
   "cell_type": "code",
   "execution_count": 5,
   "metadata": {},
   "outputs": [
    {
     "data": {
      "image/png": "[encoded data removed]",
      "text/plain": [
       "<matplotlib.figure.Figure at 0x7fe523260ba8>"
      ]
     },
     "metadata": {},
     "output_type": "display_data"
    },
    {
     "data": {
      "image/png": "[encoded data removed]",
      "text/plain": [
       "<matplotlib.figure.Figure at 0x7fe4e68e02b0>"
      ]
     },
     "metadata": {},
     "output_type": "display_data"
    }
   ],
   "source": [
    "power.plot(kind=\"density\")\n",
    "plotter.show()\n",
    "power.plot(kind=\"box\")\n",
    "plotter.show()"
   ]
  },
  {
   "cell_type": "code",
   "execution_count": 6,
   "metadata": {},
   "outputs": [
    {
     "data": {
      "text/html": [
       "<div>\n",
       "<style scoped>\n",
       "    .dataframe tbody tr th:only-of-type {\n",
       "        vertical-align: middle;\n",
       "    }\n",
       "\n",
       "    .dataframe tbody tr th {\n",
       "        vertical-align: top;\n",
       "    }\n",
       "\n",
       "    .dataframe thead th {\n",
       "        text-align: right;\n",
       "    }\n",
       "</style>\n",
       "<table border=\"1\" class=\"dataframe\">\n",
       "  <thead>\n",
       "    <tr style=\"text-align: right;\">\n",
       "      <th></th>\n",
       "      <th>cpu_value host raspberrypi_pc008 type_instance idle</th>\n",
       "      <th>cpu_value host raspberrypi_pc008 type_instance softirq</th>\n",
       "      <th>cpu_value host raspberrypi_pc008 type_instance system</th>\n",
       "      <th>cpu_value host raspberrypi_pc008 type_instance user</th>\n",
       "      <th>cpu_value host raspberrypi_pc008 type_instance wait</th>\n",
       "    </tr>\n",
       "  </thead>\n",
       "  <tbody>\n",
       "    <tr>\n",
       "      <th>count</th>\n",
       "      <td>48888.000000</td>\n",
       "      <td>48884.000000</td>\n",
       "      <td>48887.000000</td>\n",
       "      <td>48887.000000</td>\n",
       "      <td>48885.000000</td>\n",
       "    </tr>\n",
       "    <tr>\n",
       "      <th>mean</th>\n",
       "      <td>442.398459</td>\n",
       "      <td>0.086155</td>\n",
       "      <td>2.562584</td>\n",
       "      <td>58.574709</td>\n",
       "      <td>0.058691</td>\n",
       "    </tr>\n",
       "    <tr>\n",
       "      <th>std</th>\n",
       "      <td>441.240831</td>\n",
       "      <td>2.674904</td>\n",
       "      <td>12.542576</td>\n",
       "      <td>300.123279</td>\n",
       "      <td>1.165943</td>\n",
       "    </tr>\n",
       "    <tr>\n",
       "      <th>min</th>\n",
       "      <td>287.545455</td>\n",
       "      <td>0.000000</td>\n",
       "      <td>0.000000</td>\n",
       "      <td>0.000000</td>\n",
       "      <td>0.000000</td>\n",
       "    </tr>\n",
       "    <tr>\n",
       "      <th>25%</th>\n",
       "      <td>367.958333</td>\n",
       "      <td>0.000000</td>\n",
       "      <td>1.625000</td>\n",
       "      <td>3.500000</td>\n",
       "      <td>0.000000</td>\n",
       "    </tr>\n",
       "    <tr>\n",
       "      <th>50%</th>\n",
       "      <td>491.750000</td>\n",
       "      <td>0.000000</td>\n",
       "      <td>1.958333</td>\n",
       "      <td>4.458333</td>\n",
       "      <td>0.000000</td>\n",
       "    </tr>\n",
       "    <tr>\n",
       "      <th>75%</th>\n",
       "      <td>492.625000</td>\n",
       "      <td>0.083333</td>\n",
       "      <td>2.333333</td>\n",
       "      <td>127.875000</td>\n",
       "      <td>0.000000</td>\n",
       "    </tr>\n",
       "    <tr>\n",
       "      <th>max</th>\n",
       "      <td>76160.940476</td>\n",
       "      <td>313.750000</td>\n",
       "      <td>2413.833333</td>\n",
       "      <td>53766.916667</td>\n",
       "      <td>229.100000</td>\n",
       "    </tr>\n",
       "  </tbody>\n",
       "</table>\n",
       "</div>"
      ],
      "text/plain": [
       "       cpu_value host raspberrypi_pc008 type_instance idle  \\\n",
       "count                                       48888.000000     \n",
       "mean                                          442.398459     \n",
       "std                                           441.240831     \n",
       "min                                           287.545455     \n",
       "25%                                           367.958333     \n",
       "50%                                           491.750000     \n",
       "75%                                           492.625000     \n",
       "max                                         76160.940476     \n",
       "\n",
       "       cpu_value host raspberrypi_pc008 type_instance softirq  \\\n",
       "count                                       48884.000000        \n",
       "mean                                            0.086155        \n",
       "std                                             2.674904        \n",
       "min                                             0.000000        \n",
       "25%                                             0.000000        \n",
       "50%                                             0.000000        \n",
       "75%                                             0.083333        \n",
       "max                                           313.750000        \n",
       "\n",
       "       cpu_value host raspberrypi_pc008 type_instance system  \\\n",
       "count                                       48887.000000       \n",
       "mean                                            2.562584       \n",
       "std                                            12.542576       \n",
       "min                                             0.000000       \n",
       "25%                                             1.625000       \n",
       "50%                                             1.958333       \n",
       "75%                                             2.333333       \n",
       "max                                          2413.833333       \n",
       "\n",
       "       cpu_value host raspberrypi_pc008 type_instance user  \\\n",
       "count                                       48887.000000     \n",
       "mean                                           58.574709     \n",
       "std                                           300.123279     \n",
       "min                                             0.000000     \n",
       "25%                                             3.500000     \n",
       "50%                                             4.458333     \n",
       "75%                                           127.875000     \n",
       "max                                         53766.916667     \n",
       "\n",
       "       cpu_value host raspberrypi_pc008 type_instance wait  \n",
       "count                                       48885.000000    \n",
       "mean                                            0.058691    \n",
       "std                                             1.165943    \n",
       "min                                             0.000000    \n",
       "25%                                             0.000000    \n",
       "50%                                             0.000000    \n",
       "75%                                             0.000000    \n",
       "max                                           229.100000    "
      ]
     },
     "execution_count": 6,
     "metadata": {},
     "output_type": "execute_result"
    }
   ],
   "source": [
    "cpu = cpu.drop(cpu.columns[2], axis=1)\n",
    "cpu = cpu.drop(cpu.columns[2], axis=1)\n",
    "cpu = cpu.drop(cpu.columns[3], axis=1)\n",
    "cpu.describe()"
   ]
  },
  {
   "cell_type": "code",
   "execution_count": 7,
   "metadata": {},
   "outputs": [
    {
     "data": {
      "image/png": "[encoded data removed]",
      "text/plain": [
       "<matplotlib.figure.Figure at 0x7fe4e686fc18>"
      ]
     },
     "metadata": {},
     "output_type": "display_data"
    },
    {
     "data": {
      "image/png": "[encoded data removed]",
      "text/plain": [
       "<matplotlib.figure.Figure at 0x7fe4e6ee3860>"
      ]
     },
     "metadata": {},
     "output_type": "display_data"
    }
   ],
   "source": [
    "cpu.plot(kind=\"density\")\n",
    "plotter.show()\n",
    "cpu.plot(kind=\"box\")\n",
    "plotter.show()"
   ]
  },
  {
   "cell_type": "code",
   "execution_count": 8,
   "metadata": {},
   "outputs": [
    {
     "data": {
      "text/html": [
       "<div>\n",
       "<style scoped>\n",
       "    .dataframe tbody tr th:only-of-type {\n",
       "        vertical-align: middle;\n",
       "    }\n",
       "\n",
       "    .dataframe tbody tr th {\n",
       "        vertical-align: top;\n",
       "    }\n",
       "\n",
       "    .dataframe thead th {\n",
       "        text-align: right;\n",
       "    }\n",
       "</style>\n",
       "<table border=\"1\" class=\"dataframe\">\n",
       "  <thead>\n",
       "    <tr style=\"text-align: right;\">\n",
       "      <th></th>\n",
       "      <th>disk_io_time host raspberrypi_pc008 instance mmcblk0 type disk_io_time</th>\n",
       "      <th>disk_io_time host raspberrypi_pc008 instance mmcblk0p2 type disk_io_time</th>\n",
       "    </tr>\n",
       "  </thead>\n",
       "  <tbody>\n",
       "    <tr>\n",
       "      <th>count</th>\n",
       "      <td>48892.000000</td>\n",
       "      <td>48892.000000</td>\n",
       "    </tr>\n",
       "    <tr>\n",
       "      <th>mean</th>\n",
       "      <td>118.589306</td>\n",
       "      <td>118.589306</td>\n",
       "    </tr>\n",
       "    <tr>\n",
       "      <th>std</th>\n",
       "      <td>340.959719</td>\n",
       "      <td>340.958011</td>\n",
       "    </tr>\n",
       "    <tr>\n",
       "      <th>min</th>\n",
       "      <td>0.000000</td>\n",
       "      <td>0.000000</td>\n",
       "    </tr>\n",
       "    <tr>\n",
       "      <th>25%</th>\n",
       "      <td>0.000000</td>\n",
       "      <td>0.000000</td>\n",
       "    </tr>\n",
       "    <tr>\n",
       "      <th>50%</th>\n",
       "      <td>0.000000</td>\n",
       "      <td>0.000000</td>\n",
       "    </tr>\n",
       "    <tr>\n",
       "      <th>75%</th>\n",
       "      <td>0.000000</td>\n",
       "      <td>0.000000</td>\n",
       "    </tr>\n",
       "    <tr>\n",
       "      <th>max</th>\n",
       "      <td>1610.000000</td>\n",
       "      <td>1610.000000</td>\n",
       "    </tr>\n",
       "  </tbody>\n",
       "</table>\n",
       "</div>"
      ],
      "text/plain": [
       "       disk_io_time host raspberrypi_pc008 instance mmcblk0 type disk_io_time  \\\n",
       "count                                       48892.000000                        \n",
       "mean                                          118.589306                        \n",
       "std                                           340.959719                        \n",
       "min                                             0.000000                        \n",
       "25%                                             0.000000                        \n",
       "50%                                             0.000000                        \n",
       "75%                                             0.000000                        \n",
       "max                                          1610.000000                        \n",
       "\n",
       "       disk_io_time host raspberrypi_pc008 instance mmcblk0p2 type disk_io_time  \n",
       "count                                       48892.000000                         \n",
       "mean                                          118.589306                         \n",
       "std                                           340.958011                         \n",
       "min                                             0.000000                         \n",
       "25%                                             0.000000                         \n",
       "50%                                             0.000000                         \n",
       "75%                                             0.000000                         \n",
       "max                                          1610.000000                         "
      ]
     },
     "execution_count": 8,
     "metadata": {},
     "output_type": "execute_result"
    }
   ],
   "source": [
    "disk = disk.drop(disk.columns[2], axis=1)\n",
    "disk.describe()"
   ]
  },
  {
   "cell_type": "code",
   "execution_count": 9,
   "metadata": {},
   "outputs": [
    {
     "data": {
      "image/png": "[encoded data removed]",
      "text/plain": [
       "<matplotlib.figure.Figure at 0x7fe4e6e2df28>"
      ]
     },
     "metadata": {},
     "output_type": "display_data"
    },
    {
     "data": {
      "image/png": "[encoded data removed]",
      "text/plain": [
       "<matplotlib.figure.Figure at 0x7fe4e6d9e2b0>"
      ]
     },
     "metadata": {},
     "output_type": "display_data"
    }
   ],
   "source": [
    "disk.plot(kind=\"density\")\n",
    "plotter.show()\n",
    "disk.plot(kind=\"box\")\n",
    "plotter.show()"
   ]
  },
  {
   "cell_type": "code",
   "execution_count": 10,
   "metadata": {},
   "outputs": [
    {
     "data": {
      "text/html": [
       "<div>\n",
       "<style scoped>\n",
       "    .dataframe tbody tr th:only-of-type {\n",
       "        vertical-align: middle;\n",
       "    }\n",
       "\n",
       "    .dataframe tbody tr th {\n",
       "        vertical-align: top;\n",
       "    }\n",
       "\n",
       "    .dataframe thead th {\n",
       "        text-align: right;\n",
       "    }\n",
       "</style>\n",
       "<table border=\"1\" class=\"dataframe\">\n",
       "  <thead>\n",
       "    <tr style=\"text-align: right;\">\n",
       "      <th></th>\n",
       "      <th>interface_tx host raspberrypi_pc008 instance wlan0 type if_octets</th>\n",
       "      <th>interface_tx host raspberrypi_pc008 instance wlan0 type if_packets</th>\n",
       "    </tr>\n",
       "  </thead>\n",
       "  <tbody>\n",
       "    <tr>\n",
       "      <th>count</th>\n",
       "      <td>48892.000000</td>\n",
       "      <td>48892.000000</td>\n",
       "    </tr>\n",
       "    <tr>\n",
       "      <th>mean</th>\n",
       "      <td>64272.552964</td>\n",
       "      <td>56.371475</td>\n",
       "    </tr>\n",
       "    <tr>\n",
       "      <th>std</th>\n",
       "      <td>60157.248962</td>\n",
       "      <td>40.099041</td>\n",
       "    </tr>\n",
       "    <tr>\n",
       "      <th>min</th>\n",
       "      <td>12546.000000</td>\n",
       "      <td>10.666667</td>\n",
       "    </tr>\n",
       "    <tr>\n",
       "      <th>25%</th>\n",
       "      <td>16505.000000</td>\n",
       "      <td>25.000000</td>\n",
       "    </tr>\n",
       "    <tr>\n",
       "      <th>50%</th>\n",
       "      <td>17328.333333</td>\n",
       "      <td>25.833333</td>\n",
       "    </tr>\n",
       "    <tr>\n",
       "      <th>75%</th>\n",
       "      <td>140867.000000</td>\n",
       "      <td>107.833333</td>\n",
       "    </tr>\n",
       "    <tr>\n",
       "      <th>max</th>\n",
       "      <td>169240.666667</td>\n",
       "      <td>207.500000</td>\n",
       "    </tr>\n",
       "  </tbody>\n",
       "</table>\n",
       "</div>"
      ],
      "text/plain": [
       "       interface_tx host raspberrypi_pc008 instance wlan0 type if_octets  \\\n",
       "count                                       48892.000000                   \n",
       "mean                                        64272.552964                   \n",
       "std                                         60157.248962                   \n",
       "min                                         12546.000000                   \n",
       "25%                                         16505.000000                   \n",
       "50%                                         17328.333333                   \n",
       "75%                                        140867.000000                   \n",
       "max                                        169240.666667                   \n",
       "\n",
       "       interface_tx host raspberrypi_pc008 instance wlan0 type if_packets  \n",
       "count                                       48892.000000                   \n",
       "mean                                           56.371475                   \n",
       "std                                            40.099041                   \n",
       "min                                            10.666667                   \n",
       "25%                                            25.000000                   \n",
       "50%                                            25.833333                   \n",
       "75%                                           107.833333                   \n",
       "max                                           207.500000                   "
      ]
     },
     "execution_count": 10,
     "metadata": {},
     "output_type": "execute_result"
    }
   ],
   "source": [
    "tx = tx.drop(tx.columns[1], axis=1)\n",
    "tx = tx.drop(tx.columns[1], axis=1)\n",
    "tx = tx.drop(tx.columns[1], axis=1)\n",
    "tx = tx.drop(tx.columns[1], axis=1)\n",
    "tx = tx.drop(tx.columns[1], axis=1)\n",
    "tx = tx.drop(tx.columns[1], axis=1)\n",
    "tx.describe()"
   ]
  },
  {
   "cell_type": "code",
   "execution_count": 11,
   "metadata": {},
   "outputs": [
    {
     "data": {
      "image/png": "[encoded data removed]",
      "text/plain": [
       "<matplotlib.figure.Figure at 0x7fe4e6e9fba8>"
      ]
     },
     "metadata": {},
     "output_type": "display_data"
    },
    {
     "data": {
      "image/png": "[encoded data removed]",
      "text/plain": [
       "<matplotlib.figure.Figure at 0x7fe4e5edf208>"
      ]
     },
     "metadata": {},
     "output_type": "display_data"
    }
   ],
   "source": [
    "tx.plot(kind=\"density\")\n",
    "plotter.show()\n",
    "tx.plot(kind=\"box\")\n",
    "plotter.show()"
   ]
  },
  {
   "cell_type": "code",
   "execution_count": 12,
   "metadata": {},
   "outputs": [
    {
     "data": {
      "text/html": [
       "<div>\n",
       "<style scoped>\n",
       "    .dataframe tbody tr th:only-of-type {\n",
       "        vertical-align: middle;\n",
       "    }\n",
       "\n",
       "    .dataframe tbody tr th {\n",
       "        vertical-align: top;\n",
       "    }\n",
       "\n",
       "    .dataframe thead th {\n",
       "        text-align: right;\n",
       "    }\n",
       "</style>\n",
       "<table border=\"1\" class=\"dataframe\">\n",
       "  <thead>\n",
       "    <tr style=\"text-align: right;\">\n",
       "      <th></th>\n",
       "      <th>interface_rx host raspberrypi_pc008 instance wlan0 type if_octets</th>\n",
       "      <th>interface_rx host raspberrypi_pc008 instance wlan0 type if_packets</th>\n",
       "    </tr>\n",
       "  </thead>\n",
       "  <tbody>\n",
       "    <tr>\n",
       "      <th>count</th>\n",
       "      <td>48892.000000</td>\n",
       "      <td>48892.000000</td>\n",
       "    </tr>\n",
       "    <tr>\n",
       "      <th>mean</th>\n",
       "      <td>1112.931884</td>\n",
       "      <td>9.541394</td>\n",
       "    </tr>\n",
       "    <tr>\n",
       "      <th>std</th>\n",
       "      <td>222.369437</td>\n",
       "      <td>1.867821</td>\n",
       "    </tr>\n",
       "    <tr>\n",
       "      <th>min</th>\n",
       "      <td>0.000000</td>\n",
       "      <td>0.000000</td>\n",
       "    </tr>\n",
       "    <tr>\n",
       "      <th>25%</th>\n",
       "      <td>1134.000000</td>\n",
       "      <td>9.500000</td>\n",
       "    </tr>\n",
       "    <tr>\n",
       "      <th>50%</th>\n",
       "      <td>1160.000000</td>\n",
       "      <td>10.000000</td>\n",
       "    </tr>\n",
       "    <tr>\n",
       "      <th>75%</th>\n",
       "      <td>1160.000000</td>\n",
       "      <td>10.000000</td>\n",
       "    </tr>\n",
       "    <tr>\n",
       "      <th>max</th>\n",
       "      <td>12333.333333</td>\n",
       "      <td>113.000000</td>\n",
       "    </tr>\n",
       "  </tbody>\n",
       "</table>\n",
       "</div>"
      ],
      "text/plain": [
       "       interface_rx host raspberrypi_pc008 instance wlan0 type if_octets  \\\n",
       "count                                       48892.000000                   \n",
       "mean                                         1112.931884                   \n",
       "std                                           222.369437                   \n",
       "min                                             0.000000                   \n",
       "25%                                          1134.000000                   \n",
       "50%                                          1160.000000                   \n",
       "75%                                          1160.000000                   \n",
       "max                                         12333.333333                   \n",
       "\n",
       "       interface_rx host raspberrypi_pc008 instance wlan0 type if_packets  \n",
       "count                                       48892.000000                   \n",
       "mean                                            9.541394                   \n",
       "std                                             1.867821                   \n",
       "min                                             0.000000                   \n",
       "25%                                             9.500000                   \n",
       "50%                                            10.000000                   \n",
       "75%                                            10.000000                   \n",
       "max                                           113.000000                   "
      ]
     },
     "execution_count": 12,
     "metadata": {},
     "output_type": "execute_result"
    }
   ],
   "source": [
    "rx = rx.drop(rx.columns[1], axis=1)\n",
    "rx = rx.drop(rx.columns[1], axis=1)\n",
    "rx = rx.drop(rx.columns[1], axis=1)\n",
    "rx = rx.drop(rx.columns[1], axis=1)\n",
    "rx = rx.drop(rx.columns[1], axis=1)\n",
    "rx = rx.drop(rx.columns[1], axis=1)\n",
    "rx.describe()"
   ]
  },
  {
   "cell_type": "code",
   "execution_count": 13,
   "metadata": {},
   "outputs": [
    {
     "data": {
      "image/png": "[encoded data removed]",
      "text/plain": [
       "<matplotlib.figure.Figure at 0x7fe4e64437b8>"
      ]
     },
     "metadata": {},
     "output_type": "display_data"
    },
    {
     "data": {
      "image/png": "[encoded data removed]",
      "text/plain": [
       "<matplotlib.figure.Figure at 0x7fe4e63b36d8>"
      ]
     },
     "metadata": {},
     "output_type": "display_data"
    }
   ],
   "source": [
    "rx.plot(kind=\"density\")\n",
    "plotter.show()\n",
    "rx.plot(kind=\"box\")\n",
    "plotter.show()"
   ]
  },
  {
   "cell_type": "markdown",
   "metadata": {},
   "source": [
    "------"
   ]
  },
  {
   "cell_type": "markdown",
   "metadata": {},
   "source": [
    "## Clip data within limits"
   ]
  },
  {
   "cell_type": "code",
   "execution_count": 14,
   "metadata": {},
   "outputs": [
    {
     "data": {
      "image/png": "[encoded data removed]",
      "text/plain": [
       "<matplotlib.figure.Figure at 0x7fe4e641b198>"
      ]
     },
     "metadata": {},
     "output_type": "display_data"
    },
    {
     "data": {
      "image/png": "[encoded data removed]",
      "text/plain": [
       "<matplotlib.figure.Figure at 0x7fe4e6e3b8d0>"
      ]
     },
     "metadata": {},
     "output_type": "display_data"
    }
   ],
   "source": [
    "#cpu.drop(\"Time\", axis=1, inplace=True)\n",
    "cpu = cpu[cpu.columns[1:]].clip(0, 600)\n",
    "cpu.plot(kind=\"density\")\n",
    "plotter.show()\n",
    "cpu.plot(kind=\"box\")\n",
    "plotter.show()"
   ]
  },
  {
   "cell_type": "code",
   "execution_count": 15,
   "metadata": {},
   "outputs": [
    {
     "data": {
      "image/png": "[encoded data removed]",
      "text/plain": [
       "<matplotlib.figure.Figure at 0x7fe4e7596438>"
      ]
     },
     "metadata": {},
     "output_type": "display_data"
    },
    {
     "data": {
      "image/png": "[encoded data removed]",
      "text/plain": [
       "<matplotlib.figure.Figure at 0x7fe4e6864160>"
      ]
     },
     "metadata": {},
     "output_type": "display_data"
    }
   ],
   "source": [
    "#rx.drop(\"Time\", axis=1, inplace=True)\n",
    "rx = rx[rx.columns[1:]].clip(0, 5000)\n",
    "rx.plot(kind=\"density\")\n",
    "plotter.show()\n",
    "rx.plot(kind=\"box\")\n",
    "plotter.show()"
   ]
  },
  {
   "cell_type": "code",
   "execution_count": 16,
   "metadata": {},
   "outputs": [
    {
     "data": {
      "text/html": [
       "<div>\n",
       "<style scoped>\n",
       "    .dataframe tbody tr th:only-of-type {\n",
       "        vertical-align: middle;\n",
       "    }\n",
       "\n",
       "    .dataframe tbody tr th {\n",
       "        vertical-align: top;\n",
       "    }\n",
       "\n",
       "    .dataframe thead th {\n",
       "        text-align: right;\n",
       "    }\n",
       "</style>\n",
       "<table border=\"1\" class=\"dataframe\">\n",
       "  <thead>\n",
       "    <tr style=\"text-align: right;\">\n",
       "      <th></th>\n",
       "      <th>cpu_value host raspberrypi_pc008 type_instance idle</th>\n",
       "      <th>cpu_value host raspberrypi_pc008 type_instance softirq</th>\n",
       "      <th>cpu_value host raspberrypi_pc008 type_instance system</th>\n",
       "      <th>cpu_value host raspberrypi_pc008 type_instance user</th>\n",
       "      <th>cpu_value host raspberrypi_pc008 type_instance wait</th>\n",
       "      <th>interface_tx host raspberrypi_pc008 instance wlan0 type if_octets</th>\n",
       "      <th>interface_tx host raspberrypi_pc008 instance wlan0 type if_packets</th>\n",
       "      <th>interface_rx host raspberrypi_pc008 instance wlan0 type if_octets</th>\n",
       "      <th>interface_rx host raspberrypi_pc008 instance wlan0 type if_packets</th>\n",
       "      <th>contextswitch_value host raspberrypi_pc008 type contextswitch</th>\n",
       "      <th>disk_io_time host raspberrypi_pc008 instance mmcblk0 type disk_io_time</th>\n",
       "      <th>disk_io_time host raspberrypi_pc008 instance mmcblk0p2 type disk_io_time</th>\n",
       "      <th>power</th>\n",
       "    </tr>\n",
       "  </thead>\n",
       "  <tbody>\n",
       "    <tr>\n",
       "      <th>count</th>\n",
       "      <td>48892.000000</td>\n",
       "      <td>48892.000000</td>\n",
       "      <td>48892.000000</td>\n",
       "      <td>48892.000000</td>\n",
       "      <td>48892.000000</td>\n",
       "      <td>48892.000000</td>\n",
       "      <td>48892.000000</td>\n",
       "      <td>48892.000000</td>\n",
       "      <td>48892.000000</td>\n",
       "      <td>48892.000000</td>\n",
       "      <td>48892.000000</td>\n",
       "      <td>48892.000000</td>\n",
       "      <td>48892.000000</td>\n",
       "    </tr>\n",
       "    <tr>\n",
       "      <th>mean</th>\n",
       "      <td>439.066382</td>\n",
       "      <td>0.086141</td>\n",
       "      <td>2.517826</td>\n",
       "      <td>56.672720</td>\n",
       "      <td>0.058682</td>\n",
       "      <td>64272.552964</td>\n",
       "      <td>56.371475</td>\n",
       "      <td>1111.900089</td>\n",
       "      <td>9.541394</td>\n",
       "      <td>1446.570649</td>\n",
       "      <td>118.589306</td>\n",
       "      <td>118.589306</td>\n",
       "      <td>1464.445291</td>\n",
       "    </tr>\n",
       "    <tr>\n",
       "      <th>std</th>\n",
       "      <td>60.568759</td>\n",
       "      <td>2.674686</td>\n",
       "      <td>5.955464</td>\n",
       "      <td>59.996647</td>\n",
       "      <td>1.165860</td>\n",
       "      <td>60157.248962</td>\n",
       "      <td>40.099041</td>\n",
       "      <td>191.807952</td>\n",
       "      <td>1.867821</td>\n",
       "      <td>556.349199</td>\n",
       "      <td>340.959719</td>\n",
       "      <td>340.958011</td>\n",
       "      <td>154.399535</td>\n",
       "    </tr>\n",
       "    <tr>\n",
       "      <th>min</th>\n",
       "      <td>0.000000</td>\n",
       "      <td>0.000000</td>\n",
       "      <td>0.000000</td>\n",
       "      <td>0.000000</td>\n",
       "      <td>0.000000</td>\n",
       "      <td>12546.000000</td>\n",
       "      <td>10.666667</td>\n",
       "      <td>0.000000</td>\n",
       "      <td>0.000000</td>\n",
       "      <td>561.666667</td>\n",
       "      <td>0.000000</td>\n",
       "      <td>0.000000</td>\n",
       "      <td>0.000000</td>\n",
       "    </tr>\n",
       "    <tr>\n",
       "      <th>25%</th>\n",
       "      <td>367.958333</td>\n",
       "      <td>0.000000</td>\n",
       "      <td>1.625000</td>\n",
       "      <td>3.500000</td>\n",
       "      <td>0.000000</td>\n",
       "      <td>16505.000000</td>\n",
       "      <td>25.000000</td>\n",
       "      <td>1134.000000</td>\n",
       "      <td>9.500000</td>\n",
       "      <td>1137.833333</td>\n",
       "      <td>0.000000</td>\n",
       "      <td>0.000000</td>\n",
       "      <td>1340.243902</td>\n",
       "    </tr>\n",
       "    <tr>\n",
       "      <th>50%</th>\n",
       "      <td>491.750000</td>\n",
       "      <td>0.000000</td>\n",
       "      <td>1.958333</td>\n",
       "      <td>4.458333</td>\n",
       "      <td>0.000000</td>\n",
       "      <td>17328.333333</td>\n",
       "      <td>25.833333</td>\n",
       "      <td>1160.000000</td>\n",
       "      <td>10.000000</td>\n",
       "      <td>1260.833333</td>\n",
       "      <td>0.000000</td>\n",
       "      <td>0.000000</td>\n",
       "      <td>1409.756098</td>\n",
       "    </tr>\n",
       "    <tr>\n",
       "      <th>75%</th>\n",
       "      <td>492.625000</td>\n",
       "      <td>0.083333</td>\n",
       "      <td>2.333333</td>\n",
       "      <td>127.875000</td>\n",
       "      <td>0.000000</td>\n",
       "      <td>140867.000000</td>\n",
       "      <td>107.833333</td>\n",
       "      <td>1160.000000</td>\n",
       "      <td>10.000000</td>\n",
       "      <td>1432.833333</td>\n",
       "      <td>0.000000</td>\n",
       "      <td>0.000000</td>\n",
       "      <td>1598.475610</td>\n",
       "    </tr>\n",
       "    <tr>\n",
       "      <th>max</th>\n",
       "      <td>600.000000</td>\n",
       "      <td>313.750000</td>\n",
       "      <td>600.000000</td>\n",
       "      <td>600.000000</td>\n",
       "      <td>229.100000</td>\n",
       "      <td>169240.666667</td>\n",
       "      <td>207.500000</td>\n",
       "      <td>5000.000000</td>\n",
       "      <td>113.000000</td>\n",
       "      <td>15098.333333</td>\n",
       "      <td>1610.000000</td>\n",
       "      <td>1610.000000</td>\n",
       "      <td>2171.951220</td>\n",
       "    </tr>\n",
       "  </tbody>\n",
       "</table>\n",
       "</div>"
      ],
      "text/plain": [
       "       cpu_value host raspberrypi_pc008 type_instance idle  \\\n",
       "count                                       48892.000000     \n",
       "mean                                          439.066382     \n",
       "std                                            60.568759     \n",
       "min                                             0.000000     \n",
       "25%                                           367.958333     \n",
       "50%                                           491.750000     \n",
       "75%                                           492.625000     \n",
       "max                                           600.000000     \n",
       "\n",
       "       cpu_value host raspberrypi_pc008 type_instance softirq  \\\n",
       "count                                       48892.000000        \n",
       "mean                                            0.086141        \n",
       "std                                             2.674686        \n",
       "min                                             0.000000        \n",
       "25%                                             0.000000        \n",
       "50%                                             0.000000        \n",
       "75%                                             0.083333        \n",
       "max                                           313.750000        \n",
       "\n",
       "       cpu_value host raspberrypi_pc008 type_instance system  \\\n",
       "count                                       48892.000000       \n",
       "mean                                            2.517826       \n",
       "std                                             5.955464       \n",
       "min                                             0.000000       \n",
       "25%                                             1.625000       \n",
       "50%                                             1.958333       \n",
       "75%                                             2.333333       \n",
       "max                                           600.000000       \n",
       "\n",
       "       cpu_value host raspberrypi_pc008 type_instance user  \\\n",
       "count                                       48892.000000     \n",
       "mean                                           56.672720     \n",
       "std                                            59.996647     \n",
       "min                                             0.000000     \n",
       "25%                                             3.500000     \n",
       "50%                                             4.458333     \n",
       "75%                                           127.875000     \n",
       "max                                           600.000000     \n",
       "\n",
       "       cpu_value host raspberrypi_pc008 type_instance wait  \\\n",
       "count                                       48892.000000     \n",
       "mean                                            0.058682     \n",
       "std                                             1.165860     \n",
       "min                                             0.000000     \n",
       "25%                                             0.000000     \n",
       "50%                                             0.000000     \n",
       "75%                                             0.000000     \n",
       "max                                           229.100000     \n",
       "\n",
       "       interface_tx host raspberrypi_pc008 instance wlan0 type if_octets  \\\n",
       "count                                       48892.000000                   \n",
       "mean                                        64272.552964                   \n",
       "std                                         60157.248962                   \n",
       "min                                         12546.000000                   \n",
       "25%                                         16505.000000                   \n",
       "50%                                         17328.333333                   \n",
       "75%                                        140867.000000                   \n",
       "max                                        169240.666667                   \n",
       "\n",
       "       interface_tx host raspberrypi_pc008 instance wlan0 type if_packets  \\\n",
       "count                                       48892.000000                    \n",
       "mean                                           56.371475                    \n",
       "std                                            40.099041                    \n",
       "min                                            10.666667                    \n",
       "25%                                            25.000000                    \n",
       "50%                                            25.833333                    \n",
       "75%                                           107.833333                    \n",
       "max                                           207.500000                    \n",
       "\n",
       "       interface_rx host raspberrypi_pc008 instance wlan0 type if_octets  \\\n",
       "count                                       48892.000000                   \n",
       "mean                                         1111.900089                   \n",
       "std                                           191.807952                   \n",
       "min                                             0.000000                   \n",
       "25%                                          1134.000000                   \n",
       "50%                                          1160.000000                   \n",
       "75%                                          1160.000000                   \n",
       "max                                          5000.000000                   \n",
       "\n",
       "       interface_rx host raspberrypi_pc008 instance wlan0 type if_packets  \\\n",
       "count                                       48892.000000                    \n",
       "mean                                            9.541394                    \n",
       "std                                             1.867821                    \n",
       "min                                             0.000000                    \n",
       "25%                                             9.500000                    \n",
       "50%                                            10.000000                    \n",
       "75%                                            10.000000                    \n",
       "max                                           113.000000                    \n",
       "\n",
       "       contextswitch_value host raspberrypi_pc008 type contextswitch  \\\n",
       "count                                       48892.000000               \n",
       "mean                                         1446.570649               \n",
       "std                                           556.349199               \n",
       "min                                           561.666667               \n",
       "25%                                          1137.833333               \n",
       "50%                                          1260.833333               \n",
       "75%                                          1432.833333               \n",
       "max                                         15098.333333               \n",
       "\n",
       "       disk_io_time host raspberrypi_pc008 instance mmcblk0 type disk_io_time  \\\n",
       "count                                       48892.000000                        \n",
       "mean                                          118.589306                        \n",
       "std                                           340.959719                        \n",
       "min                                             0.000000                        \n",
       "25%                                             0.000000                        \n",
       "50%                                             0.000000                        \n",
       "75%                                             0.000000                        \n",
       "max                                          1610.000000                        \n",
       "\n",
       "       disk_io_time host raspberrypi_pc008 instance mmcblk0p2 type disk_io_time  \\\n",
       "count                                       48892.000000                          \n",
       "mean                                          118.589306                          \n",
       "std                                           340.958011                          \n",
       "min                                             0.000000                          \n",
       "25%                                             0.000000                          \n",
       "50%                                             0.000000                          \n",
       "75%                                             0.000000                          \n",
       "max                                          1610.000000                          \n",
       "\n",
       "              power  \n",
       "count  48892.000000  \n",
       "mean    1464.445291  \n",
       "std      154.399535  \n",
       "min        0.000000  \n",
       "25%     1340.243902  \n",
       "50%     1409.756098  \n",
       "75%     1598.475610  \n",
       "max     2171.951220  "
      ]
     },
     "execution_count": 16,
     "metadata": {},
     "output_type": "execute_result"
    }
   ],
   "source": [
    "all_data = pandas.concat([cpu, tx, rx, context, disk, power], axis=1, join=\"inner\").drop(\"Time\", axis=1).fillna(0)\n",
    "all_data.describe()"
   ]
  },
  {
   "cell_type": "code",
   "execution_count": 17,
   "metadata": {},
   "outputs": [
    {
     "data": {
      "text/plain": [
       "(48892, 13)"
      ]
     },
     "execution_count": 17,
     "metadata": {},
     "output_type": "execute_result"
    }
   ],
   "source": [
    "all_data.shape"
   ]
  },
  {
   "cell_type": "markdown",
   "metadata": {},
   "source": [
    "## Recale Data between 0 and 1"
   ]
  },
  {
   "cell_type": "code",
   "execution_count": 18,
   "metadata": {},
   "outputs": [
    {
     "data": {
      "text/html": [
       "<div>\n",
       "<style scoped>\n",
       "    .dataframe tbody tr th:only-of-type {\n",
       "        vertical-align: middle;\n",
       "    }\n",
       "\n",
       "    .dataframe tbody tr th {\n",
       "        vertical-align: top;\n",
       "    }\n",
       "\n",
       "    .dataframe thead th {\n",
       "        text-align: right;\n",
       "    }\n",
       "</style>\n",
       "<table border=\"1\" class=\"dataframe\">\n",
       "  <thead>\n",
       "    <tr style=\"text-align: right;\">\n",
       "      <th></th>\n",
       "      <th>idle</th>\n",
       "      <th>softirq</th>\n",
       "      <th>system</th>\n",
       "      <th>user</th>\n",
       "      <th>wait</th>\n",
       "      <th>if_octets</th>\n",
       "      <th>if_packets</th>\n",
       "      <th>if_octets</th>\n",
       "      <th>if_packets</th>\n",
       "      <th>contextswitch</th>\n",
       "      <th>disk_io_time</th>\n",
       "      <th>disk_io_p2</th>\n",
       "      <th>power</th>\n",
       "    </tr>\n",
       "  </thead>\n",
       "  <tbody>\n",
       "    <tr>\n",
       "      <th>0</th>\n",
       "      <td>0.812222</td>\n",
       "      <td>0.000531</td>\n",
       "      <td>0.008611</td>\n",
       "      <td>0.010208</td>\n",
       "      <td>0.000000</td>\n",
       "      <td>0.037073</td>\n",
       "      <td>0.121084</td>\n",
       "      <td>0.371200</td>\n",
       "      <td>0.141593</td>\n",
       "      <td>0.058989</td>\n",
       "      <td>0.000000</td>\n",
       "      <td>0.000000</td>\n",
       "      <td>0.0</td>\n",
       "    </tr>\n",
       "    <tr>\n",
       "      <th>1</th>\n",
       "      <td>0.812361</td>\n",
       "      <td>0.000000</td>\n",
       "      <td>0.008472</td>\n",
       "      <td>0.010069</td>\n",
       "      <td>0.000000</td>\n",
       "      <td>0.042055</td>\n",
       "      <td>0.148180</td>\n",
       "      <td>0.461067</td>\n",
       "      <td>0.179941</td>\n",
       "      <td>0.068895</td>\n",
       "      <td>0.000000</td>\n",
       "      <td>0.000000</td>\n",
       "      <td>0.0</td>\n",
       "    </tr>\n",
       "    <tr>\n",
       "      <th>2</th>\n",
       "      <td>0.812014</td>\n",
       "      <td>0.000000</td>\n",
       "      <td>0.006944</td>\n",
       "      <td>0.010556</td>\n",
       "      <td>0.000000</td>\n",
       "      <td>0.045478</td>\n",
       "      <td>0.147333</td>\n",
       "      <td>0.458133</td>\n",
       "      <td>0.182891</td>\n",
       "      <td>0.067496</td>\n",
       "      <td>0.000000</td>\n",
       "      <td>0.000000</td>\n",
       "      <td>0.0</td>\n",
       "    </tr>\n",
       "    <tr>\n",
       "      <th>3</th>\n",
       "      <td>0.788125</td>\n",
       "      <td>0.000531</td>\n",
       "      <td>0.013333</td>\n",
       "      <td>0.026667</td>\n",
       "      <td>0.000000</td>\n",
       "      <td>0.050690</td>\n",
       "      <td>0.165961</td>\n",
       "      <td>0.510867</td>\n",
       "      <td>0.212389</td>\n",
       "      <td>0.088982</td>\n",
       "      <td>0.000000</td>\n",
       "      <td>0.000000</td>\n",
       "      <td>0.0</td>\n",
       "    </tr>\n",
       "    <tr>\n",
       "      <th>4</th>\n",
       "      <td>0.790625</td>\n",
       "      <td>0.000266</td>\n",
       "      <td>0.012083</td>\n",
       "      <td>0.025833</td>\n",
       "      <td>0.000546</td>\n",
       "      <td>0.067298</td>\n",
       "      <td>0.233700</td>\n",
       "      <td>0.833733</td>\n",
       "      <td>0.398230</td>\n",
       "      <td>0.120328</td>\n",
       "      <td>0.006211</td>\n",
       "      <td>0.006211</td>\n",
       "      <td>0.0</td>\n",
       "    </tr>\n",
       "  </tbody>\n",
       "</table>\n",
       "</div>"
      ],
      "text/plain": [
       "       idle   softirq    system      user      wait  if_octets  if_packets  \\\n",
       "0  0.812222  0.000531  0.008611  0.010208  0.000000   0.037073    0.121084   \n",
       "1  0.812361  0.000000  0.008472  0.010069  0.000000   0.042055    0.148180   \n",
       "2  0.812014  0.000000  0.006944  0.010556  0.000000   0.045478    0.147333   \n",
       "3  0.788125  0.000531  0.013333  0.026667  0.000000   0.050690    0.165961   \n",
       "4  0.790625  0.000266  0.012083  0.025833  0.000546   0.067298    0.233700   \n",
       "\n",
       "   if_octets  if_packets  contextswitch  disk_io_time  disk_io_p2  power  \n",
       "0   0.371200    0.141593       0.058989      0.000000    0.000000    0.0  \n",
       "1   0.461067    0.179941       0.068895      0.000000    0.000000    0.0  \n",
       "2   0.458133    0.182891       0.067496      0.000000    0.000000    0.0  \n",
       "3   0.510867    0.212389       0.088982      0.000000    0.000000    0.0  \n",
       "4   0.833733    0.398230       0.120328      0.006211    0.006211    0.0  "
      ]
     },
     "execution_count": 18,
     "metadata": {},
     "output_type": "execute_result"
    }
   ],
   "source": [
    "from sklearn.preprocessing import MinMaxScaler, StandardScaler\n",
    "\n",
    "scaler = MinMaxScaler()\n",
    "sscaler = StandardScaler()\n",
    "columns = list(map(lambda x: x.split()[-1], all_data.columns))\n",
    "columns[-2] = \"disk_io_p2\"\n",
    "\n",
    "all_data = pandas.DataFrame(scaler.fit_transform(all_data.as_matrix()), columns=columns)\n",
    "\n",
    "all_data.head(5)"
   ]
  },
  {
   "cell_type": "markdown",
   "metadata": {},
   "source": [
    "## Write Data loaders"
   ]
  },
  {
   "cell_type": "code",
   "execution_count": 19,
   "metadata": {},
   "outputs": [],
   "source": [
    "class DataLoader:\n",
    "    \"\"\"\n",
    "        Defines data loader for seq2point model.\n",
    "    \"\"\"\n",
    "    \n",
    "    def __init__(self, X, window=5):\n",
    "        self.X = X\n",
    "        self.window = window\n",
    "        \n",
    "    def __len__(self):\n",
    "        return (self.X.shape[0]-(self.window+1))\n",
    "    \n",
    "    def __getitem__(self, i):\n",
    "        \"\"\"\n",
    "            Returns single batch of data in flat seq2point compatible format.\n",
    "        \"\"\"\n",
    "        X = self.X[i: i+self.window]\n",
    "        y = self.X[i: i+self.window]\n",
    "        \n",
    "        return (X, y)\n",
    "\n",
    "\n",
    "class BatchLoader:\n",
    "    \"\"\"\n",
    "        Creates batches from data provided by dataloader.\n",
    "    \"\"\"\n",
    "    \n",
    "    def __init__(self, dataloader, batch_size=32, random=False):\n",
    "        self.dloader = dataloader\n",
    "        self.batch_size = batch_size\n",
    "        self.samples = list(range(len(self.dloader)))\n",
    "        self.random = random\n",
    "        \n",
    "    def __len__(self):\n",
    "        return int(len(self.dloader)/self.batch_size) - 1\n",
    "        \n",
    "    def __getitem__(self, i):\n",
    "        i = i*self.batch_size\n",
    "        _samples = self.samples[i: i+self.batch_size]\n",
    "        \n",
    "        if self.random:\n",
    "            shuffle(_samples)\n",
    "        \n",
    "        X=[]\n",
    "        y=[]\n",
    "        \n",
    "        for j in range(len(_samples)):\n",
    "            _X, _y = self.dloader[_samples[j]]\n",
    "            X.append(_X.ravel())\n",
    "            y.append(_y)\n",
    "        \n",
    "        return numpy.array(X), numpy.array(y)"
   ]
  },
  {
   "cell_type": "code",
   "execution_count": 20,
   "metadata": {},
   "outputs": [],
   "source": [
    "class ConvBatchLoader:\n",
    "    \"\"\"\n",
    "        Creates conv batches from data provided by dataloader.\n",
    "    \"\"\"\n",
    "    \n",
    "    def __init__(self, dataloader, batch_size=32):\n",
    "        self.dloader = dataloader\n",
    "        self.batch_size = batch_size\n",
    "        self.samples = list(range(len(self.dloader)))\n",
    "        \n",
    "    def __len__(self):\n",
    "        return int(len(self.dloader)/self.batch_size) - 1\n",
    "        \n",
    "    def __getitem__(self, i):\n",
    "        i = i*self.batch_size\n",
    "        _samples = self.samples[i: i+self.batch_size]\n",
    "        \n",
    "        X=[]\n",
    "        y=[]\n",
    "        \n",
    "        for j in range(len(_samples)):\n",
    "            _X, _y = self.dloader[_samples[j]]\n",
    "            X.append(_X)\n",
    "            y.append(_y)\n",
    "        \n",
    "        return numpy.array(X), numpy.array(y)"
   ]
  },
  {
   "cell_type": "markdown",
   "metadata": {},
   "source": [
    "### Model"
   ]
  },
  {
   "cell_type": "code",
   "execution_count": 127,
   "metadata": {},
   "outputs": [],
   "source": [
    "from keras.layers import Conv1D, Input, Dense, Flatten, MaxPooling1D, LSTM, Concatenate, Bidirectional\n",
    "from keras.models import Model\n",
    "from keras.callbacks import EarlyStopping, ReduceLROnPlateau\n",
    "from sklearn.metrics import mean_absolute_error"
   ]
  },
  {
   "cell_type": "code",
   "execution_count": null,
   "metadata": {},
   "outputs": [],
   "source": []
  },
  {
   "cell_type": "code",
   "execution_count": 128,
   "metadata": {},
   "outputs": [],
   "source": [
    "loader = ConvBatchLoader(dataloader=DataLoader(X=all_data[\"power\"].as_matrix()[:40000, numpy.newaxis], y=all_data[\"user\"].as_matrix()[:20000], window=201), batch_size=64)"
   ]
  },
  {
   "cell_type": "code",
   "execution_count": 131,
   "metadata": {},
   "outputs": [],
   "source": [
    "def data_gen():\n",
    "    while 1:\n",
    "        for i in range(len(loader)):\n",
    "            yield loader[i]"
   ]
  }
 ],
 "metadata": {
  "kernelspec": {
   "display_name": "Python 3",
   "language": "python",
   "name": "python3"
  },
  "language_info": {
   "codemirror_mode": {
    "name": "ipython",
    "version": 3
   },
   "file_extension": ".py",
   "mimetype": "text/x-python",
   "name": "python",
   "nbconvert_exporter": "python",
   "pygments_lexer": "ipython3",
   "version": "3.6.5"
  }
 },
 "nbformat": 4,
 "nbformat_minor": 2
}
