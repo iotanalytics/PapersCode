{
 "cells": [
  {
   "cell_type": "markdown",
   "metadata": {},
   "source": [
    "# ANSI Application analysis"
   ]
  },
  {
   "cell_type": "code",
   "execution_count": null,
   "metadata": {
    "collapsed": true
   },
   "outputs": [],
   "source": [
    "import numpy\n",
    "import pandas\n",
    "import matplotlib\n",
    "import matplotlib.pyplot as plotter\n",
    "from scipy.stats import pearsonr, probplot\n",
    "from sklearn.metrics import mean_squared_error, mean_absolute_error, f1_score\n",
    "matplotlib.rcParams['agg.path.chunksize'] = 10000"
   ]
  },
  {
   "cell_type": "code",
   "execution_count": null,
   "metadata": {
    "collapsed": true
   },
   "outputs": [],
   "source": [
    "def view_boxplot(df):\n",
    "    %matplotlib\n",
    "    df.boxplot()\n",
    "    plotter.show()"
   ]
  },
  {
   "cell_type": "markdown",
   "metadata": {},
   "source": [
    "## CPU data"
   ]
  },
  {
   "cell_type": "code",
   "execution_count": null,
   "metadata": {
    "collapsed": true
   },
   "outputs": [],
   "source": [
    "cpu_df = pandas.read_csv('data/ansi_final/ansi_final_cpu.csv', index_col='Time').drop('Unnamed: 0', axis=1)"
   ]
  },
  {
   "cell_type": "code",
   "execution_count": null,
   "metadata": {
    "collapsed": true,
    "scrolled": false
   },
   "outputs": [],
   "source": [
    "#cpu_df.columns"
   ]
  },
  {
   "cell_type": "code",
   "execution_count": 5,
   "metadata": {
    "collapsed": true
   },
   "outputs": [],
   "source": [
    "cpu_df = cpu_df.clip(lower=0, upper=1000)\n",
    "#view_boxplot(cpu_df)"
   ]
  },
  {
   "cell_type": "markdown",
   "metadata": {},
   "source": [
    "## Network TX"
   ]
  },
  {
   "cell_type": "code",
   "execution_count": 6,
   "metadata": {
    "collapsed": true
   },
   "outputs": [],
   "source": [
    "txnet_df = pandas.read_csv('data/ansi_final/ansi_final_network_tx.csv', index_col='Time').drop('Unnamed: 0', axis=1)"
   ]
  },
  {
   "cell_type": "code",
   "execution_count": 7,
   "metadata": {
    "collapsed": true
   },
   "outputs": [],
   "source": [
    "#txnet_df.columns"
   ]
  },
  {
   "cell_type": "code",
   "execution_count": 8,
   "metadata": {
    "collapsed": true
   },
   "outputs": [],
   "source": [
    "txnet_df = txnet_df.clip(lower=0, upper=50000)\n",
    "#view_boxplot(txnet_df)"
   ]
  },
  {
   "cell_type": "markdown",
   "metadata": {},
   "source": [
    "## Network RX"
   ]
  },
  {
   "cell_type": "code",
   "execution_count": 9,
   "metadata": {
    "collapsed": true
   },
   "outputs": [],
   "source": [
    "rxnet_df = pandas.read_csv('data/ansi_final/ansi_final_network_rx.csv', index_col='Time').drop('Unnamed: 0', axis=1)"
   ]
  },
  {
   "cell_type": "code",
   "execution_count": 10,
   "metadata": {
    "collapsed": true
   },
   "outputs": [],
   "source": [
    "#rxnet_df.columns"
   ]
  },
  {
   "cell_type": "code",
   "execution_count": 11,
   "metadata": {
    "collapsed": true
   },
   "outputs": [],
   "source": [
    "rxnet_df = rxnet_df.clip(lower=0, upper=15000)\n",
    "#view_boxplot(rxnet_df)"
   ]
  },
  {
   "cell_type": "markdown",
   "metadata": {},
   "source": [
    "## Disk IO data"
   ]
  },
  {
   "cell_type": "code",
   "execution_count": 12,
   "metadata": {
    "collapsed": true
   },
   "outputs": [],
   "source": [
    "disk_df = pandas.read_csv('data/ansi_final/ansi_final_disk_io.csv', index_col='Time').drop('Unnamed: 0', axis=1)"
   ]
  },
  {
   "cell_type": "code",
   "execution_count": 13,
   "metadata": {
    "collapsed": true
   },
   "outputs": [],
   "source": [
    "#disk_df.columns"
   ]
  },
  {
   "cell_type": "code",
   "execution_count": 14,
   "metadata": {
    "collapsed": true
   },
   "outputs": [],
   "source": [
    "disk_df = disk_df.clip(lower=0, upper=4000)\n",
    "#view_boxplot(disk_df)"
   ]
  },
  {
   "cell_type": "markdown",
   "metadata": {},
   "source": [
    "## Context switching"
   ]
  },
  {
   "cell_type": "code",
   "execution_count": 15,
   "metadata": {
    "collapsed": true
   },
   "outputs": [],
   "source": [
    "context_df = pandas.read_csv('data/ansi_final/ansi_final_context.csv', index_col='Time').drop('Unnamed: 0', axis=1)"
   ]
  },
  {
   "cell_type": "code",
   "execution_count": 16,
   "metadata": {
    "collapsed": true
   },
   "outputs": [],
   "source": [
    "#context_df.columns"
   ]
  },
  {
   "cell_type": "code",
   "execution_count": 17,
   "metadata": {
    "collapsed": true
   },
   "outputs": [],
   "source": [
    "context_df = context_df.clip(lower=0, upper=5000)\n",
    "#view_boxplot(context_df)"
   ]
  },
  {
   "cell_type": "markdown",
   "metadata": {},
   "source": [
    "## Seperate into proper dataframes for each node"
   ]
  },
  {
   "cell_type": "code",
   "execution_count": 18,
   "metadata": {
    "collapsed": true
   },
   "outputs": [],
   "source": [
    "dframes = [cpu_df, txnet_df, rxnet_df, context_df, disk_df]\n",
    "node = {}\n",
    "\n",
    "for i in range(1,13):\n",
    "    frames = []\n",
    "    \n",
    "    for dframe in dframes:\n",
    "        columns = list(filter(lambda x: f'bb{i}l' in x, dframe.columns))\n",
    "        frames.append(dframe[columns])\n",
    "\n",
    "    node[i] = pandas.concat(frames, join='inner', axis=1).fillna(0)[:68300]"
   ]
  },
  {
   "cell_type": "code",
   "execution_count": 19,
   "metadata": {},
   "outputs": [
    {
     "name": "stdout",
     "output_type": "stream",
     "text": [
      "(68300, 29)\n",
      "(68300, 29)\n",
      "(68300, 29)\n",
      "(68300, 29)\n",
      "(68300, 29)\n",
      "(68300, 29)\n",
      "(68300, 29)\n",
      "(68300, 29)\n",
      "(68300, 29)\n",
      "(68300, 29)\n",
      "(68300, 29)\n",
      "(68300, 29)\n",
      "0: cpu_value host bb1localdomain type_instance idle\n",
      "1: cpu_value host bb1localdomain type_instance interrupt\n",
      "2: cpu_value host bb1localdomain type_instance nice\n",
      "3: cpu_value host bb1localdomain type_instance softirq\n",
      "4: cpu_value host bb1localdomain type_instance steal\n",
      "5: cpu_value host bb1localdomain type_instance system\n",
      "6: cpu_value host bb1localdomain type_instance user\n",
      "7: cpu_value host bb1localdomain type_instance wait\n",
      "8: interface_tx host bb1localdomain instance lo type if_dropped\n",
      "9: interface_tx host bb1localdomain instance lo type if_errors\n",
      "10: interface_tx host bb1localdomain instance lo type if_octets\n",
      "11: interface_tx host bb1localdomain instance lo type if_packets\n",
      "12: interface_tx host bb1localdomain instance wlan0 type if_dropped\n",
      "13: interface_tx host bb1localdomain instance wlan0 type if_errors\n",
      "14: interface_tx host bb1localdomain instance wlan0 type if_octets\n",
      "15: interface_tx host bb1localdomain instance wlan0 type if_packets\n",
      "16: interface_rx host bb1localdomain instance lo type if_dropped\n",
      "17: interface_rx host bb1localdomain instance lo type if_errors\n",
      "18: interface_rx host bb1localdomain instance lo type if_octets\n",
      "19: interface_rx host bb1localdomain instance lo type if_packets\n",
      "20: interface_rx host bb1localdomain instance wlan0 type if_dropped\n",
      "21: interface_rx host bb1localdomain instance wlan0 type if_errors\n",
      "22: interface_rx host bb1localdomain instance wlan0 type if_octets\n",
      "23: interface_rx host bb1localdomain instance wlan0 type if_packets\n",
      "24: contextswitch_value host bb1localdomain type contextswitch\n",
      "25: disk_io_time host bb1localdomain instance mmcblk1 type disk_io_time\n",
      "26: disk_io_time host bb1localdomain instance mmcblk1boot0 type disk_io_time\n",
      "27: disk_io_time host bb1localdomain instance mmcblk1boot1 type disk_io_time\n",
      "28: disk_io_time host bb1localdomain instance mmcblk1p1 type disk_io_time\n"
     ]
    }
   ],
   "source": [
    "for i in range(1,13):\n",
    "    print(node[i].shape)\n",
    "    \n",
    "for i in range(len(node[1].columns)):\n",
    "    print(f\"{i}: {node[1].columns[i]}\")"
   ]
  },
  {
   "cell_type": "markdown",
   "metadata": {},
   "source": [
    "## Get data"
   ]
  },
  {
   "cell_type": "code",
   "execution_count": 20,
   "metadata": {
    "collapsed": true
   },
   "outputs": [],
   "source": [
    "data_matrices = []\n",
    "\n",
    "for i in range(1,13):\n",
    "    data_matrices.append(node[i].as_matrix())\n",
    "    \n",
    "data = numpy.vstack(data_matrices)"
   ]
  },
  {
   "cell_type": "code",
   "execution_count": 21,
   "metadata": {},
   "outputs": [
    {
     "data": {
      "text/plain": [
       "(819600, 29)"
      ]
     },
     "execution_count": 21,
     "metadata": {},
     "output_type": "execute_result"
    }
   ],
   "source": [
    "data.shape"
   ]
  },
  {
   "cell_type": "code",
   "execution_count": 22,
   "metadata": {},
   "outputs": [
    {
     "data": {
      "image/png": "[encoded data removed]",
      "text/plain": [
       "<matplotlib.figure.Figure at 0x7efffabd13c8>"
      ]
     },
     "metadata": {},
     "output_type": "display_data"
    },
    {
     "name": "stdout",
     "output_type": "stream",
     "text": [
      "(819600, 29)\n"
     ]
    }
   ],
   "source": [
    "tdata = data[:,24]\n",
    "plotter.plot(tdata.T)\n",
    "plotter.show()\n",
    "print(data.shape)"
   ]
  },
  {
   "cell_type": "code",
   "execution_count": 23,
   "metadata": {
    "collapsed": true
   },
   "outputs": [],
   "source": [
    "#data = data[:,24]"
   ]
  },
  {
   "cell_type": "markdown",
   "metadata": {},
   "source": [
    "## Prepare scaler"
   ]
  },
  {
   "cell_type": "code",
   "execution_count": 24,
   "metadata": {
    "collapsed": true
   },
   "outputs": [],
   "source": [
    "from sklearn.preprocessing import MinMaxScaler\n",
    "from sklearn.preprocessing import StandardScaler\n",
    "from sklearn.preprocessing import RobustScaler\n",
    "scaler = MinMaxScaler()"
   ]
  },
  {
   "cell_type": "code",
   "execution_count": null,
   "metadata": {
    "collapsed": true
   },
   "outputs": [],
   "source": [
    "scaler.fit(data)\n",
    "del data"
   ]
  },
  {
   "cell_type": "markdown",
   "metadata": {},
   "source": [
    "---"
   ]
  },
  {
   "cell_type": "markdown",
   "metadata": {},
   "source": [
    "## Correrlation measurement"
   ]
  },
  {
   "cell_type": "markdown",
   "metadata": {},
   "source": [
    "---"
   ]
  },
  {
   "cell_type": "markdown",
   "metadata": {},
   "source": [
    "------"
   ]
  },
  {
   "cell_type": "markdown",
   "metadata": {},
   "source": [
    "-----"
   ]
  },
  {
   "cell_type": "code",
   "execution_count": null,
   "metadata": {},
   "outputs": [],
   "source": []
  },
  {
   "cell_type": "code",
   "execution_count": null,
   "metadata": {},
   "outputs": [],
   "source": [
    "for i in range(len(data_matrices)):\n",
    "    \n",
    "    transformed = scaler.transform(data_matrices[i])\n",
    "    data_matrices[i] = transformed\n",
    "\n",
    "X = numpy.stack(data_matrices[:4], axis=1)\n",
    "test = numpy.stack(data_matrices[4:], axis=1)\n",
    "print(X.shape)\n",
    "print(test.shape)"
   ]
  },
  {
   "cell_type": "code",
   "execution_count": null,
   "metadata": {},
   "outputs": [],
   "source": [
    "print(X.shape)\n",
    "LEN = X.shape[0]\n",
    "SPLIT = int(0.8*LEN)\n",
    "\n",
    "train_X = X[:SPLIT,:,:]\n",
    "val_X = X[SPLIT:,:,:]\n",
    "\n",
    "print(train_X.shape)\n",
    "print(val_X.shape)"
   ]
  },
  {
   "cell_type": "code",
   "execution_count": null,
   "metadata": {},
   "outputs": [],
   "source": [
    "test_X = numpy.transpose(test, (1,0,2))\n",
    "train_X = numpy.transpose(train_X, (1,0,2))\n",
    "val_X = numpy.transpose(val_X, (1,0,2))\n",
    "print(test_X.shape)\n",
    "print(train_X.shape)\n",
    "print(val_X.shape)"
   ]
  },
  {
   "cell_type": "code",
   "execution_count": null,
   "metadata": {
    "collapsed": true
   },
   "outputs": [],
   "source": [
    "def flat_generator(X, tsteps = 5, ravel=1):\n",
    "    i = 0\n",
    "    \n",
    "    while True:\n",
    "        batch_X = X[:,i:i+tsteps,:]\n",
    "        batch_y = X[:,i+tsteps,:]\n",
    "            \n",
    "        if ravel:\n",
    "            batch_X = batch_X.reshape((batch_X.shape[0], -1))\n",
    "        #print(batch_X.shape)\n",
    "        #print(batch_y.shape)\n",
    "        \n",
    "        yield batch_X, batch_y\n",
    "        \n",
    "        i += 1\n",
    "        if i > (X.shape[1] - tsteps - 1):\n",
    "            i = 0\n",
    "            continue"
   ]
  },
  {
   "cell_type": "code",
   "execution_count": null,
   "metadata": {},
   "outputs": [],
   "source": [
    "series = test_X[7,:,21]\n",
    "print(series.shape)\n",
    "plotter.ylim(0,1)\n",
    "plotter.plot(series)\n",
    "plotter.show()\n",
    "print(numpy.random.randint(29))"
   ]
  },
  {
   "cell_type": "code",
   "execution_count": null,
   "metadata": {},
   "outputs": [],
   "source": [
    "#avg_load = test_X[3,:,:]\n",
    "#disk_io_start_late = test_X[0,:,:]\n",
    "#app_change_early = test_X[1,:,:]\n",
    "#idle_early = test_X[4,:,:]\n",
    "normal_test = test_X[7,:,:]\n",
    "synth_test = test_X[7,2000:10000,:]"
   ]
  },
  {
   "cell_type": "code",
   "execution_count": null,
   "metadata": {},
   "outputs": [],
   "source": [
    "print(synth_test.shape)\n",
    "plotter.plot(synth_test[:,:])\n",
    "plotter.show()"
   ]
  },
  {
   "cell_type": "code",
   "execution_count": null,
   "metadata": {},
   "outputs": [],
   "source": [
    "def get_anomaly_labels(error, window_size, technique):\n",
    "    \n",
    "    if technique == \"rolling\":\n",
    "        arr = pandas.Series(error)\n",
    "        means = arr.rolling(window=moving_window).mean()\n",
    "        std = arr.rolling(window=moving_window).std()\n",
    "        \n",
    "    if technique == \"exp\":\n",
    "        arr = pandas.Series(error)\n",
    "        means = arr.ewma(halflife=moving_window).mean()\n",
    "        std = arr.ewma(halflife=moving_window).std()\n",
    "        \n",
    "    outlier = (arr > (means + 5.0 * std)) * 1.0\n",
    "    mark = numpy.ones(arr.shape[0]) * numpy.nan\n",
    "    \n",
    "    window = 100\n",
    "\n",
    "    for i in range(window,outlier.shape[0]):\n",
    "        num = window\n",
    "        outliers = numpy.sum(outlier[i-window:i])\n",
    "        per = outliers/num\n",
    "        if per > 0.04:\n",
    "            mark[i] = 1.0\n",
    "        else:\n",
    "            mark[i] = 0.0\n",
    "            \n",
    "    return mark\n",
    "\n",
    "def get_score(error, true, moving_window, name=\"none\", dataset_name=\"none\"):\n",
    "    \n",
    "    # For rolling window\n",
    "    labels = get_anomaly_labels(error, moving_window, \"rolling\")\n",
    "    print(f\"For {name} and rolling window size {moving_window} and dataset name {dataset_name}, F1 score is {f1_score(true, labels)}\")\n",
    "    \n",
    "    # For exp window\n",
    "    label = get_anomaly_labels(error, moving_window, \"exp\")\n",
    "    print(f\"For {name} and exp window size {moving_window} and dataset name {dataset_name}, F1 score is {f1_score(true, labels)}\")\n",
    "    \n",
    "\n",
    "def get_error(model ,dataset, ravel=1, name=\"none\"):\n",
    "    \n",
    "    test_gen = flat_generator(numpy.array([test_set]), window,0)\n",
    "    error = []\n",
    "    targets = []\n",
    "    preds = []\n",
    "    for i in range(dataset.shape[0]-(window+1)):\n",
    "        _input,target = next(test_gen)\n",
    "        targets.append(target.squeeze())\n",
    "        if ravel:\n",
    "            _input = _input.ravel()[:,numpy.newaxis].T\n",
    "            \n",
    "        pred = model.predict(_input)\n",
    "        #print(target.shape)\n",
    "        #print(pred.shape)\n",
    "        preds.append(pred.squeeze())\n",
    "        error.append(mean_absolute_error(y_pred=pred, y_true=target))\n",
    "\n",
    "    targets = numpy.vstack(targets)\n",
    "    preds = numpy.vstack(preds)\n",
    "\n",
    "    return error\n",
    "\n",
    "\n",
    "def test_anomalies(model, dataset, ravel=1, windows_list=[100,200,300,400,500,600,700,800,900,1000], name=\"none\"):\n",
    "    \n",
    "    \n",
    "    for window_size in windows_list:\n",
    "        \n",
    "        ## For network flood:\n",
    "        \n",
    "        test_set = numpy.copy(dataset)\n",
    "        anomaly_range = numpy.random.randint(3000,5000)\n",
    "        test_set[anomaly_range:anomaly_range+5,:] = 1.0\n",
    "    \n",
    "        true = numpy.zeros(test_set.shape[0])\n",
    "        true[anomaly_range:anomaly_range+5] = 1.0\n",
    "        \n",
    "        error = get_error(model, dataset, ravel)\n",
    "        get_score(error, true, window_size, name, \"network_flood\")\n",
    "    "
   ]
  },
  {
   "cell_type": "markdown",
   "metadata": {},
   "source": [
    "## Training functions"
   ]
  },
  {
   "cell_type": "code",
   "execution_count": null,
   "metadata": {},
   "outputs": [],
   "source": []
  },
  {
   "cell_type": "code",
   "execution_count": null,
   "metadata": {},
   "outputs": [],
   "source": [
    "from keras.models import Model\n",
    "from keras.layers import Dense, Input, Dropout, GRU\n",
    "from keras.callbacks import EarlyStopping"
   ]
  },
  {
   "cell_type": "code",
   "execution_count": null,
   "metadata": {
    "collapsed": true
   },
   "outputs": [],
   "source": [
    "def train(model, tgen, vgen, name=\"none\"):\n",
    "    estopper = EarlyStopping(patience=15, min_delta=0.0001)\n",
    "    history = model.fit_generator(tgen, steps_per_epoch=1000, epochs=10000, callbacks=[estopper], shuffle=False, validation_data=vgen, validation_steps=1000, verbose=0)\n",
    "    plotter.plot(history.history['loss'],label='train')\n",
    "    plotter.plot(history.history['val_loss'],label='validation')\n",
    "    plotter.legend()\n",
    "    plotter.xlim(0,150)\n",
    "    plotter.xlabel(\"Epochs\")\n",
    "    plotter.ylabel(\"Error\")\n",
    "    plotter.savefig(f\"{name}_train.png\", dpi=500)\n",
    "    plotter.show()\n",
    "    print(f\"Training loss for final epoch is {history.history['loss'][-1]}\")\n",
    "    print(f\"Validation loss for final epoch is {history.history['val_loss'][-1]}\")"
   ]
  },
  {
   "cell_type": "code",
   "execution_count": null,
   "metadata": {
    "collapsed": true
   },
   "outputs": [],
   "source": [
    "def plot_running_stats(error, name=\"none\", window_size=5, bounds=None, qq=0):\n",
    "    error = numpy.array(error)\n",
    "    numpy.save(f\"results/{name}_error.npy\", error)\n",
    "    window = numpy.ones(window_size)/window_size\n",
    "    running_mean = numpy.convolve(error, window, mode=\"same\")\n",
    "    running_sigma = pandas.Series(error).rolling(window=window_size, center=True).std()\n",
    "    difference = 3.0 * running_sigma\n",
    "    \n",
    "    upper = running_mean + difference\n",
    "    lower = running_mean - difference\n",
    "    \n",
    "    if bounds == None:\n",
    "        global_mean = numpy.mean(error) * numpy.ones(error.shape[0])\n",
    "        global_sigma = numpy.std(error) * numpy.ones(error.shape[0])\n",
    "        bound = (5.0 * global_sigma) + global_mean\n",
    "        \n",
    "    else:\n",
    "        \n",
    "        global_mean = bounds[0]\n",
    "        bound = bounds[1]\n",
    "        \n",
    "    anomaly = ((error > bound) * error)\n",
    "    anomaly = numpy.array([float('nan') if x == 0.0 else x for x in anomaly])\n",
    "    \n",
    "    if qq:\n",
    "        \n",
    "        #a, b, l, s = beta.fit(error)\n",
    "        probplot(error,dist=\"norm\", plot=plotter)\n",
    "        plotter.legend()\n",
    "        plotter.savefig(f\"{name}_qq.png\",dpi=500)\n",
    "        plotter.show()\n",
    "        \n",
    "        plotter.hist(error, bins=100)\n",
    "        plotter.legend()\n",
    "        plotter.savefig(f\"{name}_hist.png\")\n",
    "        plotter.show()\n",
    "    \n",
    "    arr = pandas.Series(error)\n",
    "    means = arr.rolling(window=720).mean()\n",
    "    std = arr.rolling(window=720).std()\n",
    "    outlier = (arr > (means + 5.0 * std)) * 1.0\n",
    "\n",
    "    mark = numpy.ones(arr.shape[0]) * numpy.nan\n",
    "\n",
    "    window = 100\n",
    "\n",
    "    for i in range(window,outlier.shape[0]):\n",
    "        num = window\n",
    "        outliers = numpy.sum(outlier[i-window:i])\n",
    "        per = outliers/num\n",
    "        if per > 0.04:\n",
    "            mark[i] = 1.0\n",
    "        else:\n",
    "            mark[i] = 0.0\n",
    "    \n",
    "    plotter.plot(error, 'g-', label=\"Error\", alpha=0.4, linewidth=0.5)\n",
    "    plotter.ylim(0,0.2)\n",
    "    plotter.xlabel(\"time\")\n",
    "    plotter.ylabel(\"Error\")\n",
    "    plotter.legend()\n",
    "    plotter.savefig(f\"{name}_error_plain.png\", dpi=500)\n",
    "    plotter.show()\n",
    "    \n",
    "    fig = plotter.figure()\n",
    "    plotter.plot(error, 'g-', alpha=0.4, label=\"Error\", linewidth=0.5)\n",
    "    plotter.plot(means, 'r-.', alpha=0.9, label=\"Mean\", linewidth=0.5)\n",
    "    #plotter.plot(upper,'b-', alpha=0.2, label=\"Upper Bound\", linewidth=0.5)\n",
    "    plotter.plot(means + 5.0 * std,'b--', alpha=0.9, label=\"Bound\", linewidth=0.5)\n",
    "    plotter.plot(0.1 * mark,'r-', alpha=0.5, label=\"Anomaly\")\n",
    "    plotter.legend()\n",
    "    plotter.ylim(0,0.2)\n",
    "    plotter.xlabel(\"time\")\n",
    "    plotter.ylabel(\"Error\")\n",
    "    plotter.draw()\n",
    "    fig.savefig(f\"{name}_truetestloss.png\", dpi=500)\n",
    "    plotter.show()\n",
    "    \n",
    "    \n",
    "    \n",
    "    arr = pandas.Series(error)\n",
    "    means = arr.ewm(halflife=720).mean()\n",
    "    std = arr.ewm(halflife=720).std()\n",
    "    outlier = (arr > (means + 5.0 * std)) * 1.0\n",
    "\n",
    "    mark = numpy.ones(arr.shape[0]) * numpy.nan\n",
    "\n",
    "    window = 100\n",
    "\n",
    "    for i in range(window, outlier.shape[0]):\n",
    "        num = window\n",
    "        outliers = numpy.sum(outlier[i-window: i])\n",
    "        per = outliers/num\n",
    "        if per > 0.04:\n",
    "            mark[i] = 1.0\n",
    "        else:\n",
    "            mark[i] = 0.0\n",
    "    \n",
    "    fig = plotter.figure()\n",
    "    plotter.plot(error, 'g-', alpha=0.4, label=\"Error\", linewidth=0.5)\n",
    "    plotter.plot(means, 'r-.', alpha=0.9, label=\"Mean\", linewidth=0.5)\n",
    "    #plotter.plot(upper,'b-', alpha=0.2, label=\"Upper Bound\", linewidth=0.5)\n",
    "    plotter.plot(means + 5.0 * std,'b--', alpha=0.9, label=\"Bound\", linewidth=0.5)\n",
    "    plotter.plot(0.1 * mark,'r-', alpha=0.5, label=\"Anomaly\")\n",
    "    plotter.legend()\n",
    "    plotter.ylim(0,0.2)\n",
    "    plotter.xlabel(\"time\")\n",
    "    plotter.ylabel(\"Error\")\n",
    "    plotter.draw()\n",
    "    fig.savefig(f\"{name}_truetestloss_exp.png\", dpi=500)\n",
    "    plotter.show()\n",
    "    \n",
    "    \n",
    "    fig.clf()\n",
    "    plotter.clf()\n",
    "    plotter.close()\n",
    "    error = numpy.array(error)\n",
    "    print(f\"The mean error for {name} is {numpy.mean(error)} for length {error.shape[0]}\")\n",
    "    \n",
    "    return (global_mean, bound)"
   ]
  },
  {
   "cell_type": "code",
   "execution_count": null,
   "metadata": {
    "collapsed": true
   },
   "outputs": [],
   "source": [
    "def data_test(model, dataset=test_X[0], ravel=1, write=0, name=\"none\", window=5, bounds=None, qq=0):\n",
    "    test_gen = flat_generator(numpy.array([dataset]), window,0)\n",
    "    error = []\n",
    "    targets = []\n",
    "    preds = []\n",
    "    for i in range(dataset.shape[0]-(window+1)):\n",
    "        _input,target = next(test_gen)\n",
    "        targets.append(target.squeeze())\n",
    "        if ravel:\n",
    "            _input = _input.ravel()[:,numpy.newaxis].T\n",
    "            \n",
    "        pred = model.predict(_input)\n",
    "        #print(target.shape)\n",
    "        #print(pred.shape)\n",
    "        preds.append(pred.squeeze())\n",
    "        error.append(mean_absolute_error(y_pred=pred, y_true=target))\n",
    "\n",
    "    targets = numpy.vstack(targets)\n",
    "    preds = numpy.vstack(preds)\n",
    "    return plot_running_stats(error, name=name, window_size=window, bounds=bounds, qq=qq)\n",
    "    \n",
    "    #print(error)"
   ]
  },
  {
   "cell_type": "code",
   "execution_count": null,
   "metadata": {
    "collapsed": true
   },
   "outputs": [],
   "source": [
    "def gen_test(model, dataset=test_X[0], ravel=1, write=0, name=\"none\"):\n",
    "    test_gen = flat_generator(numpy.array([dataset]), TIMESTEPS,0)\n",
    "    error = []\n",
    "    targets = []\n",
    "    preds = []\n",
    "    for i in range(2000):\n",
    "        _input,target = next(test_gen)\n",
    "    \n",
    "        if i != 0:\n",
    "            #print(_input.shape)\n",
    "            _input = _input.squeeze()[1:,:]\n",
    "            #print(_input.shape)\n",
    "            _input = numpy.append(pred,_input, axis=0)[numpy.newaxis,:,:]\n",
    "            #print(_input.shape)\n",
    "        \n",
    "        targets.append(target.squeeze())\n",
    "        if ravel:\n",
    "            _input = _input.ravel()[:,numpy.newaxis].T\n",
    "            \n",
    "        pred = model.predict(_input)\n",
    "        #print(target.shape)\n",
    "        #print(pred.shape)\n",
    "        preds.append(pred.squeeze())\n",
    "        error.append(mean_absolute_error(y_pred=pred, y_true=target))\n",
    "\n",
    "    targets = numpy.vstack(targets)\n",
    "    preds = numpy.vstack(preds)\n",
    "\n",
    "    plotter.plot(error, 'g-', alpha=0.5)\n",
    "    plotter.ylim(0,0.2)\n",
    "    plotter.xlabel(\"time\")\n",
    "    plotter.ylabel(\"Error\")\n",
    "    plotter.savefig(f\"{name}_testloss.png\")\n",
    "    plotter.show()\n",
    "    error = numpy.array(error)\n",
    "    print(numpy.mean(error))\n",
    "    plotter.boxplot(error)\n",
    "    plotter.ylim(0,0.2)\n",
    "    plotter.xlabel(\"time\")\n",
    "    plotter.ylabel(\"Error\")\n",
    "    plotter.savefig(f\"{name}_boxplot.png\")\n",
    "    plotter.show()\n",
    "    if write:\n",
    "        numpy.savetxt('loss.txt', numpy.array(error))\n",
    "    true_test(model,dataset,ravel=ravel,name=name)\n",
    "    #print(error)"
   ]
  },
  {
   "cell_type": "code",
   "execution_count": null,
   "metadata": {
    "collapsed": true
   },
   "outputs": [],
   "source": [
    "def test(model, ravel=1, name=\"none\", window=20):\n",
    "    print(f\"---------- Beginning tests for {name} ----------\")\n",
    "    #print(f\"Testing on Disk IO begin data.\")\n",
    "    #bounds = data_test(model, dataset=disk_io_start_late , ravel=ravel, name=(name+\"_disk_IO_start_\"), window=window, qq=1)\n",
    "    #print(f\"Testing on Avg. load data.\")\n",
    "    #data_test(model, dataset=avg_load, ravel=ravel, name=(name+\"_avg_load_\"), window=window, bounds=bounds)\n",
    "    #print(f\"Testing on app change early data.\")\n",
    "    #data_test(model, dataset=app_change_early, ravel=ravel, name=(name+\"_app_change_early_\"), window=window, bounds=bounds)\n",
    "    #print(f\"Testing on Normal data.\")\n",
    "    #data_test(model, dataset=normal_test, ravel=ravel, name=(name+\"_normal_\"), window=window, bounds=bounds)\n",
    "    #print(f\"Testing on Idle early data.\")\n",
    "    #data_test(model, dataset=idle_early, ravel=ravel, name=(name+\"_idle_early_\"), window=window, bounds=bounds)\n",
    "    test_anomalies(model, synth_test, ravel=ravel, name=name)\n",
    "    print(\"=\"*20)\n",
    "    print(\"\\r\\n\\r\\n\")"
   ]
  },
  {
   "cell_type": "markdown",
   "metadata": {},
   "source": [
    "## Train Models"
   ]
  },
  {
   "cell_type": "code",
   "execution_count": null,
   "metadata": {},
   "outputs": [],
   "source": [
    "X = train_X"
   ]
  },
  {
   "cell_type": "markdown",
   "metadata": {},
   "source": [
    "### Linear Regression"
   ]
  },
  {
   "cell_type": "markdown",
   "metadata": {},
   "source": [
    "#### 2 steps"
   ]
  },
  {
   "cell_type": "code",
   "execution_count": null,
   "metadata": {
    "collapsed": true
   },
   "outputs": [],
   "source": [
    "TIMESTEPS = 2\n",
    "DIM = 29\n",
    "tgen = flat_generator(X, TIMESTEPS)\n",
    "vgen = flat_generator(val_X, TIMESTEPS)\n",
    "name = \"lin2\""
   ]
  },
  {
   "cell_type": "code",
   "execution_count": null,
   "metadata": {
    "collapsed": true
   },
   "outputs": [],
   "source": [
    "input_layer = Input(shape=(TIMESTEPS*DIM,))\n",
    "output = Dense(DIM, activation='sigmoid')(input_layer)"
   ]
  },
  {
   "cell_type": "code",
   "execution_count": null,
   "metadata": {
    "collapsed": true
   },
   "outputs": [],
   "source": [
    "model = Model(input_layer, output)\n",
    "model.compile(loss='mean_absolute_error', optimizer='adam', metrics=['mae'])"
   ]
  },
  {
   "cell_type": "code",
   "execution_count": null,
   "metadata": {},
   "outputs": [],
   "source": [
    "train(model, tgen, vgen, name=name)\n",
    "test(model, name=name, window=TIMESTEPS)"
   ]
  },
  {
   "cell_type": "markdown",
   "metadata": {},
   "source": [
    "#### 5 steps"
   ]
  },
  {
   "cell_type": "code",
   "execution_count": null,
   "metadata": {
    "collapsed": true
   },
   "outputs": [],
   "source": [
    "TIMESTEPS = 5\n",
    "DIM = 29\n",
    "tgen = flat_generator(X, TIMESTEPS)\n",
    "vgen = flat_generator(val_X, TIMESTEPS)\n",
    "name = \"lin5\""
   ]
  },
  {
   "cell_type": "code",
   "execution_count": null,
   "metadata": {
    "collapsed": true
   },
   "outputs": [],
   "source": [
    "input_layer = Input(shape=(TIMESTEPS*DIM,))\n",
    "output = Dense(DIM, activation='sigmoid')(input_layer)"
   ]
  },
  {
   "cell_type": "code",
   "execution_count": null,
   "metadata": {
    "collapsed": true
   },
   "outputs": [],
   "source": [
    "model = Model(input_layer, output)\n",
    "model.compile(loss='mean_absolute_error', optimizer='adam', metrics=['mae'])"
   ]
  },
  {
   "cell_type": "code",
   "execution_count": null,
   "metadata": {
    "collapsed": true
   },
   "outputs": [],
   "source": [
    "train(model, tgen, vgen, name=name)\n",
    "test(model, name=name, window=TIMESTEPS)"
   ]
  },
  {
   "cell_type": "markdown",
   "metadata": {},
   "source": [
    "#### 10 steps"
   ]
  },
  {
   "cell_type": "code",
   "execution_count": null,
   "metadata": {
    "collapsed": true
   },
   "outputs": [],
   "source": [
    "TIMESTEPS = 10\n",
    "DIM = 29\n",
    "tgen = flat_generator(X, TIMESTEPS)\n",
    "vgen = flat_generator(val_X, TIMESTEPS)\n",
    "name = \"lin10\""
   ]
  },
  {
   "cell_type": "code",
   "execution_count": null,
   "metadata": {
    "collapsed": true
   },
   "outputs": [],
   "source": [
    "input_layer = Input(shape=(TIMESTEPS*DIM,))\n",
    "output = Dense(DIM, activation='sigmoid')(input_layer)"
   ]
  },
  {
   "cell_type": "code",
   "execution_count": null,
   "metadata": {
    "collapsed": true
   },
   "outputs": [],
   "source": [
    "model = Model(input_layer, output)\n",
    "model.compile(loss='mean_absolute_error', optimizer='adam', metrics=['mae'])"
   ]
  },
  {
   "cell_type": "code",
   "execution_count": null,
   "metadata": {
    "collapsed": true
   },
   "outputs": [],
   "source": [
    "train(model, tgen, vgen, name=name)\n",
    "test(model, name=name, window=TIMESTEPS)"
   ]
  },
  {
   "cell_type": "markdown",
   "metadata": {},
   "source": [
    "#### 20 steps"
   ]
  },
  {
   "cell_type": "code",
   "execution_count": null,
   "metadata": {
    "collapsed": true
   },
   "outputs": [],
   "source": [
    "TIMESTEPS = 20\n",
    "DIM = 29\n",
    "tgen = flat_generator(X, TIMESTEPS)\n",
    "vgen = flat_generator(val_X, TIMESTEPS)\n",
    "name = \"lin20\""
   ]
  },
  {
   "cell_type": "code",
   "execution_count": null,
   "metadata": {
    "collapsed": true
   },
   "outputs": [],
   "source": [
    "input_layer = Input(shape=(TIMESTEPS*DIM,))\n",
    "output = Dense(DIM, activation='sigmoid')(input_layer)"
   ]
  },
  {
   "cell_type": "code",
   "execution_count": null,
   "metadata": {
    "collapsed": true
   },
   "outputs": [],
   "source": [
    "model = Model(input_layer, output)\n",
    "model.compile(loss='mean_absolute_error', optimizer='adam', metrics=['mae'])"
   ]
  },
  {
   "cell_type": "code",
   "execution_count": null,
   "metadata": {
    "collapsed": true
   },
   "outputs": [],
   "source": [
    "train(model, tgen, vgen, name=name)\n",
    "test(model, name=name, window=TIMESTEPS)"
   ]
  },
  {
   "cell_type": "markdown",
   "metadata": {},
   "source": [
    "#### 50 steps"
   ]
  },
  {
   "cell_type": "code",
   "execution_count": null,
   "metadata": {
    "collapsed": true
   },
   "outputs": [],
   "source": [
    "TIMESTEPS = 50\n",
    "DIM = 29\n",
    "tgen = flat_generator(X, TIMESTEPS)\n",
    "vgen = flat_generator(val_X, TIMESTEPS)\n",
    "name = \"lin50\""
   ]
  },
  {
   "cell_type": "code",
   "execution_count": null,
   "metadata": {
    "collapsed": true
   },
   "outputs": [],
   "source": [
    "input_layer = Input(shape=(TIMESTEPS*DIM,))\n",
    "output = Dense(DIM, activation='sigmoid')(input_layer)"
   ]
  },
  {
   "cell_type": "code",
   "execution_count": null,
   "metadata": {
    "collapsed": true
   },
   "outputs": [],
   "source": [
    "model = Model(input_layer, output)\n",
    "model.compile(loss='mean_absolute_error', optimizer='adam', metrics=['mae'])"
   ]
  },
  {
   "cell_type": "code",
   "execution_count": null,
   "metadata": {
    "collapsed": true
   },
   "outputs": [],
   "source": [
    "train(model, tgen, vgen, name=name)\n",
    "test(model, name=name, window=TIMESTEPS)"
   ]
  },
  {
   "cell_type": "markdown",
   "metadata": {},
   "source": [
    "#### 100 steps"
   ]
  },
  {
   "cell_type": "code",
   "execution_count": null,
   "metadata": {
    "collapsed": true
   },
   "outputs": [],
   "source": [
    "TIMESTEPS = 100\n",
    "DIM = 29\n",
    "tgen = flat_generator(X, TIMESTEPS)\n",
    "vgen = flat_generator(val_X, TIMESTEPS)\n",
    "name = \"lin100\""
   ]
  },
  {
   "cell_type": "code",
   "execution_count": null,
   "metadata": {
    "collapsed": true
   },
   "outputs": [],
   "source": [
    "input_layer = Input(shape=(TIMESTEPS*DIM,))\n",
    "output = Dense(DIM, activation='sigmoid')(input_layer)"
   ]
  },
  {
   "cell_type": "code",
   "execution_count": null,
   "metadata": {
    "collapsed": true
   },
   "outputs": [],
   "source": [
    "model = Model(input_layer, output)\n",
    "model.compile(loss='mean_absolute_error', optimizer='adam', metrics=['mae'])"
   ]
  },
  {
   "cell_type": "code",
   "execution_count": null,
   "metadata": {
    "collapsed": true
   },
   "outputs": [],
   "source": [
    "train(model, tgen, vgen, name=name)\n",
    "test(model, name=name, window=TIMESTEPS)"
   ]
  },
  {
   "cell_type": "markdown",
   "metadata": {},
   "source": [
    "#### 200 steps"
   ]
  },
  {
   "cell_type": "code",
   "execution_count": null,
   "metadata": {
    "collapsed": true
   },
   "outputs": [],
   "source": [
    "TIMESTEPS = 200\n",
    "DIM = 29\n",
    "tgen = flat_generator(X, TIMESTEPS)\n",
    "vgen = flat_generator(val_X, TIMESTEPS)\n",
    "name = \"lin200\""
   ]
  },
  {
   "cell_type": "code",
   "execution_count": null,
   "metadata": {
    "collapsed": true
   },
   "outputs": [],
   "source": [
    "input_layer = Input(shape=(TIMESTEPS*DIM,))\n",
    "output = Dense(DIM, activation='sigmoid')(input_layer)"
   ]
  },
  {
   "cell_type": "code",
   "execution_count": null,
   "metadata": {
    "collapsed": true
   },
   "outputs": [],
   "source": [
    "model = Model(input_layer, output)\n",
    "model.compile(loss='mean_absolute_error', optimizer='adam', metrics=['mae'])"
   ]
  },
  {
   "cell_type": "code",
   "execution_count": null,
   "metadata": {
    "collapsed": true
   },
   "outputs": [],
   "source": [
    "train(model, tgen, vgen, name=name)\n",
    "test(model, name=name, window=TIMESTEPS)"
   ]
  },
  {
   "cell_type": "markdown",
   "metadata": {},
   "source": [
    "### NN with 1 hidden layer"
   ]
  },
  {
   "cell_type": "markdown",
   "metadata": {},
   "source": [
    "#### 2 steps"
   ]
  },
  {
   "cell_type": "code",
   "execution_count": null,
   "metadata": {
    "collapsed": true
   },
   "outputs": [],
   "source": [
    "TIMESTEPS = 2\n",
    "DIM = 29\n",
    "tgen = flat_generator(X, TIMESTEPS)\n",
    "vgen = flat_generator(val_X, TIMESTEPS)\n",
    "name = \"nn1_2\""
   ]
  },
  {
   "cell_type": "code",
   "execution_count": null,
   "metadata": {
    "collapsed": true
   },
   "outputs": [],
   "source": [
    "input_layer = Input(shape=(TIMESTEPS*DIM,))\n",
    "hidden = Dense(100, activation='relu')(input_layer)\n",
    "output = Dense(DIM, activation='sigmoid')(hidden)"
   ]
  },
  {
   "cell_type": "code",
   "execution_count": null,
   "metadata": {
    "collapsed": true
   },
   "outputs": [],
   "source": [
    "model = Model(input_layer, output)\n",
    "model.compile(loss='mean_absolute_error', optimizer='adam', metrics=['mae'])"
   ]
  },
  {
   "cell_type": "code",
   "execution_count": null,
   "metadata": {
    "collapsed": true
   },
   "outputs": [],
   "source": [
    "train(model, tgen, vgen, name=name)\n",
    "test(model, name=name, window=TIMESTEPS)"
   ]
  },
  {
   "cell_type": "markdown",
   "metadata": {},
   "source": [
    "#### 5 steps"
   ]
  },
  {
   "cell_type": "code",
   "execution_count": null,
   "metadata": {
    "collapsed": true
   },
   "outputs": [],
   "source": [
    "TIMESTEPS = 5\n",
    "DIM = 29\n",
    "tgen = flat_generator(X, TIMESTEPS)\n",
    "vgen = flat_generator(val_X, TIMESTEPS)\n",
    "name = \"nn1_5\""
   ]
  },
  {
   "cell_type": "code",
   "execution_count": null,
   "metadata": {
    "collapsed": true
   },
   "outputs": [],
   "source": [
    "input_layer = Input(shape=(TIMESTEPS*DIM,))\n",
    "hidden = Dense(100, activation='relu')(input_layer)\n",
    "output = Dense(DIM, activation='sigmoid')(hidden)"
   ]
  },
  {
   "cell_type": "code",
   "execution_count": null,
   "metadata": {
    "collapsed": true
   },
   "outputs": [],
   "source": [
    "model = Model(input_layer, output)\n",
    "model.compile(loss='mean_absolute_error', optimizer='adam', metrics=['mae'])"
   ]
  },
  {
   "cell_type": "code",
   "execution_count": null,
   "metadata": {
    "collapsed": true
   },
   "outputs": [],
   "source": [
    "train(model, tgen, vgen, name=name)\n",
    "test(model, name=name, window=TIMESTEPS)"
   ]
  },
  {
   "cell_type": "markdown",
   "metadata": {},
   "source": [
    "#### 10 steps"
   ]
  },
  {
   "cell_type": "code",
   "execution_count": null,
   "metadata": {
    "collapsed": true
   },
   "outputs": [],
   "source": [
    "TIMESTEPS = 10\n",
    "DIM = 29\n",
    "tgen = flat_generator(X, TIMESTEPS)\n",
    "vgen = flat_generator(val_X, TIMESTEPS)\n",
    "name = \"nn1_10\""
   ]
  },
  {
   "cell_type": "code",
   "execution_count": null,
   "metadata": {
    "collapsed": true
   },
   "outputs": [],
   "source": [
    "input_layer = Input(shape=(TIMESTEPS*DIM,))\n",
    "hidden = Dense(100, activation='relu')(input_layer)\n",
    "output = Dense(DIM, activation='sigmoid')(hidden)"
   ]
  },
  {
   "cell_type": "code",
   "execution_count": null,
   "metadata": {
    "collapsed": true
   },
   "outputs": [],
   "source": [
    "model = Model(input_layer, output)\n",
    "model.compile(loss='mean_absolute_error', optimizer='adam', metrics=['mae'])"
   ]
  },
  {
   "cell_type": "code",
   "execution_count": null,
   "metadata": {
    "collapsed": true
   },
   "outputs": [],
   "source": [
    "train(model, tgen, vgen, name=name)\n",
    "test(model, name=name, window=TIMESTEPS)"
   ]
  },
  {
   "cell_type": "markdown",
   "metadata": {},
   "source": [
    "#### 20 steps"
   ]
  },
  {
   "cell_type": "code",
   "execution_count": null,
   "metadata": {
    "collapsed": true
   },
   "outputs": [],
   "source": [
    "TIMESTEPS = 20\n",
    "DIM = 29\n",
    "tgen = flat_generator(X, TIMESTEPS)\n",
    "vgen = flat_generator(val_X, TIMESTEPS)\n",
    "name = \"nn1_20\""
   ]
  },
  {
   "cell_type": "code",
   "execution_count": null,
   "metadata": {
    "collapsed": true
   },
   "outputs": [],
   "source": [
    "input_layer = Input(shape=(TIMESTEPS*DIM,))\n",
    "hidden = Dense(100,activation='relu')(input_layer)\n",
    "output = Dense(DIM, activation='sigmoid')(hidden)"
   ]
  },
  {
   "cell_type": "code",
   "execution_count": null,
   "metadata": {
    "collapsed": true
   },
   "outputs": [],
   "source": [
    "model = Model(input_layer, output)\n",
    "model.compile(loss='mean_absolute_error', optimizer='adam', metrics=['mae'])"
   ]
  },
  {
   "cell_type": "code",
   "execution_count": null,
   "metadata": {
    "collapsed": true
   },
   "outputs": [],
   "source": [
    "train(model, tgen, vgen, name=name)\n",
    "test(model, name=name, window=TIMESTEPS)"
   ]
  },
  {
   "cell_type": "markdown",
   "metadata": {},
   "source": [
    "#### 50 steps"
   ]
  },
  {
   "cell_type": "code",
   "execution_count": null,
   "metadata": {
    "collapsed": true
   },
   "outputs": [],
   "source": [
    "TIMESTEPS = 50\n",
    "DIM = 29\n",
    "tgen = flat_generator(X, TIMESTEPS)\n",
    "vgen = flat_generator(val_X, TIMESTEPS)\n",
    "name = \"nn1_50\""
   ]
  },
  {
   "cell_type": "code",
   "execution_count": null,
   "metadata": {
    "collapsed": true
   },
   "outputs": [],
   "source": [
    "input_layer = Input(shape=(TIMESTEPS*DIM,))\n",
    "hidden = Dense(100,activation='relu')(input_layer)\n",
    "output = Dense(DIM, activation='sigmoid')(hidden)"
   ]
  },
  {
   "cell_type": "code",
   "execution_count": null,
   "metadata": {
    "collapsed": true
   },
   "outputs": [],
   "source": [
    "model = Model(input_layer, output)\n",
    "model.compile(loss='mean_absolute_error', optimizer='adam', metrics=['mae'])"
   ]
  },
  {
   "cell_type": "code",
   "execution_count": null,
   "metadata": {
    "collapsed": true
   },
   "outputs": [],
   "source": [
    "train(model, tgen, vgen, name=name)\n",
    "test(model, name=name, window=TIMESTEPS)"
   ]
  },
  {
   "cell_type": "markdown",
   "metadata": {},
   "source": [
    "#### 100 steps"
   ]
  },
  {
   "cell_type": "code",
   "execution_count": null,
   "metadata": {
    "collapsed": true
   },
   "outputs": [],
   "source": [
    "TIMESTEPS = 100\n",
    "DIM = 29\n",
    "tgen = flat_generator(X, TIMESTEPS)\n",
    "vgen = flat_generator(val_X, TIMESTEPS)\n",
    "name = \"nn1_100\""
   ]
  },
  {
   "cell_type": "code",
   "execution_count": null,
   "metadata": {
    "collapsed": true
   },
   "outputs": [],
   "source": [
    "input_layer = Input(shape=(TIMESTEPS*DIM,))\n",
    "hidden = Dense(100,activation='relu')(input_layer)\n",
    "output = Dense(DIM, activation='sigmoid')(hidden)"
   ]
  },
  {
   "cell_type": "code",
   "execution_count": null,
   "metadata": {
    "collapsed": true
   },
   "outputs": [],
   "source": [
    "model = Model(input_layer, output)\n",
    "model.compile(loss='mean_absolute_error', optimizer='adam', metrics=['mae'])"
   ]
  },
  {
   "cell_type": "code",
   "execution_count": null,
   "metadata": {
    "collapsed": true
   },
   "outputs": [],
   "source": [
    "train(model, tgen, vgen, name=name)\n",
    "test(model, name=name, window=TIMESTEPS)"
   ]
  },
  {
   "cell_type": "markdown",
   "metadata": {},
   "source": [
    "#### 200 steps"
   ]
  },
  {
   "cell_type": "code",
   "execution_count": null,
   "metadata": {
    "collapsed": true
   },
   "outputs": [],
   "source": [
    "TIMESTEPS = 200\n",
    "DIM = 29\n",
    "tgen = flat_generator(X, TIMESTEPS)\n",
    "vgen = flat_generator(val_X, TIMESTEPS)\n",
    "name = \"nn1_200\""
   ]
  },
  {
   "cell_type": "code",
   "execution_count": null,
   "metadata": {
    "collapsed": true
   },
   "outputs": [],
   "source": [
    "input_layer = Input(shape=(TIMESTEPS*DIM,))\n",
    "hidden = Dense(100,activation='relu')(input_layer)\n",
    "output = Dense(DIM, activation='sigmoid')(hidden)"
   ]
  },
  {
   "cell_type": "code",
   "execution_count": null,
   "metadata": {
    "collapsed": true
   },
   "outputs": [],
   "source": [
    "model = Model(input_layer, output)\n",
    "model.compile(loss='mean_absolute_error', optimizer='adam', metrics=['mae'])"
   ]
  },
  {
   "cell_type": "code",
   "execution_count": null,
   "metadata": {
    "collapsed": true
   },
   "outputs": [],
   "source": [
    "train(model, tgen, vgen, name=name)\n",
    "test(model, name=name, window=TIMESTEPS)"
   ]
  },
  {
   "cell_type": "markdown",
   "metadata": {},
   "source": [
    "### NN with 2 hidden layers"
   ]
  },
  {
   "cell_type": "markdown",
   "metadata": {},
   "source": [
    "#### 2 steps"
   ]
  },
  {
   "cell_type": "code",
   "execution_count": null,
   "metadata": {
    "collapsed": true
   },
   "outputs": [],
   "source": [
    "TIMESTEPS = 2\n",
    "DIM = 29\n",
    "tgen = flat_generator(X, TIMESTEPS)\n",
    "vgen = flat_generator(val_X, TIMESTEPS)\n",
    "name = \"nn2_2\""
   ]
  },
  {
   "cell_type": "code",
   "execution_count": null,
   "metadata": {
    "collapsed": true
   },
   "outputs": [],
   "source": [
    "input_layer = Input(shape=(TIMESTEPS*DIM,))\n",
    "hidden = Dense(500, activation='relu')(input_layer)\n",
    "hidden = Dense(100, activation='relu')(hidden)\n",
    "output = Dense(DIM, activation='sigmoid')(hidden)"
   ]
  },
  {
   "cell_type": "code",
   "execution_count": null,
   "metadata": {
    "collapsed": true
   },
   "outputs": [],
   "source": [
    "model = Model(input_layer, output)\n",
    "model.compile(loss='mean_absolute_error', optimizer='adam', metrics=['mae'])"
   ]
  },
  {
   "cell_type": "code",
   "execution_count": null,
   "metadata": {
    "collapsed": true
   },
   "outputs": [],
   "source": [
    "train(model, tgen, vgen, name=name)\n",
    "test(model, name=name, window=TIMESTEPS)"
   ]
  },
  {
   "cell_type": "markdown",
   "metadata": {},
   "source": [
    "#### 5 steps"
   ]
  },
  {
   "cell_type": "code",
   "execution_count": null,
   "metadata": {
    "collapsed": true
   },
   "outputs": [],
   "source": [
    "TIMESTEPS = 5\n",
    "DIM = 29\n",
    "tgen = flat_generator(X, TIMESTEPS)\n",
    "vgen = flat_generator(val_X, TIMESTEPS)\n",
    "name = \"nn2_5\""
   ]
  },
  {
   "cell_type": "code",
   "execution_count": null,
   "metadata": {
    "collapsed": true
   },
   "outputs": [],
   "source": [
    "input_layer = Input(shape=(TIMESTEPS*DIM,))\n",
    "hidden = Dense(500, activation='relu')(input_layer)\n",
    "hidden = Dense(100, activation='relu')(hidden)\n",
    "output = Dense(DIM, activation='sigmoid')(hidden)"
   ]
  },
  {
   "cell_type": "code",
   "execution_count": null,
   "metadata": {
    "collapsed": true
   },
   "outputs": [],
   "source": [
    "model = Model(input_layer, output)\n",
    "model.compile(loss='mean_absolute_error', optimizer='adam', metrics=['mae'])"
   ]
  },
  {
   "cell_type": "code",
   "execution_count": null,
   "metadata": {
    "collapsed": true
   },
   "outputs": [],
   "source": [
    "train(model, tgen, vgen, name=name)\n",
    "test(model, name=name, window=TIMESTEPS)"
   ]
  },
  {
   "cell_type": "markdown",
   "metadata": {},
   "source": [
    "#### 10 steps"
   ]
  },
  {
   "cell_type": "code",
   "execution_count": null,
   "metadata": {
    "collapsed": true
   },
   "outputs": [],
   "source": [
    "TIMESTEPS = 10\n",
    "DIM = 29\n",
    "tgen = flat_generator(X, TIMESTEPS)\n",
    "vgen = flat_generator(val_X, TIMESTEPS)\n",
    "name = \"nn2_10\""
   ]
  },
  {
   "cell_type": "code",
   "execution_count": null,
   "metadata": {
    "collapsed": true
   },
   "outputs": [],
   "source": [
    "input_layer = Input(shape=(TIMESTEPS*DIM,))\n",
    "hidden = Dense(500, activation='relu')(input_layer)\n",
    "hidden = Dense(100, activation='relu')(hidden)\n",
    "output = Dense(DIM, activation='sigmoid')(hidden)"
   ]
  },
  {
   "cell_type": "code",
   "execution_count": null,
   "metadata": {
    "collapsed": true
   },
   "outputs": [],
   "source": [
    "model = Model(input_layer, output)\n",
    "model.compile(loss='mean_absolute_error', optimizer='adam', metrics=['mae'])"
   ]
  },
  {
   "cell_type": "code",
   "execution_count": null,
   "metadata": {
    "collapsed": true
   },
   "outputs": [],
   "source": [
    "train(model, tgen, vgen, name=name)\n",
    "test(model, name=name, window=TIMESTEPS)"
   ]
  },
  {
   "cell_type": "markdown",
   "metadata": {},
   "source": [
    "#### 20 steps"
   ]
  },
  {
   "cell_type": "code",
   "execution_count": null,
   "metadata": {
    "collapsed": true
   },
   "outputs": [],
   "source": [
    "TIMESTEPS = 20\n",
    "DIM = 29\n",
    "tgen = flat_generator(X, TIMESTEPS)\n",
    "vgen = flat_generator(val_X, TIMESTEPS)\n",
    "name = \"nn2_20\""
   ]
  },
  {
   "cell_type": "code",
   "execution_count": null,
   "metadata": {
    "collapsed": true
   },
   "outputs": [],
   "source": [
    "input_layer = Input(shape=(TIMESTEPS*DIM,))\n",
    "hidden = Dense(500, activation='relu')(input_layer)\n",
    "hidden = Dense(100, activation='relu')(hidden)\n",
    "output = Dense(DIM, activation='sigmoid')(hidden)"
   ]
  },
  {
   "cell_type": "code",
   "execution_count": null,
   "metadata": {
    "collapsed": true
   },
   "outputs": [],
   "source": [
    "model = Model(input_layer, output)\n",
    "model.compile(loss='mean_absolute_error', optimizer='adam', metrics=['mae'])"
   ]
  },
  {
   "cell_type": "code",
   "execution_count": null,
   "metadata": {
    "collapsed": true
   },
   "outputs": [],
   "source": [
    "train(model, tgen, vgen, name=name)\n",
    "test(model, name=name, window=TIMESTEPS)"
   ]
  },
  {
   "cell_type": "markdown",
   "metadata": {},
   "source": [
    "#### 50 steps"
   ]
  },
  {
   "cell_type": "code",
   "execution_count": null,
   "metadata": {
    "collapsed": true
   },
   "outputs": [],
   "source": [
    "TIMESTEPS = 50\n",
    "DIM = 29\n",
    "tgen = flat_generator(X, TIMESTEPS)\n",
    "vgen = flat_generator(val_X, TIMESTEPS)\n",
    "name = \"nn2_50\""
   ]
  },
  {
   "cell_type": "code",
   "execution_count": null,
   "metadata": {
    "collapsed": true
   },
   "outputs": [],
   "source": [
    "input_layer = Input(shape=(TIMESTEPS*DIM,))\n",
    "hidden = Dense(500, activation='relu')(input_layer)\n",
    "hidden = Dense(100, activation='relu')(hidden)\n",
    "output = Dense(DIM, activation='sigmoid')(hidden)"
   ]
  },
  {
   "cell_type": "code",
   "execution_count": null,
   "metadata": {
    "collapsed": true
   },
   "outputs": [],
   "source": [
    "model = Model(input_layer, output)\n",
    "model.compile(loss='mean_absolute_error', optimizer='adam', metrics=['mae'])"
   ]
  },
  {
   "cell_type": "code",
   "execution_count": null,
   "metadata": {
    "collapsed": true
   },
   "outputs": [],
   "source": [
    "train(model, tgen, vgen, name=name)\n",
    "test(model, name=name, window=TIMESTEPS)"
   ]
  },
  {
   "cell_type": "markdown",
   "metadata": {},
   "source": [
    "#### 100 steps"
   ]
  },
  {
   "cell_type": "code",
   "execution_count": null,
   "metadata": {
    "collapsed": true
   },
   "outputs": [],
   "source": [
    "TIMESTEPS = 100\n",
    "DIM = 29\n",
    "tgen = flat_generator(X, TIMESTEPS)\n",
    "vgen = flat_generator(val_X, TIMESTEPS)\n",
    "name = \"nn2_100\""
   ]
  },
  {
   "cell_type": "code",
   "execution_count": null,
   "metadata": {
    "collapsed": true
   },
   "outputs": [],
   "source": [
    "input_layer = Input(shape=(TIMESTEPS*DIM,))\n",
    "hidden = Dense(500, activation='relu')(input_layer)\n",
    "hidden = Dense(100, activation='relu')(hidden)\n",
    "output = Dense(DIM, activation='sigmoid')(hidden)"
   ]
  },
  {
   "cell_type": "code",
   "execution_count": null,
   "metadata": {
    "collapsed": true
   },
   "outputs": [],
   "source": [
    "model = Model(input_layer, output)\n",
    "model.compile(loss='mean_absolute_error', optimizer='adam', metrics=['mae'])"
   ]
  },
  {
   "cell_type": "code",
   "execution_count": null,
   "metadata": {
    "collapsed": true
   },
   "outputs": [],
   "source": [
    "train(model, tgen, vgen, name=name)\n",
    "test(model, name=name, window=TIMESTEPS)"
   ]
  },
  {
   "cell_type": "markdown",
   "metadata": {},
   "source": [
    "#### 200 steps"
   ]
  },
  {
   "cell_type": "code",
   "execution_count": null,
   "metadata": {
    "collapsed": true
   },
   "outputs": [],
   "source": [
    "TIMESTEPS = 200\n",
    "DIM = 29\n",
    "tgen = flat_generator(X, TIMESTEPS)\n",
    "vgen = flat_generator(val_X, TIMESTEPS)\n",
    "name = \"nn2_200\""
   ]
  },
  {
   "cell_type": "code",
   "execution_count": null,
   "metadata": {
    "collapsed": true
   },
   "outputs": [],
   "source": [
    "input_layer = Input(shape=(TIMESTEPS*DIM,))\n",
    "hidden = Dense(500, activation='relu')(input_layer)\n",
    "hidden = Dense(100, activation='relu')(hidden)\n",
    "output = Dense(DIM, activation='sigmoid')(hidden)"
   ]
  },
  {
   "cell_type": "code",
   "execution_count": null,
   "metadata": {
    "collapsed": true
   },
   "outputs": [],
   "source": [
    "model = Model(input_layer, output)\n",
    "model.compile(loss='mean_absolute_error', optimizer='adam', metrics=['mae'])"
   ]
  },
  {
   "cell_type": "code",
   "execution_count": null,
   "metadata": {
    "collapsed": true
   },
   "outputs": [],
   "source": [
    "train(model, tgen, vgen, name=name)\n",
    "test(model, name=name, window=TIMESTEPS)"
   ]
  },
  {
   "cell_type": "markdown",
   "metadata": {},
   "source": [
    "### NN with 3 hidden layers"
   ]
  },
  {
   "cell_type": "markdown",
   "metadata": {},
   "source": [
    "#### 2 steps"
   ]
  },
  {
   "cell_type": "code",
   "execution_count": null,
   "metadata": {
    "collapsed": true
   },
   "outputs": [],
   "source": [
    "TIMESTEPS = 2\n",
    "DIM = 29\n",
    "tgen = flat_generator(X, TIMESTEPS)\n",
    "vgen = flat_generator(val_X, TIMESTEPS)\n",
    "name = \"nn3_2\""
   ]
  },
  {
   "cell_type": "code",
   "execution_count": null,
   "metadata": {
    "collapsed": true
   },
   "outputs": [],
   "source": [
    "input_layer = Input(shape=(TIMESTEPS*DIM,))\n",
    "hidden = Dense(1000, activation='relu')(input_layer)\n",
    "hidden = Dense(500, activation='relu')(hidden)\n",
    "hidden = Dense(100, activation='relu')(hidden)\n",
    "output = Dense(DIM, activation='sigmoid')(hidden)"
   ]
  },
  {
   "cell_type": "code",
   "execution_count": null,
   "metadata": {
    "collapsed": true
   },
   "outputs": [],
   "source": [
    "model = Model(input_layer, output)\n",
    "model.compile(loss='mean_absolute_error', optimizer='adam', metrics=['mae'])"
   ]
  },
  {
   "cell_type": "code",
   "execution_count": null,
   "metadata": {
    "collapsed": true
   },
   "outputs": [],
   "source": [
    "train(model, tgen, vgen, name=name)\n",
    "test(model, name=name, window=TIMESTEPS)"
   ]
  },
  {
   "cell_type": "markdown",
   "metadata": {},
   "source": [
    "#### 5 steps"
   ]
  },
  {
   "cell_type": "code",
   "execution_count": null,
   "metadata": {
    "collapsed": true
   },
   "outputs": [],
   "source": [
    "TIMESTEPS = 5\n",
    "DIM = 29\n",
    "tgen = flat_generator(X, TIMESTEPS)\n",
    "vgen = flat_generator(val_X, TIMESTEPS)\n",
    "name = \"nn3_5\""
   ]
  },
  {
   "cell_type": "code",
   "execution_count": null,
   "metadata": {
    "collapsed": true
   },
   "outputs": [],
   "source": [
    "input_layer = Input(shape=(TIMESTEPS*DIM,))\n",
    "hidden = Dense(1000, activation='relu')(input_layer)\n",
    "hidden = Dense(500, activation='relu')(hidden)\n",
    "hidden = Dense(100, activation='relu')(hidden)\n",
    "output = Dense(DIM, activation='sigmoid')(hidden)"
   ]
  },
  {
   "cell_type": "code",
   "execution_count": null,
   "metadata": {
    "collapsed": true
   },
   "outputs": [],
   "source": [
    "model = Model(input_layer, output)\n",
    "model.compile(loss='mean_absolute_error', optimizer='adam', metrics=['mae'])"
   ]
  },
  {
   "cell_type": "code",
   "execution_count": null,
   "metadata": {
    "collapsed": true
   },
   "outputs": [],
   "source": [
    "train(model, tgen, vgen, name=name)\n",
    "test(model, name=name, window=TIMESTEPS)"
   ]
  },
  {
   "cell_type": "markdown",
   "metadata": {},
   "source": [
    "#### 10 steps"
   ]
  },
  {
   "cell_type": "code",
   "execution_count": null,
   "metadata": {
    "collapsed": true
   },
   "outputs": [],
   "source": [
    "TIMESTEPS = 10\n",
    "DIM = 29\n",
    "tgen = flat_generator(X, TIMESTEPS)\n",
    "vgen = flat_generator(val_X, TIMESTEPS)\n",
    "name = \"nn3_10\""
   ]
  },
  {
   "cell_type": "code",
   "execution_count": null,
   "metadata": {
    "collapsed": true
   },
   "outputs": [],
   "source": [
    "input_layer = Input(shape=(TIMESTEPS*DIM,))\n",
    "hidden = Dense(1000, activation='relu')(input_layer)\n",
    "hidden = Dense(500, activation='relu')(hidden)\n",
    "hidden = Dense(100, activation='relu')(hidden)\n",
    "output = Dense(DIM, activation='sigmoid')(hidden)"
   ]
  },
  {
   "cell_type": "code",
   "execution_count": null,
   "metadata": {
    "collapsed": true
   },
   "outputs": [],
   "source": [
    "model = Model(input_layer, output)\n",
    "model.compile(loss='mean_absolute_error', optimizer='adam', metrics=['mae'])"
   ]
  },
  {
   "cell_type": "code",
   "execution_count": null,
   "metadata": {
    "collapsed": true
   },
   "outputs": [],
   "source": [
    "train(model, tgen, vgen, name=name)\n",
    "test(model, name=name, window=TIMESTEPS)"
   ]
  },
  {
   "cell_type": "markdown",
   "metadata": {},
   "source": [
    "#### 20 steps"
   ]
  },
  {
   "cell_type": "code",
   "execution_count": null,
   "metadata": {
    "collapsed": true
   },
   "outputs": [],
   "source": [
    "TIMESTEPS = 20\n",
    "DIM = 29\n",
    "tgen = flat_generator(X, TIMESTEPS)\n",
    "vgen = flat_generator(val_X, TIMESTEPS)\n",
    "name = \"nn3_20\""
   ]
  },
  {
   "cell_type": "code",
   "execution_count": null,
   "metadata": {
    "collapsed": true
   },
   "outputs": [],
   "source": [
    "input_layer = Input(shape=(TIMESTEPS*DIM,))\n",
    "hidden = Dense(1000, activation='relu')(input_layer)\n",
    "hidden = Dense(500, activation='relu')(hidden)\n",
    "hidden = Dense(100, activation='relu')(hidden)\n",
    "output = Dense(DIM, activation='sigmoid')(hidden)"
   ]
  },
  {
   "cell_type": "code",
   "execution_count": null,
   "metadata": {
    "collapsed": true
   },
   "outputs": [],
   "source": [
    "model = Model(input_layer, output)\n",
    "model.compile(loss='mean_absolute_error', optimizer='adam', metrics=['mae'])"
   ]
  },
  {
   "cell_type": "code",
   "execution_count": null,
   "metadata": {
    "collapsed": true
   },
   "outputs": [],
   "source": [
    "train(model, tgen, vgen, name=name)\n",
    "test(model, name=name, window=TIMESTEPS)"
   ]
  },
  {
   "cell_type": "markdown",
   "metadata": {},
   "source": [
    "#### 50 steps"
   ]
  },
  {
   "cell_type": "code",
   "execution_count": null,
   "metadata": {
    "collapsed": true
   },
   "outputs": [],
   "source": [
    "TIMESTEPS = 50\n",
    "DIM = 29\n",
    "tgen = flat_generator(X, TIMESTEPS)\n",
    "vgen = flat_generator(val_X, TIMESTEPS)\n",
    "name = \"nn3_50\""
   ]
  },
  {
   "cell_type": "code",
   "execution_count": null,
   "metadata": {
    "collapsed": true
   },
   "outputs": [],
   "source": [
    "input_layer = Input(shape=(TIMESTEPS*DIM,))\n",
    "hidden = Dense(1000, activation='relu')(input_layer)\n",
    "hidden = Dense(500, activation='relu')(hidden)\n",
    "hidden = Dense(100, activation='relu')(hidden)\n",
    "output = Dense(DIM, activation='sigmoid')(hidden)"
   ]
  },
  {
   "cell_type": "code",
   "execution_count": null,
   "metadata": {
    "collapsed": true
   },
   "outputs": [],
   "source": [
    "model = Model(input_layer, output)\n",
    "model.compile(loss='mean_absolute_error', optimizer='adam', metrics=['mae'])"
   ]
  },
  {
   "cell_type": "code",
   "execution_count": null,
   "metadata": {
    "collapsed": true
   },
   "outputs": [],
   "source": [
    "train(model, tgen, vgen, name=name)\n",
    "test(model, name=name, window=TIMESTEPS)"
   ]
  },
  {
   "cell_type": "markdown",
   "metadata": {},
   "source": [
    "#### 100 steps"
   ]
  },
  {
   "cell_type": "code",
   "execution_count": null,
   "metadata": {
    "collapsed": true
   },
   "outputs": [],
   "source": [
    "TIMESTEPS = 100\n",
    "DIM = 29\n",
    "tgen = flat_generator(X, TIMESTEPS)\n",
    "vgen = flat_generator(val_X, TIMESTEPS)\n",
    "name = \"nn3_100\""
   ]
  },
  {
   "cell_type": "code",
   "execution_count": null,
   "metadata": {
    "collapsed": true
   },
   "outputs": [],
   "source": [
    "input_layer = Input(shape=(TIMESTEPS*DIM,))\n",
    "hidden = Dense(1000, activation='relu')(input_layer)\n",
    "hidden = Dense(500, activation='relu')(hidden)\n",
    "hidden = Dense(100, activation='relu')(hidden)\n",
    "output = Dense(DIM, activation='sigmoid')(hidden)"
   ]
  },
  {
   "cell_type": "code",
   "execution_count": null,
   "metadata": {
    "collapsed": true
   },
   "outputs": [],
   "source": [
    "model = Model(input_layer, output)\n",
    "model.compile(loss='mean_absolute_error', optimizer='adam', metrics=['mae'])"
   ]
  },
  {
   "cell_type": "code",
   "execution_count": null,
   "metadata": {
    "collapsed": true
   },
   "outputs": [],
   "source": [
    "train(model, tgen, vgen, name=name)\n",
    "test(model, name=name, window=TIMESTEPS)"
   ]
  },
  {
   "cell_type": "markdown",
   "metadata": {},
   "source": [
    "#### 200 steps"
   ]
  },
  {
   "cell_type": "code",
   "execution_count": null,
   "metadata": {
    "collapsed": true
   },
   "outputs": [],
   "source": [
    "TIMESTEPS = 200\n",
    "DIM = 29\n",
    "tgen = flat_generator(X, TIMESTEPS)\n",
    "vgen = flat_generator(val_X, TIMESTEPS)\n",
    "name = \"nn3_200\""
   ]
  },
  {
   "cell_type": "code",
   "execution_count": null,
   "metadata": {
    "collapsed": true
   },
   "outputs": [],
   "source": [
    "input_layer = Input(shape=(TIMESTEPS*DIM,))\n",
    "hidden = Dense(1000, activation='relu')(input_layer)\n",
    "hidden = Dense(500, activation='relu')(hidden)\n",
    "hidden = Dense(100, activation='relu')(hidden)\n",
    "output = Dense(DIM, activation='sigmoid')(hidden)"
   ]
  },
  {
   "cell_type": "code",
   "execution_count": null,
   "metadata": {
    "collapsed": true
   },
   "outputs": [],
   "source": [
    "model = Model(input_layer, output)\n",
    "model.compile(loss='mean_absolute_error', optimizer='adam', metrics=['mae'])"
   ]
  },
  {
   "cell_type": "code",
   "execution_count": null,
   "metadata": {
    "collapsed": true
   },
   "outputs": [],
   "source": [
    "train(model, tgen, vgen, name=name)\n",
    "test(model, name=name, window=TIMESTEPS)"
   ]
  },
  {
   "cell_type": "markdown",
   "metadata": {},
   "source": [
    "### RNN with 1 GRU layers"
   ]
  },
  {
   "cell_type": "markdown",
   "metadata": {},
   "source": [
    "#### 2 steps"
   ]
  },
  {
   "cell_type": "code",
   "execution_count": null,
   "metadata": {
    "collapsed": true
   },
   "outputs": [],
   "source": [
    "TIMESTEPS = 2\n",
    "DIM = 29\n",
    "tgen = flat_generator(X, TIMESTEPS,0)\n",
    "vgen = flat_generator(val_X, TIMESTEPS,0)\n",
    "name = \"gru1_2\""
   ]
  },
  {
   "cell_type": "code",
   "execution_count": null,
   "metadata": {
    "collapsed": true
   },
   "outputs": [],
   "source": [
    "input_layer = Input(shape=(TIMESTEPS,DIM))\n",
    "hidden = GRU(10, activation='relu')(input_layer)\n",
    "output = Dense(DIM, activation='sigmoid')(hidden)"
   ]
  },
  {
   "cell_type": "code",
   "execution_count": null,
   "metadata": {
    "collapsed": true
   },
   "outputs": [],
   "source": [
    "model = Model(input_layer, output)\n",
    "model.compile(loss='mean_absolute_error', optimizer='adam', metrics=['mae'])"
   ]
  },
  {
   "cell_type": "code",
   "execution_count": null,
   "metadata": {
    "collapsed": true
   },
   "outputs": [],
   "source": [
    "train(model, tgen, vgen, name=name)\n",
    "test(model, ravel=0, name=name, window=TIMESTEPS)"
   ]
  },
  {
   "cell_type": "markdown",
   "metadata": {},
   "source": [
    "#### 5 steps"
   ]
  },
  {
   "cell_type": "code",
   "execution_count": null,
   "metadata": {
    "collapsed": true
   },
   "outputs": [],
   "source": [
    "TIMESTEPS = 5\n",
    "DIM = 29\n",
    "tgen = flat_generator(X, TIMESTEPS,0)\n",
    "vgen = flat_generator(val_X, TIMESTEPS, 0)\n",
    "name = \"gru1_5\""
   ]
  },
  {
   "cell_type": "code",
   "execution_count": null,
   "metadata": {
    "collapsed": true
   },
   "outputs": [],
   "source": [
    "input_layer = Input(shape=(TIMESTEPS,DIM))\n",
    "hidden = GRU(10, activation='relu')(input_layer)\n",
    "output = Dense(DIM, activation='sigmoid')(hidden)"
   ]
  },
  {
   "cell_type": "code",
   "execution_count": null,
   "metadata": {
    "collapsed": true
   },
   "outputs": [],
   "source": [
    "model = Model(input_layer, output)\n",
    "model.compile(loss='mean_absolute_error', optimizer='adam', metrics=['mae'])"
   ]
  },
  {
   "cell_type": "code",
   "execution_count": null,
   "metadata": {
    "collapsed": true
   },
   "outputs": [],
   "source": [
    "train(model, tgen, vgen, name=name)\n",
    "test(model, ravel=0, name=name, window=TIMESTEPS)"
   ]
  },
  {
   "cell_type": "markdown",
   "metadata": {},
   "source": [
    "#### 10 steps"
   ]
  },
  {
   "cell_type": "code",
   "execution_count": null,
   "metadata": {
    "collapsed": true
   },
   "outputs": [],
   "source": [
    "TIMESTEPS = 10\n",
    "DIM = 29\n",
    "tgen = flat_generator(X, TIMESTEPS, 0)\n",
    "vgen = flat_generator(val_X, TIMESTEPS, 0)\n",
    "name = \"gru1_10\""
   ]
  },
  {
   "cell_type": "code",
   "execution_count": null,
   "metadata": {
    "collapsed": true
   },
   "outputs": [],
   "source": [
    "input_layer = Input(shape=(TIMESTEPS,DIM))\n",
    "hidden = GRU(10, activation='relu')(input_layer)\n",
    "output = Dense(DIM, activation='sigmoid')(hidden)"
   ]
  },
  {
   "cell_type": "code",
   "execution_count": null,
   "metadata": {
    "collapsed": true
   },
   "outputs": [],
   "source": [
    "model = Model(input_layer, output)\n",
    "model.compile(loss='mean_absolute_error', optimizer='adam', metrics=['mae'])"
   ]
  },
  {
   "cell_type": "code",
   "execution_count": null,
   "metadata": {
    "collapsed": true
   },
   "outputs": [],
   "source": [
    "train(model, tgen, vgen, name=name)\n",
    "test(model, ravel=0, name=name, window=TIMESTEPS)"
   ]
  },
  {
   "cell_type": "markdown",
   "metadata": {},
   "source": [
    "#### 20 steps"
   ]
  },
  {
   "cell_type": "code",
   "execution_count": null,
   "metadata": {
    "collapsed": true
   },
   "outputs": [],
   "source": [
    "TIMESTEPS = 20\n",
    "DIM = 29\n",
    "tgen = flat_generator(X, TIMESTEPS,0)\n",
    "vgen = flat_generator(val_X, TIMESTEPS,0)\n",
    "name = \"gru1_20\""
   ]
  },
  {
   "cell_type": "code",
   "execution_count": null,
   "metadata": {
    "collapsed": true
   },
   "outputs": [],
   "source": [
    "input_layer = Input(shape=(TIMESTEPS,DIM))\n",
    "hidden = GRU(10, activation='relu')(input_layer)\n",
    "output = Dense(DIM, activation='sigmoid')(hidden)"
   ]
  },
  {
   "cell_type": "code",
   "execution_count": null,
   "metadata": {
    "collapsed": true
   },
   "outputs": [],
   "source": [
    "model = Model(input_layer, output)\n",
    "model.compile(loss='mean_absolute_error', optimizer='adam', metrics=['mae'])"
   ]
  },
  {
   "cell_type": "code",
   "execution_count": null,
   "metadata": {
    "collapsed": true
   },
   "outputs": [],
   "source": [
    "train(model, tgen, vgen, name=name)\n",
    "test(model, ravel=0, name=name, window=TIMESTEPS)"
   ]
  },
  {
   "cell_type": "markdown",
   "metadata": {},
   "source": [
    "#### 50 steps"
   ]
  },
  {
   "cell_type": "code",
   "execution_count": null,
   "metadata": {
    "collapsed": true
   },
   "outputs": [],
   "source": [
    "TIMESTEPS = 50\n",
    "DIM = 29\n",
    "tgen = flat_generator(X, TIMESTEPS,0)\n",
    "vgen = flat_generator(val_X, TIMESTEPS,0)\n",
    "name = \"gru1_50\""
   ]
  },
  {
   "cell_type": "code",
   "execution_count": null,
   "metadata": {
    "collapsed": true
   },
   "outputs": [],
   "source": [
    "input_layer = Input(shape=(TIMESTEPS,DIM))\n",
    "hidden = GRU(10, activation='relu')(input_layer)\n",
    "output = Dense(DIM, activation='sigmoid')(hidden)"
   ]
  },
  {
   "cell_type": "code",
   "execution_count": null,
   "metadata": {
    "collapsed": true
   },
   "outputs": [],
   "source": [
    "model = Model(input_layer, output)\n",
    "model.compile(loss='mean_absolute_error', optimizer='adam', metrics=['mae'])"
   ]
  },
  {
   "cell_type": "code",
   "execution_count": null,
   "metadata": {
    "collapsed": true
   },
   "outputs": [],
   "source": [
    "train(model, tgen, vgen, name=name)\n",
    "test(model, ravel=0, name=name, window=TIMESTEPS)"
   ]
  },
  {
   "cell_type": "markdown",
   "metadata": {},
   "source": [
    "#### 100 steps"
   ]
  },
  {
   "cell_type": "code",
   "execution_count": null,
   "metadata": {
    "collapsed": true
   },
   "outputs": [],
   "source": [
    "TIMESTEPS = 100\n",
    "DIM = 29\n",
    "tgen = flat_generator(X, TIMESTEPS,0)\n",
    "vgen = flat_generator(val_X, TIMESTEPS,0)\n",
    "name = \"gru1_100\""
   ]
  },
  {
   "cell_type": "code",
   "execution_count": null,
   "metadata": {
    "collapsed": true
   },
   "outputs": [],
   "source": [
    "input_layer = Input(shape=(TIMESTEPS,DIM))\n",
    "hidden = GRU(10, activation='relu')(input_layer)\n",
    "output = Dense(DIM, activation='sigmoid')(hidden)"
   ]
  },
  {
   "cell_type": "code",
   "execution_count": null,
   "metadata": {
    "collapsed": true
   },
   "outputs": [],
   "source": [
    "model = Model(input_layer, output)\n",
    "model.compile(loss='mean_absolute_error', optimizer='adam', metrics=['mae'])"
   ]
  },
  {
   "cell_type": "code",
   "execution_count": null,
   "metadata": {
    "collapsed": true
   },
   "outputs": [],
   "source": [
    "train(model, tgen, vgen, name=name)\n",
    "test(model, ravel=0, name=name, window=TIMESTEPS)"
   ]
  },
  {
   "cell_type": "markdown",
   "metadata": {},
   "source": [
    "#### 200 steps"
   ]
  },
  {
   "cell_type": "code",
   "execution_count": null,
   "metadata": {
    "collapsed": true
   },
   "outputs": [],
   "source": [
    "TIMESTEPS = 200\n",
    "DIM = 29\n",
    "tgen = flat_generator(X, TIMESTEPS,0)\n",
    "vgen = flat_generator(val_X, TIMESTEPS,0)\n",
    "name = \"gru1_200\""
   ]
  },
  {
   "cell_type": "code",
   "execution_count": null,
   "metadata": {
    "collapsed": true
   },
   "outputs": [],
   "source": [
    "input_layer = Input(shape=(TIMESTEPS,DIM))\n",
    "hidden = GRU(10, activation='relu')(input_layer)\n",
    "output = Dense(DIM, activation='sigmoid')(hidden)"
   ]
  },
  {
   "cell_type": "code",
   "execution_count": null,
   "metadata": {
    "collapsed": true
   },
   "outputs": [],
   "source": [
    "model = Model(input_layer, output)\n",
    "model.compile(loss='mean_absolute_error', optimizer='adam', metrics=['mae'])"
   ]
  },
  {
   "cell_type": "code",
   "execution_count": null,
   "metadata": {
    "collapsed": true
   },
   "outputs": [],
   "source": [
    "train(model, tgen, vgen, name=name)\n",
    "test(model, ravel=0, name=name, window=TIMESTEPS)"
   ]
  },
  {
   "cell_type": "markdown",
   "metadata": {},
   "source": [
    "### RNN with 2 GRU layers"
   ]
  },
  {
   "cell_type": "markdown",
   "metadata": {},
   "source": [
    "#### 2 steps"
   ]
  },
  {
   "cell_type": "code",
   "execution_count": null,
   "metadata": {
    "collapsed": true
   },
   "outputs": [],
   "source": [
    "TIMESTEPS = 2\n",
    "DIM = 29\n",
    "tgen = flat_generator(X, TIMESTEPS,0)\n",
    "vgen = flat_generator(val_X, TIMESTEPS,0)\n",
    "name = \"gru2_2\""
   ]
  },
  {
   "cell_type": "code",
   "execution_count": null,
   "metadata": {
    "collapsed": true
   },
   "outputs": [],
   "source": [
    "input_layer = Input(shape=(TIMESTEPS,DIM))\n",
    "hidden = GRU(10, activation='relu', return_sequences=True)(input_layer)\n",
    "hidden = GRU(10, activation='relu')(hidden)\n",
    "output = Dense(DIM, activation='sigmoid')(hidden)"
   ]
  },
  {
   "cell_type": "code",
   "execution_count": null,
   "metadata": {
    "collapsed": true
   },
   "outputs": [],
   "source": [
    "model = Model(input_layer, output)\n",
    "model.compile(loss='mean_absolute_error', optimizer='adam', metrics=['mae'])"
   ]
  },
  {
   "cell_type": "code",
   "execution_count": null,
   "metadata": {
    "collapsed": true
   },
   "outputs": [],
   "source": [
    "train(model, tgen, vgen, name=name)\n",
    "test(model, ravel=0, name=name, window=TIMESTEPS)"
   ]
  },
  {
   "cell_type": "markdown",
   "metadata": {},
   "source": [
    "#### 5 steps"
   ]
  },
  {
   "cell_type": "code",
   "execution_count": null,
   "metadata": {
    "collapsed": true
   },
   "outputs": [],
   "source": [
    "TIMESTEPS = 5\n",
    "DIM = 29\n",
    "tgen = flat_generator(X, TIMESTEPS,0)\n",
    "vgen = flat_generator(val_X, TIMESTEPS, 0)\n",
    "name = \"gru2_5\""
   ]
  },
  {
   "cell_type": "code",
   "execution_count": null,
   "metadata": {
    "collapsed": true
   },
   "outputs": [],
   "source": [
    "input_layer = Input(shape=(TIMESTEPS,DIM))\n",
    "hidden = GRU(10, activation='relu', return_sequences=True)(input_layer)\n",
    "hidden = GRU(10, activation='relu')(hidden)\n",
    "output = Dense(DIM, activation='sigmoid')(hidden)"
   ]
  },
  {
   "cell_type": "code",
   "execution_count": null,
   "metadata": {
    "collapsed": true
   },
   "outputs": [],
   "source": [
    "model = Model(input_layer, output)\n",
    "model.compile(loss='mean_absolute_error', optimizer='adam', metrics=['mae'])"
   ]
  },
  {
   "cell_type": "code",
   "execution_count": null,
   "metadata": {
    "collapsed": true
   },
   "outputs": [],
   "source": [
    "train(model, tgen, vgen, name=name)\n",
    "test(model, ravel=0, name=name, window=TIMESTEPS)"
   ]
  },
  {
   "cell_type": "markdown",
   "metadata": {},
   "source": [
    "#### 10 steps"
   ]
  },
  {
   "cell_type": "code",
   "execution_count": null,
   "metadata": {
    "collapsed": true
   },
   "outputs": [],
   "source": [
    "TIMESTEPS = 10\n",
    "DIM = 29\n",
    "tgen = flat_generator(X, TIMESTEPS, 0)\n",
    "vgen = flat_generator(val_X, TIMESTEPS, 0)\n",
    "name = \"gru2_10\""
   ]
  },
  {
   "cell_type": "code",
   "execution_count": null,
   "metadata": {
    "collapsed": true
   },
   "outputs": [],
   "source": [
    "input_layer = Input(shape=(TIMESTEPS,DIM))\n",
    "hidden = GRU(10, activation='relu', return_sequences=True)(input_layer)\n",
    "hidden = GRU(10, activation='relu')(hidden)\n",
    "output = Dense(DIM, activation='sigmoid')(hidden)"
   ]
  },
  {
   "cell_type": "code",
   "execution_count": null,
   "metadata": {
    "collapsed": true
   },
   "outputs": [],
   "source": [
    "model = Model(input_layer, output)\n",
    "model.compile(loss='mean_absolute_error', optimizer='adam', metrics=['mae'])"
   ]
  },
  {
   "cell_type": "code",
   "execution_count": null,
   "metadata": {
    "collapsed": true
   },
   "outputs": [],
   "source": [
    "train(model, tgen, vgen, name=name)\n",
    "test(model, ravel=0, name=name, window=TIMESTEPS)"
   ]
  },
  {
   "cell_type": "markdown",
   "metadata": {},
   "source": [
    "#### 20 steps"
   ]
  },
  {
   "cell_type": "code",
   "execution_count": null,
   "metadata": {
    "collapsed": true
   },
   "outputs": [],
   "source": [
    "TIMESTEPS = 20\n",
    "DIM = 29\n",
    "tgen = flat_generator(X, TIMESTEPS,0)\n",
    "vgen = flat_generator(val_X, TIMESTEPS,0)\n",
    "name = \"gru2_20\""
   ]
  },
  {
   "cell_type": "code",
   "execution_count": null,
   "metadata": {
    "collapsed": true
   },
   "outputs": [],
   "source": [
    "input_layer = Input(shape=(TIMESTEPS,DIM))\n",
    "hidden = GRU(10, activation='relu', return_sequences=True)(input_layer)\n",
    "hidden = GRU(10, activation='relu')(hidden)\n",
    "output = Dense(DIM, activation='sigmoid')(hidden)"
   ]
  },
  {
   "cell_type": "code",
   "execution_count": null,
   "metadata": {
    "collapsed": true
   },
   "outputs": [],
   "source": [
    "model = Model(input_layer, output)\n",
    "model.compile(loss='mean_absolute_error', optimizer='adam', metrics=['mae'])"
   ]
  },
  {
   "cell_type": "code",
   "execution_count": null,
   "metadata": {
    "collapsed": true
   },
   "outputs": [],
   "source": [
    "train(model, tgen, vgen, name=name)\n",
    "test(model, ravel=0, name=name, window=TIMESTEPS)"
   ]
  },
  {
   "cell_type": "markdown",
   "metadata": {},
   "source": [
    "#### 50 steps"
   ]
  },
  {
   "cell_type": "code",
   "execution_count": null,
   "metadata": {
    "collapsed": true
   },
   "outputs": [],
   "source": [
    "TIMESTEPS = 50\n",
    "DIM = 29\n",
    "tgen = flat_generator(X, TIMESTEPS,0)\n",
    "vgen = flat_generator(val_X, TIMESTEPS,0)\n",
    "name = \"gru2_50\""
   ]
  },
  {
   "cell_type": "code",
   "execution_count": null,
   "metadata": {
    "collapsed": true
   },
   "outputs": [],
   "source": [
    "input_layer = Input(shape=(TIMESTEPS,DIM))\n",
    "hidden = GRU(10, activation='relu', return_sequences=True)(input_layer)\n",
    "hidden = GRU(10, activation='relu')(hidden)\n",
    "output = Dense(DIM, activation='sigmoid')(hidden)"
   ]
  },
  {
   "cell_type": "code",
   "execution_count": null,
   "metadata": {
    "collapsed": true
   },
   "outputs": [],
   "source": [
    "model = Model(input_layer, output)\n",
    "model.compile(loss='mean_absolute_error', optimizer='adam', metrics=['mae'])"
   ]
  },
  {
   "cell_type": "code",
   "execution_count": null,
   "metadata": {
    "collapsed": true
   },
   "outputs": [],
   "source": [
    "train(model, tgen, vgen, name=name)\n",
    "test(model, ravel=0, name=name, window=TIMESTEPS)"
   ]
  },
  {
   "cell_type": "markdown",
   "metadata": {},
   "source": [
    "#### 100 steps"
   ]
  },
  {
   "cell_type": "code",
   "execution_count": null,
   "metadata": {
    "collapsed": true
   },
   "outputs": [],
   "source": [
    "TIMESTEPS = 100\n",
    "DIM = 29\n",
    "tgen = flat_generator(X, TIMESTEPS,0)\n",
    "vgen = flat_generator(val_X, TIMESTEPS,0)\n",
    "name = \"gru2_100\""
   ]
  },
  {
   "cell_type": "code",
   "execution_count": null,
   "metadata": {
    "collapsed": true
   },
   "outputs": [],
   "source": [
    "input_layer = Input(shape=(TIMESTEPS,DIM))\n",
    "hidden = GRU(10, activation='relu', return_sequences=True)(input_layer)\n",
    "hidden = GRU(10, activation='relu')(hidden)\n",
    "output = Dense(DIM, activation='sigmoid')(hidden)"
   ]
  },
  {
   "cell_type": "code",
   "execution_count": null,
   "metadata": {
    "collapsed": true
   },
   "outputs": [],
   "source": [
    "model = Model(input_layer, output)\n",
    "model.compile(loss='mean_absolute_error', optimizer='adam', metrics=['mae'])"
   ]
  },
  {
   "cell_type": "code",
   "execution_count": null,
   "metadata": {
    "collapsed": true
   },
   "outputs": [],
   "source": [
    "train(model, tgen, vgen, name=name)\n",
    "test(model, ravel=0, name=name, window=TIMESTEPS)"
   ]
  },
  {
   "cell_type": "markdown",
   "metadata": {},
   "source": [
    "#### 200 steps"
   ]
  },
  {
   "cell_type": "code",
   "execution_count": null,
   "metadata": {
    "collapsed": true
   },
   "outputs": [],
   "source": [
    "TIMESTEPS = 200\n",
    "DIM = 29\n",
    "tgen = flat_generator(X, TIMESTEPS,0)\n",
    "vgen = flat_generator(val_X, TIMESTEPS,0)\n",
    "name = \"gru2_200\""
   ]
  },
  {
   "cell_type": "code",
   "execution_count": null,
   "metadata": {
    "collapsed": true
   },
   "outputs": [],
   "source": [
    "input_layer = Input(shape=(TIMESTEPS,DIM))\n",
    "hidden = GRU(10, activation='relu', return_sequences=True)(input_layer)\n",
    "hidden = GRU(10, activation='relu')(hidden)\n",
    "output = Dense(DIM, activation='sigmoid')(hidden)"
   ]
  },
  {
   "cell_type": "code",
   "execution_count": null,
   "metadata": {
    "collapsed": true
   },
   "outputs": [],
   "source": [
    "model = Model(input_layer, output)\n",
    "model.compile(loss='mean_absolute_error', optimizer='adam', metrics=['mae'])"
   ]
  },
  {
   "cell_type": "code",
   "execution_count": null,
   "metadata": {
    "collapsed": true
   },
   "outputs": [],
   "source": [
    "train(model, tgen, vgen, name=name)\n",
    "test(model, ravel=0, name=name, window=TIMESTEPS)"
   ]
  },
  {
   "cell_type": "markdown",
   "metadata": {},
   "source": [
    "### RNN with 3 GRU layers"
   ]
  },
  {
   "cell_type": "markdown",
   "metadata": {},
   "source": [
    "#### 2 steps"
   ]
  },
  {
   "cell_type": "code",
   "execution_count": null,
   "metadata": {
    "collapsed": true
   },
   "outputs": [],
   "source": [
    "TIMESTEPS = 2\n",
    "DIM = 29\n",
    "tgen = flat_generator(X, TIMESTEPS,0)\n",
    "vgen = flat_generator(val_X, TIMESTEPS,0)\n",
    "name = \"gru3_2\""
   ]
  },
  {
   "cell_type": "code",
   "execution_count": null,
   "metadata": {
    "collapsed": true
   },
   "outputs": [],
   "source": [
    "input_layer = Input(shape=(TIMESTEPS,DIM))\n",
    "hidden = GRU(10, activation='relu', return_sequences=True)(input_layer)\n",
    "hidden = GRU(10, activation='relu', return_sequences=True)(hidden)\n",
    "hidden = GRU(10, activation='relu')(hidden)\n",
    "output = Dense(DIM, activation='sigmoid')(hidden)"
   ]
  },
  {
   "cell_type": "code",
   "execution_count": null,
   "metadata": {
    "collapsed": true
   },
   "outputs": [],
   "source": [
    "model = Model(input_layer, output)\n",
    "model.compile(loss='mean_absolute_error', optimizer='adam', metrics=['mae'])"
   ]
  },
  {
   "cell_type": "code",
   "execution_count": null,
   "metadata": {
    "collapsed": true
   },
   "outputs": [],
   "source": [
    "train(model, tgen, vgen, name=name)\n",
    "test(model, ravel=0, name=name, window=TIMESTEPS)"
   ]
  },
  {
   "cell_type": "markdown",
   "metadata": {},
   "source": [
    "#### 5 steps"
   ]
  },
  {
   "cell_type": "code",
   "execution_count": null,
   "metadata": {
    "collapsed": true
   },
   "outputs": [],
   "source": [
    "TIMESTEPS = 5\n",
    "DIM = 29\n",
    "tgen = flat_generator(X, TIMESTEPS, 0)\n",
    "vgen = flat_generator(val_X, TIMESTEPS, 0)\n",
    "name = \"gru3_5\""
   ]
  },
  {
   "cell_type": "code",
   "execution_count": null,
   "metadata": {
    "collapsed": true
   },
   "outputs": [],
   "source": [
    "input_layer = Input(shape=(TIMESTEPS,DIM))\n",
    "hidden = GRU(10, activation='relu', return_sequences=True)(input_layer)\n",
    "hidden = GRU(10, activation='relu', return_sequences=True)(hidden)\n",
    "hidden = GRU(10, activation='relu')(hidden)\n",
    "output = Dense(DIM, activation='sigmoid')(hidden)"
   ]
  },
  {
   "cell_type": "code",
   "execution_count": null,
   "metadata": {
    "collapsed": true
   },
   "outputs": [],
   "source": [
    "model = Model(input_layer, output)\n",
    "model.compile(loss='mean_absolute_error', optimizer='adam', metrics=['mae'])"
   ]
  },
  {
   "cell_type": "code",
   "execution_count": null,
   "metadata": {
    "collapsed": true
   },
   "outputs": [],
   "source": [
    "train(model, tgen, vgen, name=name)\n",
    "test(model, ravel=0, name=name, window=TIMESTEPS)"
   ]
  },
  {
   "cell_type": "markdown",
   "metadata": {},
   "source": [
    "#### 10 steps"
   ]
  },
  {
   "cell_type": "code",
   "execution_count": null,
   "metadata": {
    "collapsed": true
   },
   "outputs": [],
   "source": [
    "TIMESTEPS = 10\n",
    "DIM = 29\n",
    "tgen = flat_generator(X, TIMESTEPS, 0)\n",
    "vgen = flat_generator(val_X, TIMESTEPS, 0)\n",
    "name = \"gru3_10\""
   ]
  },
  {
   "cell_type": "code",
   "execution_count": null,
   "metadata": {
    "collapsed": true
   },
   "outputs": [],
   "source": [
    "input_layer = Input(shape=(TIMESTEPS,DIM))\n",
    "hidden = GRU(10, activation='relu', return_sequences=True)(input_layer)\n",
    "hidden = GRU(10, activation='relu', return_sequences=True)(hidden)\n",
    "hidden = GRU(10, activation='relu')(hidden)\n",
    "output = Dense(DIM, activation='sigmoid')(hidden)"
   ]
  },
  {
   "cell_type": "code",
   "execution_count": null,
   "metadata": {
    "collapsed": true
   },
   "outputs": [],
   "source": [
    "model = Model(input_layer, output)\n",
    "model.compile(loss='mean_absolute_error', optimizer='adam', metrics=['mae'])"
   ]
  },
  {
   "cell_type": "code",
   "execution_count": null,
   "metadata": {
    "collapsed": true
   },
   "outputs": [],
   "source": [
    "train(model, tgen, vgen, name=name)\n",
    "test(model, ravel=0, name=name, window=TIMESTEPS)"
   ]
  },
  {
   "cell_type": "markdown",
   "metadata": {},
   "source": [
    "#### 20 steps"
   ]
  },
  {
   "cell_type": "code",
   "execution_count": null,
   "metadata": {
    "collapsed": true
   },
   "outputs": [],
   "source": [
    "TIMESTEPS = 20\n",
    "DIM = 29\n",
    "tgen = flat_generator(X, TIMESTEPS,0)\n",
    "vgen = flat_generator(val_X, TIMESTEPS,0)\n",
    "name = \"gru3_20\""
   ]
  },
  {
   "cell_type": "code",
   "execution_count": null,
   "metadata": {
    "collapsed": true
   },
   "outputs": [],
   "source": [
    "input_layer = Input(shape=(TIMESTEPS,DIM))\n",
    "hidden = GRU(10, activation='relu', return_sequences=True)(input_layer)\n",
    "hidden = GRU(10, activation='relu', return_sequences=True)(hidden)\n",
    "hidden = GRU(10, activation='relu')(hidden)\n",
    "output = Dense(DIM, activation='sigmoid')(hidden)"
   ]
  },
  {
   "cell_type": "code",
   "execution_count": null,
   "metadata": {
    "collapsed": true
   },
   "outputs": [],
   "source": [
    "model = Model(input_layer, output)\n",
    "model.compile(loss='mean_absolute_error', optimizer='adam', metrics=['mae'])"
   ]
  },
  {
   "cell_type": "code",
   "execution_count": null,
   "metadata": {
    "collapsed": true
   },
   "outputs": [],
   "source": [
    "train(model, tgen, vgen, name=name)\n",
    "test(model, ravel=0, name=name, window=TIMESTEPS)"
   ]
  },
  {
   "cell_type": "markdown",
   "metadata": {},
   "source": [
    "#### 50 steps"
   ]
  },
  {
   "cell_type": "code",
   "execution_count": null,
   "metadata": {
    "collapsed": true
   },
   "outputs": [],
   "source": [
    "TIMESTEPS = 50\n",
    "DIM = 29\n",
    "tgen = flat_generator(X, TIMESTEPS,0)\n",
    "vgen = flat_generator(val_X, TIMESTEPS,0)\n",
    "name = \"gru3_50\""
   ]
  },
  {
   "cell_type": "code",
   "execution_count": null,
   "metadata": {
    "collapsed": true
   },
   "outputs": [],
   "source": [
    "input_layer = Input(shape=(TIMESTEPS,DIM))\n",
    "hidden = GRU(10, activation='relu', return_sequences=True)(input_layer)\n",
    "hidden = GRU(10, activation='relu', return_sequences=True)(hidden)\n",
    "hidden = GRU(10, activation='relu')(hidden)\n",
    "output = Dense(DIM, activation='sigmoid')(hidden)"
   ]
  },
  {
   "cell_type": "code",
   "execution_count": null,
   "metadata": {
    "collapsed": true
   },
   "outputs": [],
   "source": [
    "model = Model(input_layer, output)\n",
    "model.compile(loss='mean_absolute_error', optimizer='adam', metrics=['mae'])"
   ]
  },
  {
   "cell_type": "code",
   "execution_count": null,
   "metadata": {
    "collapsed": true
   },
   "outputs": [],
   "source": [
    "train(model, tgen, vgen, name=name)\n",
    "test(model, ravel=0, name=name, window=TIMESTEPS)"
   ]
  },
  {
   "cell_type": "markdown",
   "metadata": {},
   "source": [
    "#### 100 steps"
   ]
  },
  {
   "cell_type": "code",
   "execution_count": null,
   "metadata": {
    "collapsed": true
   },
   "outputs": [],
   "source": [
    "TIMESTEPS = 100\n",
    "DIM = 29\n",
    "tgen = flat_generator(X, TIMESTEPS,0)\n",
    "vgen = flat_generator(val_X, TIMESTEPS,0)\n",
    "name = \"gru3_100\""
   ]
  },
  {
   "cell_type": "code",
   "execution_count": null,
   "metadata": {
    "collapsed": true
   },
   "outputs": [],
   "source": [
    "input_layer = Input(shape=(TIMESTEPS,DIM))\n",
    "hidden = GRU(10, activation='relu', return_sequences=True)(input_layer)\n",
    "hidden = GRU(10, activation='relu', return_sequences=True)(hidden)\n",
    "hidden = GRU(10, activation='relu')(hidden)\n",
    "output = Dense(DIM, activation='sigmoid')(hidden)"
   ]
  },
  {
   "cell_type": "code",
   "execution_count": null,
   "metadata": {
    "collapsed": true
   },
   "outputs": [],
   "source": [
    "model = Model(input_layer, output)\n",
    "model.compile(loss='mean_absolute_error', optimizer='adam', metrics=['mae'])"
   ]
  },
  {
   "cell_type": "code",
   "execution_count": null,
   "metadata": {
    "collapsed": true
   },
   "outputs": [],
   "source": [
    "train(model, tgen, vgen, name=name)\n",
    "test(model, ravel=0, name=name, window=TIMESTEPS)"
   ]
  },
  {
   "cell_type": "markdown",
   "metadata": {},
   "source": [
    "#### 200 steps"
   ]
  },
  {
   "cell_type": "code",
   "execution_count": null,
   "metadata": {
    "collapsed": true
   },
   "outputs": [],
   "source": [
    "TIMESTEPS = 200\n",
    "DIM = 29\n",
    "tgen = flat_generator(X, TIMESTEPS,0)\n",
    "vgen = flat_generator(val_X, TIMESTEPS,0)\n",
    "name = \"gru3_200\""
   ]
  },
  {
   "cell_type": "code",
   "execution_count": null,
   "metadata": {
    "collapsed": true
   },
   "outputs": [],
   "source": [
    "input_layer = Input(shape=(TIMESTEPS,DIM))\n",
    "hidden = GRU(10, activation='relu', return_sequences=True)(input_layer)\n",
    "hidden = GRU(10, activation='relu', return_sequences=True)(hidden)\n",
    "hidden = GRU(10, activation='relu')(hidden)\n",
    "output = Dense(DIM, activation='sigmoid')(hidden)"
   ]
  },
  {
   "cell_type": "code",
   "execution_count": null,
   "metadata": {
    "collapsed": true
   },
   "outputs": [],
   "source": [
    "model = Model(input_layer, output)\n",
    "model.compile(loss='mean_absolute_error', optimizer='adam', metrics=['mae'])"
   ]
  },
  {
   "cell_type": "code",
   "execution_count": null,
   "metadata": {
    "collapsed": true
   },
   "outputs": [],
   "source": [
    "train(model, tgen, vgen, name=name)\n",
    "test(model, ravel=0, name=name, window=TIMESTEPS)"
   ]
  }
 ],
 "metadata": {
  "kernelspec": {
   "display_name": "Python 3",
   "language": "python",
   "name": "python3"
  },
  "language_info": {
   "codemirror_mode": {
    "name": "ipython",
    "version": 3
   },
   "file_extension": ".py",
   "mimetype": "text/x-python",
   "name": "python",
   "nbconvert_exporter": "python",
   "pygments_lexer": "ipython3",
   "version": "3.6.5"
  }
 },
 "nbformat": 4,
 "nbformat_minor": 2
}
