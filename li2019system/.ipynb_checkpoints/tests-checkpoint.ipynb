{
 "cells": [
  {
   "cell_type": "code",
   "execution_count": 1,
   "metadata": {},
   "outputs": [],
   "source": [
    "import os\n",
    "import numpy\n",
    "import matplotlib.pyplot as plotter\n",
    "import pandas\n",
    "from sklearn.metrics import f1_score"
   ]
  },
  {
   "cell_type": "code",
   "execution_count": 3,
   "metadata": {},
   "outputs": [],
   "source": [
    "files = os.listdir('results')"
   ]
  },
  {
   "cell_type": "code",
   "execution_count": 4,
   "metadata": {},
   "outputs": [],
   "source": [
    "models = ['lin', 'nn_', 'gru_']"
   ]
  },
  {
   "cell_type": "code",
   "execution_count": 6,
   "metadata": {},
   "outputs": [
    {
     "name": "stdout",
     "output_type": "stream",
     "text": [
      "['lin100_100_duration_5_true.npy', 'lin50_100_duration_7_true.npy', 'lin100_100_duration_7_true.npy', 'lin2_100_duration_2_true.npy', 'lin200_100_duration_3_true.npy', 'lin20_100_duration_6_true.npy', 'lin200_100_duration_2_true.npy', 'lin100_100_duration_3_true.npy', 'lin200_100_duration_5_true.npy', 'lin2_100_duration_9_true.npy', 'lin5_100_duration_9_true.npy', 'lin20_100_duration_9_true.npy', 'lin5_100_duration_8_true.npy', 'lin2_100_duration_1_true.npy', 'lin50_100_duration_3_true.npy', 'lin200_100_duration_1_true.npy', 'lin2_100_duration_7_true.npy', 'lin50_100_duration_8_true.npy', 'lin2_100_duration_4_true.npy', 'lin10_100_duration_4_true.npy', 'lin50_100_duration_9_true.npy', 'lin100_100_duration_2_true.npy', 'lin10_100_duration_9_true.npy', 'lin10_100_duration_1_true.npy', 'lin5_100_duration_5_true.npy', 'lin10_100_duration_2_true.npy', 'lin50_100_duration_5_true.npy', 'lin200_100_duration_4_true.npy', 'lin10_100_duration_7_true.npy', 'lin10_100_duration_3_true.npy', 'lin200_100_duration_7_true.npy', 'lin100_100_duration_8_true.npy', 'lin2_100_duration_6_true.npy', 'lin200_100_duration_6_true.npy', 'lin20_100_duration_5_true.npy', 'lin5_100_duration_3_true.npy', 'lin2_100_duration_3_true.npy', 'lin20_100_duration_7_true.npy', 'lin50_100_duration_2_true.npy', 'lin5_100_duration_2_true.npy', 'lin20_100_duration_4_true.npy', 'lin100_100_duration_6_true.npy', 'lin50_100_duration_1_true.npy', 'lin5_100_duration_1_true.npy', 'lin5_100_duration_7_true.npy', 'lin100_100_duration_9_true.npy', 'lin5_100_duration_4_true.npy', 'lin50_100_duration_4_true.npy', 'lin200_100_duration_9_true.npy', 'lin200_100_duration_8_true.npy', 'lin10_100_duration_5_true.npy', 'lin10_100_duration_6_true.npy', 'lin2_100_duration_8_true.npy', 'lin5_100_duration_6_true.npy', 'lin20_100_duration_2_true.npy', 'lin20_100_duration_3_true.npy', 'lin50_100_duration_6_true.npy', 'lin20_100_duration_8_true.npy', 'lin100_100_duration_1_true.npy', 'lin2_100_duration_5_true.npy', 'lin20_100_duration_1_true.npy', 'lin10_100_duration_8_true.npy', 'lin100_100_duration_4_true.npy']\n",
      "['lin10_100_duration_2.npy', 'lin20_100_duration_3.npy', 'lin20_100_duration_7.npy', 'lin2_100_duration_8.npy', 'lin2_100_duration_3.npy', 'lin2_100_duration_1.npy', 'lin5_100_duration_6.npy', 'lin5_100_duration_7.npy', 'lin200_100_duration_5.npy', 'lin5_100_duration_2.npy', 'lin200_100_duration_7.npy', 'lin50_100_duration_6.npy', 'lin100_100_duration_4.npy', 'lin100_100_duration_8.npy', 'lin100_100_duration_6.npy', 'lin5_100_duration_3.npy', 'lin200_100_duration_1.npy', 'lin100_100_duration_9.npy', 'lin20_100_duration_8.npy', 'lin10_100_duration_9.npy', 'lin2_100_duration_2.npy', 'lin50_100_duration_3.npy', 'lin20_100_duration_6.npy', 'lin50_100_duration_4.npy', 'lin2_100_duration_5.npy', 'lin2_100_duration_9.npy', 'lin100_100_duration_3.npy', 'lin20_100_duration_4.npy', 'lin2_100_duration_6.npy', 'lin100_100_duration_2.npy', 'lin10_100_duration_3.npy', 'lin200_100_duration_6.npy', 'lin50_100_duration_2.npy', 'lin200_100_duration_4.npy', 'lin50_100_duration_1.npy', 'lin5_100_duration_9.npy', 'lin100_100_duration_7.npy', 'lin200_100_duration_8.npy', 'lin10_100_duration_6.npy', 'lin50_100_duration_8.npy', 'lin10_100_duration_7.npy', 'lin200_100_duration_9.npy', 'lin5_100_duration_5.npy', 'lin10_100_duration_4.npy', 'lin100_100_duration_5.npy', 'lin10_100_duration_8.npy', 'lin2_100_duration_7.npy', 'lin5_100_duration_1.npy', 'lin20_100_duration_2.npy', 'lin100_100_duration_1.npy', 'lin20_100_duration_9.npy', 'lin20_100_duration_5.npy', 'lin5_100_duration_4.npy', 'lin50_100_duration_5.npy', 'lin10_100_duration_1.npy', 'lin5_100_duration_8.npy', 'lin50_100_duration_9.npy', 'lin2_100_duration_4.npy', 'lin200_100_duration_3.npy', 'lin20_100_duration_1.npy', 'lin10_100_duration_5.npy', 'lin50_100_duration_7.npy', 'lin200_100_duration_2.npy']\n"
     ]
    }
   ],
   "source": [
    "for model in models:\n",
    "    \n",
    "    res_per_model = list(filter(lambda x: model in x, files))\n",
    "    \n",
    "    truth = list(filter(lambda x: 'true' in x, res_per_model))\n",
    "    results = list(filter(lambda x: 'true' not in x, res_per_model))\n",
    "    print(truth)\n",
    "    print(results)\n",
    "    break"
   ]
  },
  {
   "cell_type": "code",
   "execution_count": null,
   "metadata": {},
   "outputs": [],
   "source": []
  }
 ],
 "metadata": {
  "kernelspec": {
   "display_name": "Python 3",
   "language": "python",
   "name": "python3"
  },
  "language_info": {
   "codemirror_mode": {
    "name": "ipython",
    "version": 3
   },
   "file_extension": ".py",
   "mimetype": "text/x-python",
   "name": "python",
   "nbconvert_exporter": "python",
   "pygments_lexer": "ipython3",
   "version": "3.6.5"
  }
 },
 "nbformat": 4,
 "nbformat_minor": 2
}
