{
 "cells": [
  {
   "cell_type": "markdown",
   "metadata": {},
   "source": [
    "# ANSI Application analysis"
   ]
  },
  {
   "cell_type": "code",
   "execution_count": null,
   "metadata": {
    "collapsed": true
   },
   "outputs": [],
   "source": [
    "import numpy\n",
    "import pandas\n",
    "import matplotlib.pyplot as plotter\n",
    "from scipy.stats import pearsonr, probplot\n",
    "from sklearn.metrics import mean_squared_error, mean_absolute_error"
   ]
  },
  {
   "cell_type": "code",
   "execution_count": null,
   "metadata": {
    "collapsed": true
   },
   "outputs": [],
   "source": [
    "def view_boxplot(df):\n",
    "    %matplotlib\n",
    "    df.boxplot()\n",
    "    plotter.show()"
   ]
  },
  {
   "cell_type": "markdown",
   "metadata": {},
   "source": [
    "## CPU data"
   ]
  },
  {
   "cell_type": "code",
   "execution_count": null,
   "metadata": {
    "collapsed": true
   },
   "outputs": [],
   "source": [
    "cpu_df = pandas.read_csv('data/ansi_fake_data/ansi_fake_data_cpu.csv', index_col='Time').drop('Unnamed: 0', axis=1)"
   ]
  },
  {
   "cell_type": "code",
   "execution_count": null,
   "metadata": {
    "collapsed": true,
    "scrolled": false
   },
   "outputs": [],
   "source": [
    "#cpu_df.columns"
   ]
  },
  {
   "cell_type": "code",
   "execution_count": null,
   "metadata": {
    "collapsed": true
   },
   "outputs": [],
   "source": [
    "#view_boxplot(cpu_df)"
   ]
  },
  {
   "cell_type": "markdown",
   "metadata": {},
   "source": [
    "## Network TX"
   ]
  },
  {
   "cell_type": "code",
   "execution_count": null,
   "metadata": {
    "collapsed": true
   },
   "outputs": [],
   "source": [
    "txnet_df = pandas.read_csv('data/ansi_fake_data/ansi_fake_data_network_tx.csv', index_col='Time').drop('Unnamed: 0', axis=1)"
   ]
  },
  {
   "cell_type": "code",
   "execution_count": null,
   "metadata": {
    "collapsed": true
   },
   "outputs": [],
   "source": [
    "#txnet_df.columns"
   ]
  },
  {
   "cell_type": "code",
   "execution_count": null,
   "metadata": {
    "collapsed": true
   },
   "outputs": [],
   "source": [
    "#view_boxplot(txnet_df)"
   ]
  },
  {
   "cell_type": "markdown",
   "metadata": {},
   "source": [
    "## Network RX"
   ]
  },
  {
   "cell_type": "code",
   "execution_count": null,
   "metadata": {
    "collapsed": true
   },
   "outputs": [],
   "source": [
    "rxnet_df = pandas.read_csv('data/ansi_fake_data/ansi_fake_data_network_rx.csv', index_col='Time').drop('Unnamed: 0', axis=1)"
   ]
  },
  {
   "cell_type": "code",
   "execution_count": null,
   "metadata": {
    "collapsed": true
   },
   "outputs": [],
   "source": [
    "#rxnet_df.columns"
   ]
  },
  {
   "cell_type": "code",
   "execution_count": null,
   "metadata": {
    "collapsed": true
   },
   "outputs": [],
   "source": [
    "rxnet_df = rxnet_df.clip(lower=0, upper=15000)\n",
    "#view_boxplot(rxnet_df)"
   ]
  },
  {
   "cell_type": "markdown",
   "metadata": {},
   "source": [
    "## Disk IO data"
   ]
  },
  {
   "cell_type": "code",
   "execution_count": null,
   "metadata": {
    "collapsed": true
   },
   "outputs": [],
   "source": [
    "disk_df = pandas.read_csv('data/ansi_fake_data/ansi_fake_data_disk_io.csv', index_col='Time').drop('Unnamed: 0', axis=1)"
   ]
  },
  {
   "cell_type": "code",
   "execution_count": null,
   "metadata": {
    "collapsed": true
   },
   "outputs": [],
   "source": [
    "#disk_df.columns"
   ]
  },
  {
   "cell_type": "code",
   "execution_count": null,
   "metadata": {
    "collapsed": true
   },
   "outputs": [],
   "source": [
    "disk_df = disk_df.clip(lower=0, upper=4000)\n",
    "#view_boxplot(disk_df)"
   ]
  },
  {
   "cell_type": "markdown",
   "metadata": {},
   "source": [
    "## Context switching"
   ]
  },
  {
   "cell_type": "code",
   "execution_count": null,
   "metadata": {
    "collapsed": true
   },
   "outputs": [],
   "source": [
    "context_df = pandas.read_csv('data/ansi_fake_data/ansi_fake_data_context.csv', index_col='Time').drop('Unnamed: 0', axis=1)"
   ]
  },
  {
   "cell_type": "code",
   "execution_count": null,
   "metadata": {
    "collapsed": true
   },
   "outputs": [],
   "source": [
    "#context_df.columns"
   ]
  },
  {
   "cell_type": "code",
   "execution_count": null,
   "metadata": {
    "collapsed": true
   },
   "outputs": [],
   "source": [
    "context_df = context_df.clip(lower=0, upper=5000)\n",
    "#view_boxplot(context_df)"
   ]
  },
  {
   "cell_type": "markdown",
   "metadata": {},
   "source": [
    "## Seperate into proper dataframes for each node"
   ]
  },
  {
   "cell_type": "code",
   "execution_count": null,
   "metadata": {
    "collapsed": true
   },
   "outputs": [],
   "source": [
    "dframes = [cpu_df, txnet_df, rxnet_df, context_df, disk_df]\n",
    "node = {}\n",
    "\n",
    "for i in range(1,5):\n",
    "    frames = []\n",
    "    \n",
    "    for dframe in dframes:\n",
    "        columns = list(filter(lambda x: f'bb{i}l' in x, dframe.columns))\n",
    "        frames.append(dframe[columns])\n",
    "\n",
    "    node[i] = pandas.concat(frames, join='inner', axis=1).fillna(0)[:38200]"
   ]
  },
  {
   "cell_type": "code",
   "execution_count": null,
   "metadata": {},
   "outputs": [],
   "source": [
    "for i in range(1,5):\n",
    "    print(node[i].shape)\n",
    "    print(node[i].columns)\n",
    "    for column in node[i].columns:\n",
    "        print(f\"Distribution of data for {column}\")\n",
    "        node[i][column].hist()\n",
    "        plotter.ylabel(\"Number of data samples\")\n",
    "        plotter.xlabel(\"value\")\n",
    "        plotter.savefig(f\"node{i}_{column}_hist.png\")\n",
    "        plotter.show()\n",
    "        pass"
   ]
  },
  {
   "cell_type": "markdown",
   "metadata": {},
   "source": [
    "## Get data"
   ]
  },
  {
   "cell_type": "code",
   "execution_count": null,
   "metadata": {
    "collapsed": true
   },
   "outputs": [],
   "source": [
    "data_matrices = []\n",
    "\n",
    "for i in range(1,5):\n",
    "    data_matrices.append(node[i].as_matrix())\n",
    "    \n",
    "data = numpy.vstack(data_matrices)"
   ]
  },
  {
   "cell_type": "code",
   "execution_count": null,
   "metadata": {},
   "outputs": [],
   "source": [
    "data.shape"
   ]
  },
  {
   "cell_type": "code",
   "execution_count": null,
   "metadata": {},
   "outputs": [],
   "source": [
    "tdata = data[:,24]\n",
    "plotter.plot(tdata.T[:100])\n",
    "plotter.show()\n",
    "print(data.shape)"
   ]
  },
  {
   "cell_type": "code",
   "execution_count": null,
   "metadata": {
    "collapsed": true
   },
   "outputs": [],
   "source": [
    "#data = data[:,24]"
   ]
  },
  {
   "cell_type": "markdown",
   "metadata": {},
   "source": [
    "## Prepare scaler"
   ]
  },
  {
   "cell_type": "code",
   "execution_count": null,
   "metadata": {
    "collapsed": true
   },
   "outputs": [],
   "source": [
    "from sklearn.preprocessing import MinMaxScaler\n",
    "from sklearn.preprocessing import StandardScaler\n",
    "from sklearn.preprocessing import RobustScaler\n",
    "scaler = MinMaxScaler()"
   ]
  },
  {
   "cell_type": "code",
   "execution_count": null,
   "metadata": {
    "collapsed": true
   },
   "outputs": [],
   "source": [
    "scaler.fit(data)\n",
    "del data"
   ]
  },
  {
   "cell_type": "markdown",
   "metadata": {},
   "source": [
    "---"
   ]
  },
  {
   "cell_type": "markdown",
   "metadata": {},
   "source": [
    "## Correrlation measurement"
   ]
  },
  {
   "cell_type": "markdown",
   "metadata": {},
   "source": [
    "---"
   ]
  },
  {
   "cell_type": "markdown",
   "metadata": {},
   "source": [
    "------"
   ]
  },
  {
   "cell_type": "markdown",
   "metadata": {},
   "source": [
    "-----"
   ]
  },
  {
   "cell_type": "markdown",
   "metadata": {},
   "source": [
    "# Prediction"
   ]
  },
  {
   "cell_type": "code",
   "execution_count": null,
   "metadata": {},
   "outputs": [],
   "source": [
    "for i in range(len(data_matrices)):\n",
    "    \n",
    "    transformed = scaler.transform(data_matrices[i])\n",
    "    data_matrices[i] = transformed\n",
    "\n",
    "X = numpy.stack(data_matrices[:-1], axis=1)\n",
    "print(data_matrices[3].shape)"
   ]
  },
  {
   "cell_type": "code",
   "execution_count": null,
   "metadata": {},
   "outputs": [],
   "source": [
    "print(X.shape)\n",
    "LEN = X.shape[0]\n",
    "SPLIT = int(0.85*LEN)\n",
    "\n",
    "train_X = X[:SPLIT,:,:]\n",
    "val_X = X[SPLIT:SPLIT+1000,:,:]\n",
    "test_X = X[SPLIT+1000:,:,:]\n",
    "diff_app_X = data_matrices[3][SPLIT+1000:,:]"
   ]
  },
  {
   "cell_type": "code",
   "execution_count": null,
   "metadata": {},
   "outputs": [],
   "source": [
    "X = train_X\n",
    "X = numpy.transpose(X, (1, 0, 2))\n",
    "val_X = numpy.transpose(val_X, (1, 0, 2))\n",
    "test_X = numpy.transpose(test_X, (1, 0, 2))\n",
    "\n",
    "\n",
    "ano_test = test_X[0]\n",
    "norm_test = test_X[2]\n",
    "diff_app_test = diff_app_X\n",
    "app_change_test = numpy.vstack([norm_test[:3500,:], diff_app_test[3500:,:]])\n",
    "net_flood_test = numpy.copy(norm_test)\n",
    "net_flood_test[3000:,22] = 1.0\n",
    "net_flood_test[3000:,23] = 1.0\n",
    "\n",
    "print(f\"Validation shape is {val_X.shape}\")\n",
    "print(f\"Anomaly test shape is {ano_test.shape}\")\n",
    "print(f\"Normal test shape is {norm_test.shape}\")\n",
    "print(f\"Different app test shape is {diff_app_test.shape}\")\n",
    "print(f\"App change test shape is {app_change_test.shape}\")\n",
    "print(f\"Net flood test shape is {net_flood_test.shape}\")"
   ]
  },
  {
   "cell_type": "code",
   "execution_count": null,
   "metadata": {
    "collapsed": true
   },
   "outputs": [],
   "source": [
    "def flat_generator(X, tsteps = 5, ravel=1):\n",
    "    i = 0\n",
    "    \n",
    "    while True:\n",
    "        batch_X = X[:,i:i+tsteps,:]\n",
    "        batch_y = X[:,i+tsteps,:]\n",
    "            \n",
    "        if ravel:\n",
    "            batch_X = batch_X.reshape((batch_X.shape[0], -1))\n",
    "        #print(batch_X.shape)\n",
    "        #print(batch_y.shape)\n",
    "        \n",
    "        yield batch_X, batch_y\n",
    "        \n",
    "        i += 1\n",
    "        if i > (X.shape[1] - tsteps - 1):\n",
    "            i = 0\n",
    "            continue"
   ]
  },
  {
   "cell_type": "code",
   "execution_count": null,
   "metadata": {
    "collapsed": true
   },
   "outputs": [],
   "source": []
  },
  {
   "cell_type": "code",
   "execution_count": null,
   "metadata": {
    "collapsed": true
   },
   "outputs": [],
   "source": []
  },
  {
   "cell_type": "markdown",
   "metadata": {},
   "source": [
    "## Flat models"
   ]
  },
  {
   "cell_type": "code",
   "execution_count": null,
   "metadata": {},
   "outputs": [],
   "source": [
    "from keras.models import Model\n",
    "from keras.layers import Dense, Input, Dropout, GRU\n",
    "from keras.callbacks import EarlyStopping"
   ]
  },
  {
   "cell_type": "code",
   "execution_count": null,
   "metadata": {
    "collapsed": true
   },
   "outputs": [],
   "source": [
    "def train(model, tgen, vgen, name=\"none\"):\n",
    "    estopper = EarlyStopping(patience=15, min_delta=0.0001)\n",
    "    history = model.fit_generator(tgen, steps_per_epoch=1000, epochs=10000, callbacks=[estopper], shuffle=False, validation_data=vgen, validation_steps=1000, verbose=0)\n",
    "    plotter.plot(history.history['loss'],label='train')\n",
    "    plotter.plot(history.history['val_loss'],label='validation')\n",
    "    plotter.legend()\n",
    "    plotter.xlim(0,150)\n",
    "    plotter.xlabel(\"Epochs\")\n",
    "    plotter.ylabel(\"Error\")\n",
    "    plotter.savefig(f\"{name}_train.png\", dpi=1000)\n",
    "    plotter.show()\n",
    "    print(f\"Training loss for final epoch is {history.history['loss'][-1]}\")\n",
    "    print(f\"Validation loss for final epoch is {history.history['val_loss'][-1]}\")"
   ]
  },
  {
   "cell_type": "code",
   "execution_count": null,
   "metadata": {
    "collapsed": true
   },
   "outputs": [],
   "source": [
    "def plot_running_stats(error, name=\"none\", window_size=5, bounds=None, qq=0):\n",
    "    error = numpy.array(error)\n",
    "    window = numpy.ones(window_size)/window_size\n",
    "    running_mean = numpy.convolve(error, window, mode=\"same\")\n",
    "    running_sigma = pandas.Series(error).rolling(window=window_size, center=True).std()\n",
    "    difference = 3.0 * running_sigma\n",
    "    \n",
    "    upper = running_mean + difference\n",
    "    lower = running_mean - difference\n",
    "    \n",
    "    if bounds == None:\n",
    "        global_mean = numpy.mean(error) * numpy.ones(error.shape[0])\n",
    "        global_sigma = numpy.std(error) * numpy.ones(error.shape[0])\n",
    "        bound = (5.0 * global_sigma) + global_mean\n",
    "        \n",
    "    else:\n",
    "        \n",
    "        global_mean = bounds[0]\n",
    "        bound = bounds[1]\n",
    "        \n",
    "    anomaly = ((error > bound) * error)\n",
    "    anomaly = numpy.array([float('nan') if x == 0.0 else x for x in anomaly])\n",
    "    \n",
    "    if qq:\n",
    "        probplot(error,dist=\"norm\", plot=plotter)\n",
    "        plotter.legend()\n",
    "        plotter.savefig(f\"{name}_qq.png\",dpi=1000)\n",
    "        plotter.show()\n",
    "    \n",
    "    fig = plotter.figure()\n",
    "    plotter.plot(error, 'g-', alpha=0.4, label=\"Error\", linewidth=0.5)\n",
    "    plotter.plot(global_mean, 'r-', alpha=0.9, label=\"Mean\", linewidth=0.5)\n",
    "    #plotter.plot(upper,'b-', alpha=0.2, label=\"Upper Bound\", linewidth=0.5)\n",
    "    plotter.plot(bound,'b-', alpha=0.2, label=\"Bound\", linewidth=0.5)\n",
    "    plotter.plot(anomaly,'r.', alpha=0.5, label=\"Anomaly\")\n",
    "    plotter.legend()\n",
    "    plotter.ylim(0,0.2)\n",
    "    plotter.xlabel(\"time\")\n",
    "    plotter.ylabel(\"Error\")\n",
    "    plotter.draw()\n",
    "    fig.savefig(f\"{name}_truetestloss.png\", dpi=1000)\n",
    "    plotter.show()\n",
    "    fig.clf()\n",
    "    plotter.clf()\n",
    "    plotter.close()\n",
    "    error = numpy.array(error)\n",
    "    print(f\"The mean error for {name} is {numpy.mean(error)} for length {error.shape[0]}\")\n",
    "    \n",
    "    return (global_mean, bound)"
   ]
  },
  {
   "cell_type": "code",
   "execution_count": null,
   "metadata": {
    "collapsed": true
   },
   "outputs": [],
   "source": [
    "def data_test(model, dataset=test_X[0], ravel=1, write=0, name=\"none\", window=5, bounds=None, qq=0):\n",
    "    test_gen = flat_generator(numpy.array([dataset]), window,0)\n",
    "    error = []\n",
    "    targets = []\n",
    "    preds = []\n",
    "    for i in range(dataset.shape[0]-(window+1)):\n",
    "        _input,target = next(test_gen)\n",
    "        targets.append(target.squeeze())\n",
    "        if ravel:\n",
    "            _input = _input.ravel()[:,numpy.newaxis].T\n",
    "            \n",
    "        pred = model.predict(_input)\n",
    "        #print(target.shape)\n",
    "        #print(pred.shape)\n",
    "        preds.append(pred.squeeze())\n",
    "        error.append(mean_absolute_error(y_pred=pred, y_true=target))\n",
    "\n",
    "    targets = numpy.vstack(targets)\n",
    "    preds = numpy.vstack(preds)\n",
    "    return plot_running_stats(error, name=name, window_size=window, bounds=bounds, qq=qq)\n",
    "    \n",
    "    #print(error)"
   ]
  },
  {
   "cell_type": "code",
   "execution_count": null,
   "metadata": {
    "collapsed": true
   },
   "outputs": [],
   "source": [
    "def gen_test(model, dataset=test_X[0], ravel=1, write=0, name=\"none\"):\n",
    "    test_gen = flat_generator(numpy.array([dataset]), TIMESTEPS,0)\n",
    "    error = []\n",
    "    targets = []\n",
    "    preds = []\n",
    "    for i in range(2000):\n",
    "        _input,target = next(test_gen)\n",
    "    \n",
    "        if i != 0:\n",
    "            #print(_input.shape)\n",
    "            _input = _input.squeeze()[1:,:]\n",
    "            #print(_input.shape)\n",
    "            _input = numpy.append(pred,_input, axis=0)[numpy.newaxis,:,:]\n",
    "            #print(_input.shape)\n",
    "        \n",
    "        targets.append(target.squeeze())\n",
    "        if ravel:\n",
    "            _input = _input.ravel()[:,numpy.newaxis].T\n",
    "            \n",
    "        pred = model.predict(_input)\n",
    "        #print(target.shape)\n",
    "        #print(pred.shape)\n",
    "        preds.append(pred.squeeze())\n",
    "        error.append(mean_absolute_error(y_pred=pred, y_true=target))\n",
    "\n",
    "    targets = numpy.vstack(targets)\n",
    "    preds = numpy.vstack(preds)\n",
    "\n",
    "    plotter.plot(error, 'g-', alpha=0.5)\n",
    "    plotter.ylim(0,0.2)\n",
    "    plotter.xlabel(\"time\")\n",
    "    plotter.ylabel(\"Error\")\n",
    "    plotter.savefig(f\"{name}_testloss.png\")\n",
    "    plotter.show()\n",
    "    error = numpy.array(error)\n",
    "    print(numpy.mean(error))\n",
    "    plotter.boxplot(error)\n",
    "    plotter.ylim(0,0.2)\n",
    "    plotter.xlabel(\"time\")\n",
    "    plotter.ylabel(\"Error\")\n",
    "    plotter.savefig(f\"{name}_boxplot.png\")\n",
    "    plotter.show()\n",
    "    if write:\n",
    "        numpy.savetxt('loss.txt', numpy.array(error))\n",
    "    true_test(model,dataset,ravel=ravel,name=name)\n",
    "    #print(error)"
   ]
  },
  {
   "cell_type": "code",
   "execution_count": null,
   "metadata": {
    "collapsed": true
   },
   "outputs": [],
   "source": [
    "def test(model, ravel=1, name=\"none\", window=20):\n",
    "    print(f\"---------- Beginning tests for {name} ----------\")\n",
    "    print(f\"Testing on normal data.\")\n",
    "    bounds = data_test(model, dataset=norm_test, ravel=ravel, name=(name+\"_normal_\"), window=window, qq=1)\n",
    "    print(f\"Testing on anomaly data.\")\n",
    "    data_test(model, dataset=ano_test, ravel=ravel, name=(name+\"_anomaly_\"), window=window, bounds=bounds)\n",
    "    print(f\"Testing on different app data.\")\n",
    "    data_test(model, dataset=diff_app_test, ravel=ravel, name=(name+\"_diff_app_\"), window=window, bounds=bounds)\n",
    "    print(f\"Testing on App change synthetic data.\")\n",
    "    data_test(model, dataset=app_change_test, ravel=ravel, name=(name+\"_app_change_\"), window=window, bounds=bounds)\n",
    "    print(f\"Testing on Net flood synthetic data.\")\n",
    "    data_test(model, dataset=net_flood_test, ravel=ravel, name=(name+\"_app_change_\"), window=window, bounds=bounds)\n",
    "    print(\"=\"*20)\n",
    "    print(\"\\r\\n\\r\\n\")"
   ]
  },
  {
   "cell_type": "markdown",
   "metadata": {},
   "source": [
    "### Linear Regression"
   ]
  },
  {
   "cell_type": "markdown",
   "metadata": {},
   "source": [
    "#### 2 steps"
   ]
  },
  {
   "cell_type": "code",
   "execution_count": null,
   "metadata": {
    "collapsed": true
   },
   "outputs": [],
   "source": [
    "TIMESTEPS = 2\n",
    "DIM = 29\n",
    "tgen = flat_generator(X, TIMESTEPS)\n",
    "vgen = flat_generator(val_X, TIMESTEPS)\n",
    "name = \"lin2\""
   ]
  },
  {
   "cell_type": "code",
   "execution_count": null,
   "metadata": {
    "collapsed": true
   },
   "outputs": [],
   "source": [
    "input_layer = Input(shape=(TIMESTEPS*DIM,))\n",
    "output = Dense(DIM, activation='sigmoid')(input_layer)"
   ]
  },
  {
   "cell_type": "code",
   "execution_count": null,
   "metadata": {
    "collapsed": true
   },
   "outputs": [],
   "source": [
    "model = Model(input_layer, output)\n",
    "model.compile(loss='mean_absolute_error', optimizer='adam', metrics=['mae'])"
   ]
  },
  {
   "cell_type": "code",
   "execution_count": null,
   "metadata": {},
   "outputs": [],
   "source": [
    "train(model, tgen, vgen, name=name)\n",
    "test(model, name=name, window=TIMESTEPS)"
   ]
  },
  {
   "cell_type": "markdown",
   "metadata": {},
   "source": [
    "#### 5 steps"
   ]
  },
  {
   "cell_type": "code",
   "execution_count": null,
   "metadata": {
    "collapsed": true
   },
   "outputs": [],
   "source": [
    "TIMESTEPS = 5\n",
    "DIM = 29\n",
    "tgen = flat_generator(X, TIMESTEPS)\n",
    "vgen = flat_generator(val_X, TIMESTEPS)\n",
    "name = \"lin5\""
   ]
  },
  {
   "cell_type": "code",
   "execution_count": null,
   "metadata": {
    "collapsed": true
   },
   "outputs": [],
   "source": [
    "input_layer = Input(shape=(TIMESTEPS*DIM,))\n",
    "output = Dense(DIM, activation='sigmoid')(input_layer)"
   ]
  },
  {
   "cell_type": "code",
   "execution_count": null,
   "metadata": {
    "collapsed": true
   },
   "outputs": [],
   "source": [
    "model = Model(input_layer, output)\n",
    "model.compile(loss='mean_absolute_error', optimizer='adam', metrics=['mae'])"
   ]
  },
  {
   "cell_type": "code",
   "execution_count": null,
   "metadata": {
    "collapsed": true
   },
   "outputs": [],
   "source": [
    "train(model, tgen, vgen, name=name)\n",
    "test(model, name=name, window=TIMESTEPS)"
   ]
  },
  {
   "cell_type": "markdown",
   "metadata": {},
   "source": [
    "#### 10 steps"
   ]
  },
  {
   "cell_type": "code",
   "execution_count": null,
   "metadata": {
    "collapsed": true
   },
   "outputs": [],
   "source": [
    "TIMESTEPS = 10\n",
    "DIM = 29\n",
    "tgen = flat_generator(X, TIMESTEPS)\n",
    "vgen = flat_generator(val_X, TIMESTEPS)\n",
    "name = \"lin10\""
   ]
  },
  {
   "cell_type": "code",
   "execution_count": null,
   "metadata": {
    "collapsed": true
   },
   "outputs": [],
   "source": [
    "input_layer = Input(shape=(TIMESTEPS*DIM,))\n",
    "output = Dense(DIM, activation='sigmoid')(input_layer)"
   ]
  },
  {
   "cell_type": "code",
   "execution_count": null,
   "metadata": {
    "collapsed": true
   },
   "outputs": [],
   "source": [
    "model = Model(input_layer, output)\n",
    "model.compile(loss='mean_absolute_error', optimizer='adam', metrics=['mae'])"
   ]
  },
  {
   "cell_type": "code",
   "execution_count": null,
   "metadata": {
    "collapsed": true
   },
   "outputs": [],
   "source": [
    "train(model, tgen, vgen, name=name)\n",
    "test(model, name=name, window=TIMESTEPS)"
   ]
  },
  {
   "cell_type": "markdown",
   "metadata": {},
   "source": [
    "#### 20 steps"
   ]
  },
  {
   "cell_type": "code",
   "execution_count": null,
   "metadata": {
    "collapsed": true
   },
   "outputs": [],
   "source": [
    "TIMESTEPS = 20\n",
    "DIM = 29\n",
    "tgen = flat_generator(X, TIMESTEPS)\n",
    "vgen = flat_generator(val_X, TIMESTEPS)\n",
    "name = \"lin20\""
   ]
  },
  {
   "cell_type": "code",
   "execution_count": null,
   "metadata": {
    "collapsed": true
   },
   "outputs": [],
   "source": [
    "input_layer = Input(shape=(TIMESTEPS*DIM,))\n",
    "output = Dense(DIM, activation='sigmoid')(input_layer)"
   ]
  },
  {
   "cell_type": "code",
   "execution_count": null,
   "metadata": {
    "collapsed": true
   },
   "outputs": [],
   "source": [
    "model = Model(input_layer, output)\n",
    "model.compile(loss='mean_absolute_error', optimizer='adam', metrics=['mae'])"
   ]
  },
  {
   "cell_type": "code",
   "execution_count": null,
   "metadata": {
    "collapsed": true
   },
   "outputs": [],
   "source": [
    "train(model, tgen, vgen, name=name)\n",
    "test(model, name=name, window=TIMESTEPS)"
   ]
  },
  {
   "cell_type": "markdown",
   "metadata": {},
   "source": [
    "#### 50 steps"
   ]
  },
  {
   "cell_type": "code",
   "execution_count": null,
   "metadata": {
    "collapsed": true
   },
   "outputs": [],
   "source": [
    "TIMESTEPS = 50\n",
    "DIM = 29\n",
    "tgen = flat_generator(X, TIMESTEPS)\n",
    "vgen = flat_generator(val_X, TIMESTEPS)\n",
    "name = \"lin50\""
   ]
  },
  {
   "cell_type": "code",
   "execution_count": null,
   "metadata": {
    "collapsed": true
   },
   "outputs": [],
   "source": [
    "input_layer = Input(shape=(TIMESTEPS*DIM,))\n",
    "output = Dense(DIM, activation='sigmoid')(input_layer)"
   ]
  },
  {
   "cell_type": "code",
   "execution_count": null,
   "metadata": {
    "collapsed": true
   },
   "outputs": [],
   "source": [
    "model = Model(input_layer, output)\n",
    "model.compile(loss='mean_absolute_error', optimizer='adam', metrics=['mae'])"
   ]
  },
  {
   "cell_type": "code",
   "execution_count": null,
   "metadata": {
    "collapsed": true
   },
   "outputs": [],
   "source": [
    "train(model, tgen, vgen, name=name)\n",
    "test(model, name=name, window=TIMESTEPS)"
   ]
  },
  {
   "cell_type": "markdown",
   "metadata": {},
   "source": [
    "#### 100 steps"
   ]
  },
  {
   "cell_type": "code",
   "execution_count": null,
   "metadata": {
    "collapsed": true
   },
   "outputs": [],
   "source": [
    "TIMESTEPS = 100\n",
    "DIM = 29\n",
    "tgen = flat_generator(X, TIMESTEPS)\n",
    "vgen = flat_generator(val_X, TIMESTEPS)\n",
    "name = \"lin100\""
   ]
  },
  {
   "cell_type": "code",
   "execution_count": null,
   "metadata": {
    "collapsed": true
   },
   "outputs": [],
   "source": [
    "input_layer = Input(shape=(TIMESTEPS*DIM,))\n",
    "output = Dense(DIM, activation='sigmoid')(input_layer)"
   ]
  },
  {
   "cell_type": "code",
   "execution_count": null,
   "metadata": {
    "collapsed": true
   },
   "outputs": [],
   "source": [
    "model = Model(input_layer, output)\n",
    "model.compile(loss='mean_absolute_error', optimizer='adam', metrics=['mae'])"
   ]
  },
  {
   "cell_type": "code",
   "execution_count": null,
   "metadata": {
    "collapsed": true
   },
   "outputs": [],
   "source": [
    "train(model, tgen, vgen, name=name)\n",
    "test(model, name=name, window=TIMESTEPS)"
   ]
  },
  {
   "cell_type": "markdown",
   "metadata": {},
   "source": [
    "#### 200 steps"
   ]
  },
  {
   "cell_type": "code",
   "execution_count": null,
   "metadata": {
    "collapsed": true
   },
   "outputs": [],
   "source": [
    "TIMESTEPS = 200\n",
    "DIM = 29\n",
    "tgen = flat_generator(X, TIMESTEPS)\n",
    "vgen = flat_generator(val_X, TIMESTEPS)\n",
    "name = \"lin200\""
   ]
  },
  {
   "cell_type": "code",
   "execution_count": null,
   "metadata": {
    "collapsed": true
   },
   "outputs": [],
   "source": [
    "input_layer = Input(shape=(TIMESTEPS*DIM,))\n",
    "output = Dense(DIM, activation='sigmoid')(input_layer)"
   ]
  },
  {
   "cell_type": "code",
   "execution_count": null,
   "metadata": {
    "collapsed": true
   },
   "outputs": [],
   "source": [
    "model = Model(input_layer, output)\n",
    "model.compile(loss='mean_absolute_error', optimizer='adam', metrics=['mae'])"
   ]
  },
  {
   "cell_type": "code",
   "execution_count": null,
   "metadata": {
    "collapsed": true
   },
   "outputs": [],
   "source": [
    "train(model, tgen, vgen, name=name)\n",
    "test(model, name=name, window=TIMESTEPS)"
   ]
  },
  {
   "cell_type": "markdown",
   "metadata": {},
   "source": [
    "### NN with 1 hidden layer"
   ]
  },
  {
   "cell_type": "markdown",
   "metadata": {},
   "source": [
    "#### 2 steps"
   ]
  },
  {
   "cell_type": "code",
   "execution_count": null,
   "metadata": {
    "collapsed": true
   },
   "outputs": [],
   "source": [
    "TIMESTEPS = 2\n",
    "DIM = 29\n",
    "tgen = flat_generator(X, TIMESTEPS)\n",
    "vgen = flat_generator(val_X, TIMESTEPS)\n",
    "name = \"nn1_2\""
   ]
  },
  {
   "cell_type": "code",
   "execution_count": null,
   "metadata": {
    "collapsed": true
   },
   "outputs": [],
   "source": [
    "input_layer = Input(shape=(TIMESTEPS*DIM,))\n",
    "hidden = Dense(100, activation='relu')(input_layer)\n",
    "output = Dense(DIM, activation='sigmoid')(hidden)"
   ]
  },
  {
   "cell_type": "code",
   "execution_count": null,
   "metadata": {
    "collapsed": true
   },
   "outputs": [],
   "source": [
    "model = Model(input_layer, output)\n",
    "model.compile(loss='mean_absolute_error', optimizer='adam', metrics=['mae'])"
   ]
  },
  {
   "cell_type": "code",
   "execution_count": null,
   "metadata": {
    "collapsed": true
   },
   "outputs": [],
   "source": [
    "train(model, tgen, vgen, name=name)\n",
    "test(model, name=name, window=TIMESTEPS)"
   ]
  },
  {
   "cell_type": "markdown",
   "metadata": {},
   "source": [
    "#### 5 steps"
   ]
  },
  {
   "cell_type": "code",
   "execution_count": null,
   "metadata": {
    "collapsed": true
   },
   "outputs": [],
   "source": [
    "TIMESTEPS = 5\n",
    "DIM = 29\n",
    "tgen = flat_generator(X, TIMESTEPS)\n",
    "vgen = flat_generator(val_X, TIMESTEPS)\n",
    "name = \"nn1_5\""
   ]
  },
  {
   "cell_type": "code",
   "execution_count": null,
   "metadata": {
    "collapsed": true
   },
   "outputs": [],
   "source": [
    "input_layer = Input(shape=(TIMESTEPS*DIM,))\n",
    "hidden = Dense(100, activation='relu')(input_layer)\n",
    "output = Dense(DIM, activation='sigmoid')(hidden)"
   ]
  },
  {
   "cell_type": "code",
   "execution_count": null,
   "metadata": {
    "collapsed": true
   },
   "outputs": [],
   "source": [
    "model = Model(input_layer, output)\n",
    "model.compile(loss='mean_absolute_error', optimizer='adam', metrics=['mae'])"
   ]
  },
  {
   "cell_type": "code",
   "execution_count": null,
   "metadata": {
    "collapsed": true
   },
   "outputs": [],
   "source": [
    "train(model, tgen, vgen, name=name)\n",
    "test(model, name=name, window=TIMESTEPS)"
   ]
  },
  {
   "cell_type": "markdown",
   "metadata": {},
   "source": [
    "#### 10 steps"
   ]
  },
  {
   "cell_type": "code",
   "execution_count": null,
   "metadata": {
    "collapsed": true
   },
   "outputs": [],
   "source": [
    "TIMESTEPS = 10\n",
    "DIM = 29\n",
    "tgen = flat_generator(X, TIMESTEPS)\n",
    "vgen = flat_generator(val_X, TIMESTEPS)\n",
    "name = \"nn1_10\""
   ]
  },
  {
   "cell_type": "code",
   "execution_count": null,
   "metadata": {
    "collapsed": true
   },
   "outputs": [],
   "source": [
    "input_layer = Input(shape=(TIMESTEPS*DIM,))\n",
    "hidden = Dense(100, activation='relu')(input_layer)\n",
    "output = Dense(DIM, activation='sigmoid')(hidden)"
   ]
  },
  {
   "cell_type": "code",
   "execution_count": null,
   "metadata": {
    "collapsed": true
   },
   "outputs": [],
   "source": [
    "model = Model(input_layer, output)\n",
    "model.compile(loss='mean_absolute_error', optimizer='adam', metrics=['mae'])"
   ]
  },
  {
   "cell_type": "code",
   "execution_count": null,
   "metadata": {
    "collapsed": true
   },
   "outputs": [],
   "source": [
    "train(model, tgen, vgen, name=name)\n",
    "test(model, name=name, window=TIMESTEPS)"
   ]
  },
  {
   "cell_type": "markdown",
   "metadata": {},
   "source": [
    "#### 20 steps"
   ]
  },
  {
   "cell_type": "code",
   "execution_count": null,
   "metadata": {
    "collapsed": true
   },
   "outputs": [],
   "source": [
    "TIMESTEPS = 20\n",
    "DIM = 29\n",
    "tgen = flat_generator(X, TIMESTEPS)\n",
    "vgen = flat_generator(val_X, TIMESTEPS)\n",
    "name = \"nn1_20\""
   ]
  },
  {
   "cell_type": "code",
   "execution_count": null,
   "metadata": {
    "collapsed": true
   },
   "outputs": [],
   "source": [
    "input_layer = Input(shape=(TIMESTEPS*DIM,))\n",
    "hidden = Dense(100,activation='relu')(input_layer)\n",
    "output = Dense(DIM, activation='sigmoid')(hidden)"
   ]
  },
  {
   "cell_type": "code",
   "execution_count": null,
   "metadata": {
    "collapsed": true
   },
   "outputs": [],
   "source": [
    "model = Model(input_layer, output)\n",
    "model.compile(loss='mean_absolute_error', optimizer='adam', metrics=['mae'])"
   ]
  },
  {
   "cell_type": "code",
   "execution_count": null,
   "metadata": {
    "collapsed": true
   },
   "outputs": [],
   "source": [
    "train(model, tgen, vgen, name=name)\n",
    "test(model, name=name, window=TIMESTEPS)"
   ]
  },
  {
   "cell_type": "markdown",
   "metadata": {},
   "source": [
    "#### 50 steps"
   ]
  },
  {
   "cell_type": "code",
   "execution_count": null,
   "metadata": {
    "collapsed": true
   },
   "outputs": [],
   "source": [
    "TIMESTEPS = 50\n",
    "DIM = 29\n",
    "tgen = flat_generator(X, TIMESTEPS)\n",
    "vgen = flat_generator(val_X, TIMESTEPS)\n",
    "name = \"nn1_50\""
   ]
  },
  {
   "cell_type": "code",
   "execution_count": null,
   "metadata": {
    "collapsed": true
   },
   "outputs": [],
   "source": [
    "input_layer = Input(shape=(TIMESTEPS*DIM,))\n",
    "hidden = Dense(100,activation='relu')(input_layer)\n",
    "output = Dense(DIM, activation='sigmoid')(hidden)"
   ]
  },
  {
   "cell_type": "code",
   "execution_count": null,
   "metadata": {
    "collapsed": true
   },
   "outputs": [],
   "source": [
    "model = Model(input_layer, output)\n",
    "model.compile(loss='mean_absolute_error', optimizer='adam', metrics=['mae'])"
   ]
  },
  {
   "cell_type": "code",
   "execution_count": null,
   "metadata": {
    "collapsed": true
   },
   "outputs": [],
   "source": [
    "train(model, tgen, vgen, name=name)\n",
    "test(model, name=name, window=TIMESTEPS)"
   ]
  },
  {
   "cell_type": "markdown",
   "metadata": {},
   "source": [
    "#### 100 steps"
   ]
  },
  {
   "cell_type": "code",
   "execution_count": null,
   "metadata": {
    "collapsed": true
   },
   "outputs": [],
   "source": [
    "TIMESTEPS = 100\n",
    "DIM = 29\n",
    "tgen = flat_generator(X, TIMESTEPS)\n",
    "vgen = flat_generator(val_X, TIMESTEPS)\n",
    "name = \"nn1_100\""
   ]
  },
  {
   "cell_type": "code",
   "execution_count": null,
   "metadata": {
    "collapsed": true
   },
   "outputs": [],
   "source": [
    "input_layer = Input(shape=(TIMESTEPS*DIM,))\n",
    "hidden = Dense(100,activation='relu')(input_layer)\n",
    "output = Dense(DIM, activation='sigmoid')(hidden)"
   ]
  },
  {
   "cell_type": "code",
   "execution_count": null,
   "metadata": {
    "collapsed": true
   },
   "outputs": [],
   "source": [
    "model = Model(input_layer, output)\n",
    "model.compile(loss='mean_absolute_error', optimizer='adam', metrics=['mae'])"
   ]
  },
  {
   "cell_type": "code",
   "execution_count": null,
   "metadata": {
    "collapsed": true
   },
   "outputs": [],
   "source": [
    "train(model, tgen, vgen, name=name)\n",
    "test(model, name=name, window=TIMESTEPS)"
   ]
  },
  {
   "cell_type": "markdown",
   "metadata": {},
   "source": [
    "#### 200 steps"
   ]
  },
  {
   "cell_type": "code",
   "execution_count": null,
   "metadata": {
    "collapsed": true
   },
   "outputs": [],
   "source": [
    "TIMESTEPS = 200\n",
    "DIM = 29\n",
    "tgen = flat_generator(X, TIMESTEPS)\n",
    "vgen = flat_generator(val_X, TIMESTEPS)\n",
    "name = \"nn1_200\""
   ]
  },
  {
   "cell_type": "code",
   "execution_count": null,
   "metadata": {
    "collapsed": true
   },
   "outputs": [],
   "source": [
    "input_layer = Input(shape=(TIMESTEPS*DIM,))\n",
    "hidden = Dense(100,activation='relu')(input_layer)\n",
    "output = Dense(DIM, activation='sigmoid')(hidden)"
   ]
  },
  {
   "cell_type": "code",
   "execution_count": null,
   "metadata": {
    "collapsed": true
   },
   "outputs": [],
   "source": [
    "model = Model(input_layer, output)\n",
    "model.compile(loss='mean_absolute_error', optimizer='adam', metrics=['mae'])"
   ]
  },
  {
   "cell_type": "code",
   "execution_count": null,
   "metadata": {
    "collapsed": true
   },
   "outputs": [],
   "source": [
    "train(model, tgen, vgen, name=name)\n",
    "test(model, name=name, window=TIMESTEPS)"
   ]
  },
  {
   "cell_type": "markdown",
   "metadata": {},
   "source": [
    "### NN with 2 hidden layers"
   ]
  },
  {
   "cell_type": "markdown",
   "metadata": {},
   "source": [
    "#### 2 steps"
   ]
  },
  {
   "cell_type": "code",
   "execution_count": null,
   "metadata": {
    "collapsed": true
   },
   "outputs": [],
   "source": [
    "TIMESTEPS = 2\n",
    "DIM = 29\n",
    "tgen = flat_generator(X, TIMESTEPS)\n",
    "vgen = flat_generator(val_X, TIMESTEPS)\n",
    "name = \"nn2_2\""
   ]
  },
  {
   "cell_type": "code",
   "execution_count": null,
   "metadata": {
    "collapsed": true
   },
   "outputs": [],
   "source": [
    "input_layer = Input(shape=(TIMESTEPS*DIM,))\n",
    "hidden = Dense(500, activation='relu')(input_layer)\n",
    "hidden = Dense(100, activation='relu')(hidden)\n",
    "output = Dense(DIM, activation='sigmoid')(hidden)"
   ]
  },
  {
   "cell_type": "code",
   "execution_count": null,
   "metadata": {
    "collapsed": true
   },
   "outputs": [],
   "source": [
    "model = Model(input_layer, output)\n",
    "model.compile(loss='mean_absolute_error', optimizer='adam', metrics=['mae'])"
   ]
  },
  {
   "cell_type": "code",
   "execution_count": null,
   "metadata": {
    "collapsed": true
   },
   "outputs": [],
   "source": [
    "train(model, tgen, vgen, name=name)\n",
    "test(model, name=name, window=TIMESTEPS)"
   ]
  },
  {
   "cell_type": "markdown",
   "metadata": {},
   "source": [
    "#### 5 steps"
   ]
  },
  {
   "cell_type": "code",
   "execution_count": null,
   "metadata": {
    "collapsed": true
   },
   "outputs": [],
   "source": [
    "TIMESTEPS = 5\n",
    "DIM = 29\n",
    "tgen = flat_generator(X, TIMESTEPS)\n",
    "vgen = flat_generator(val_X, TIMESTEPS)\n",
    "name = \"nn2_5\""
   ]
  },
  {
   "cell_type": "code",
   "execution_count": null,
   "metadata": {
    "collapsed": true
   },
   "outputs": [],
   "source": [
    "input_layer = Input(shape=(TIMESTEPS*DIM,))\n",
    "hidden = Dense(500, activation='relu')(input_layer)\n",
    "hidden = Dense(100, activation='relu')(hidden)\n",
    "output = Dense(DIM, activation='sigmoid')(hidden)"
   ]
  },
  {
   "cell_type": "code",
   "execution_count": null,
   "metadata": {
    "collapsed": true
   },
   "outputs": [],
   "source": [
    "model = Model(input_layer, output)\n",
    "model.compile(loss='mean_absolute_error', optimizer='adam', metrics=['mae'])"
   ]
  },
  {
   "cell_type": "code",
   "execution_count": null,
   "metadata": {
    "collapsed": true
   },
   "outputs": [],
   "source": [
    "train(model, tgen, vgen, name=name)\n",
    "test(model, name=name, window=TIMESTEPS)"
   ]
  },
  {
   "cell_type": "markdown",
   "metadata": {},
   "source": [
    "#### 10 steps"
   ]
  },
  {
   "cell_type": "code",
   "execution_count": null,
   "metadata": {
    "collapsed": true
   },
   "outputs": [],
   "source": [
    "TIMESTEPS = 10\n",
    "DIM = 29\n",
    "tgen = flat_generator(X, TIMESTEPS)\n",
    "vgen = flat_generator(val_X, TIMESTEPS)\n",
    "name = \"nn2_10\""
   ]
  },
  {
   "cell_type": "code",
   "execution_count": null,
   "metadata": {
    "collapsed": true
   },
   "outputs": [],
   "source": [
    "input_layer = Input(shape=(TIMESTEPS*DIM,))\n",
    "hidden = Dense(500, activation='relu')(input_layer)\n",
    "hidden = Dense(100, activation='relu')(hidden)\n",
    "output = Dense(DIM, activation='sigmoid')(hidden)"
   ]
  },
  {
   "cell_type": "code",
   "execution_count": null,
   "metadata": {
    "collapsed": true
   },
   "outputs": [],
   "source": [
    "model = Model(input_layer, output)\n",
    "model.compile(loss='mean_absolute_error', optimizer='adam', metrics=['mae'])"
   ]
  },
  {
   "cell_type": "code",
   "execution_count": null,
   "metadata": {
    "collapsed": true
   },
   "outputs": [],
   "source": [
    "train(model, tgen, vgen, name=name)\n",
    "test(model, name=name, window=TIMESTEPS)"
   ]
  },
  {
   "cell_type": "markdown",
   "metadata": {},
   "source": [
    "#### 20 steps"
   ]
  },
  {
   "cell_type": "code",
   "execution_count": null,
   "metadata": {
    "collapsed": true
   },
   "outputs": [],
   "source": [
    "TIMESTEPS = 20\n",
    "DIM = 29\n",
    "tgen = flat_generator(X, TIMESTEPS)\n",
    "vgen = flat_generator(val_X, TIMESTEPS)\n",
    "name = \"nn2_20\""
   ]
  },
  {
   "cell_type": "code",
   "execution_count": null,
   "metadata": {
    "collapsed": true
   },
   "outputs": [],
   "source": [
    "input_layer = Input(shape=(TIMESTEPS*DIM,))\n",
    "hidden = Dense(500, activation='relu')(input_layer)\n",
    "hidden = Dense(100, activation='relu')(hidden)\n",
    "output = Dense(DIM, activation='sigmoid')(hidden)"
   ]
  },
  {
   "cell_type": "code",
   "execution_count": null,
   "metadata": {
    "collapsed": true
   },
   "outputs": [],
   "source": [
    "model = Model(input_layer, output)\n",
    "model.compile(loss='mean_absolute_error', optimizer='adam', metrics=['mae'])"
   ]
  },
  {
   "cell_type": "code",
   "execution_count": null,
   "metadata": {
    "collapsed": true
   },
   "outputs": [],
   "source": [
    "train(model, tgen, vgen, name=name)\n",
    "test(model, name=name, window=TIMESTEPS)"
   ]
  },
  {
   "cell_type": "markdown",
   "metadata": {},
   "source": [
    "#### 50 steps"
   ]
  },
  {
   "cell_type": "code",
   "execution_count": null,
   "metadata": {
    "collapsed": true
   },
   "outputs": [],
   "source": [
    "TIMESTEPS = 50\n",
    "DIM = 29\n",
    "tgen = flat_generator(X, TIMESTEPS)\n",
    "vgen = flat_generator(val_X, TIMESTEPS)\n",
    "name = \"nn2_50\""
   ]
  },
  {
   "cell_type": "code",
   "execution_count": null,
   "metadata": {
    "collapsed": true
   },
   "outputs": [],
   "source": [
    "input_layer = Input(shape=(TIMESTEPS*DIM,))\n",
    "hidden = Dense(500, activation='relu')(input_layer)\n",
    "hidden = Dense(100, activation='relu')(hidden)\n",
    "output = Dense(DIM, activation='sigmoid')(hidden)"
   ]
  },
  {
   "cell_type": "code",
   "execution_count": null,
   "metadata": {
    "collapsed": true
   },
   "outputs": [],
   "source": [
    "model = Model(input_layer, output)\n",
    "model.compile(loss='mean_absolute_error', optimizer='adam', metrics=['mae'])"
   ]
  },
  {
   "cell_type": "code",
   "execution_count": null,
   "metadata": {
    "collapsed": true
   },
   "outputs": [],
   "source": [
    "train(model, tgen, vgen, name=name)\n",
    "test(model, name=name, window=TIMESTEPS)"
   ]
  },
  {
   "cell_type": "markdown",
   "metadata": {},
   "source": [
    "#### 100 steps"
   ]
  },
  {
   "cell_type": "code",
   "execution_count": null,
   "metadata": {
    "collapsed": true
   },
   "outputs": [],
   "source": [
    "TIMESTEPS = 100\n",
    "DIM = 29\n",
    "tgen = flat_generator(X, TIMESTEPS)\n",
    "vgen = flat_generator(val_X, TIMESTEPS)\n",
    "name = \"nn2_100\""
   ]
  },
  {
   "cell_type": "code",
   "execution_count": null,
   "metadata": {
    "collapsed": true
   },
   "outputs": [],
   "source": [
    "input_layer = Input(shape=(TIMESTEPS*DIM,))\n",
    "hidden = Dense(500, activation='relu')(input_layer)\n",
    "hidden = Dense(100, activation='relu')(hidden)\n",
    "output = Dense(DIM, activation='sigmoid')(hidden)"
   ]
  },
  {
   "cell_type": "code",
   "execution_count": null,
   "metadata": {
    "collapsed": true
   },
   "outputs": [],
   "source": [
    "model = Model(input_layer, output)\n",
    "model.compile(loss='mean_absolute_error', optimizer='adam', metrics=['mae'])"
   ]
  },
  {
   "cell_type": "code",
   "execution_count": null,
   "metadata": {
    "collapsed": true
   },
   "outputs": [],
   "source": [
    "train(model, tgen, vgen, name=name)\n",
    "test(model, name=name, window=TIMESTEPS)"
   ]
  },
  {
   "cell_type": "markdown",
   "metadata": {},
   "source": [
    "#### 200 steps"
   ]
  },
  {
   "cell_type": "code",
   "execution_count": null,
   "metadata": {
    "collapsed": true
   },
   "outputs": [],
   "source": [
    "TIMESTEPS = 200\n",
    "DIM = 29\n",
    "tgen = flat_generator(X, TIMESTEPS)\n",
    "vgen = flat_generator(val_X, TIMESTEPS)\n",
    "name = \"nn2_200\""
   ]
  },
  {
   "cell_type": "code",
   "execution_count": null,
   "metadata": {
    "collapsed": true
   },
   "outputs": [],
   "source": [
    "input_layer = Input(shape=(TIMESTEPS*DIM,))\n",
    "hidden = Dense(500, activation='relu')(input_layer)\n",
    "hidden = Dense(100, activation='relu')(hidden)\n",
    "output = Dense(DIM, activation='sigmoid')(hidden)"
   ]
  },
  {
   "cell_type": "code",
   "execution_count": null,
   "metadata": {
    "collapsed": true
   },
   "outputs": [],
   "source": [
    "model = Model(input_layer, output)\n",
    "model.compile(loss='mean_absolute_error', optimizer='adam', metrics=['mae'])"
   ]
  },
  {
   "cell_type": "code",
   "execution_count": null,
   "metadata": {
    "collapsed": true
   },
   "outputs": [],
   "source": [
    "train(model, tgen, vgen, name=name)\n",
    "test(model, name=name, window=TIMESTEPS)"
   ]
  },
  {
   "cell_type": "markdown",
   "metadata": {},
   "source": [
    "### NN with 3 hidden layers"
   ]
  },
  {
   "cell_type": "markdown",
   "metadata": {},
   "source": [
    "#### 2 steps"
   ]
  },
  {
   "cell_type": "code",
   "execution_count": null,
   "metadata": {
    "collapsed": true
   },
   "outputs": [],
   "source": [
    "TIMESTEPS = 2\n",
    "DIM = 29\n",
    "tgen = flat_generator(X, TIMESTEPS)\n",
    "vgen = flat_generator(val_X, TIMESTEPS)\n",
    "name = \"nn3_2\""
   ]
  },
  {
   "cell_type": "code",
   "execution_count": null,
   "metadata": {
    "collapsed": true
   },
   "outputs": [],
   "source": [
    "input_layer = Input(shape=(TIMESTEPS*DIM,))\n",
    "hidden = Dense(1000, activation='relu')(input_layer)\n",
    "hidden = Dense(500, activation='relu')(hidden)\n",
    "hidden = Dense(100, activation='relu')(hidden)\n",
    "output = Dense(DIM, activation='sigmoid')(hidden)"
   ]
  },
  {
   "cell_type": "code",
   "execution_count": null,
   "metadata": {
    "collapsed": true
   },
   "outputs": [],
   "source": [
    "model = Model(input_layer, output)\n",
    "model.compile(loss='mean_absolute_error', optimizer='adam', metrics=['mae'])"
   ]
  },
  {
   "cell_type": "code",
   "execution_count": null,
   "metadata": {
    "collapsed": true
   },
   "outputs": [],
   "source": [
    "train(model, tgen, vgen, name=name)\n",
    "test(model, name=name, window=TIMESTEPS)"
   ]
  },
  {
   "cell_type": "markdown",
   "metadata": {},
   "source": [
    "#### 5 steps"
   ]
  },
  {
   "cell_type": "code",
   "execution_count": null,
   "metadata": {
    "collapsed": true
   },
   "outputs": [],
   "source": [
    "TIMESTEPS = 5\n",
    "DIM = 29\n",
    "tgen = flat_generator(X, TIMESTEPS)\n",
    "vgen = flat_generator(val_X, TIMESTEPS)\n",
    "name = \"nn3_5\""
   ]
  },
  {
   "cell_type": "code",
   "execution_count": null,
   "metadata": {
    "collapsed": true
   },
   "outputs": [],
   "source": [
    "input_layer = Input(shape=(TIMESTEPS*DIM,))\n",
    "hidden = Dense(1000, activation='relu')(input_layer)\n",
    "hidden = Dense(500, activation='relu')(hidden)\n",
    "hidden = Dense(100, activation='relu')(hidden)\n",
    "output = Dense(DIM, activation='sigmoid')(hidden)"
   ]
  },
  {
   "cell_type": "code",
   "execution_count": null,
   "metadata": {
    "collapsed": true
   },
   "outputs": [],
   "source": [
    "model = Model(input_layer, output)\n",
    "model.compile(loss='mean_absolute_error', optimizer='adam', metrics=['mae'])"
   ]
  },
  {
   "cell_type": "code",
   "execution_count": null,
   "metadata": {
    "collapsed": true
   },
   "outputs": [],
   "source": [
    "train(model, tgen, vgen, name=name)\n",
    "test(model, name=name, window=TIMESTEPS)"
   ]
  },
  {
   "cell_type": "markdown",
   "metadata": {},
   "source": [
    "#### 10 steps"
   ]
  },
  {
   "cell_type": "code",
   "execution_count": null,
   "metadata": {
    "collapsed": true
   },
   "outputs": [],
   "source": [
    "TIMESTEPS = 10\n",
    "DIM = 29\n",
    "tgen = flat_generator(X, TIMESTEPS)\n",
    "vgen = flat_generator(val_X, TIMESTEPS)\n",
    "name = \"nn3_10\""
   ]
  },
  {
   "cell_type": "code",
   "execution_count": null,
   "metadata": {
    "collapsed": true
   },
   "outputs": [],
   "source": [
    "input_layer = Input(shape=(TIMESTEPS*DIM,))\n",
    "hidden = Dense(1000, activation='relu')(input_layer)\n",
    "hidden = Dense(500, activation='relu')(hidden)\n",
    "hidden = Dense(100, activation='relu')(hidden)\n",
    "output = Dense(DIM, activation='sigmoid')(hidden)"
   ]
  },
  {
   "cell_type": "code",
   "execution_count": null,
   "metadata": {
    "collapsed": true
   },
   "outputs": [],
   "source": [
    "model = Model(input_layer, output)\n",
    "model.compile(loss='mean_absolute_error', optimizer='adam', metrics=['mae'])"
   ]
  },
  {
   "cell_type": "code",
   "execution_count": null,
   "metadata": {
    "collapsed": true
   },
   "outputs": [],
   "source": [
    "train(model, tgen, vgen, name=name)\n",
    "test(model, name=name, window=TIMESTEPS)"
   ]
  },
  {
   "cell_type": "markdown",
   "metadata": {},
   "source": [
    "#### 20 steps"
   ]
  },
  {
   "cell_type": "code",
   "execution_count": null,
   "metadata": {
    "collapsed": true
   },
   "outputs": [],
   "source": [
    "TIMESTEPS = 20\n",
    "DIM = 29\n",
    "tgen = flat_generator(X, TIMESTEPS)\n",
    "vgen = flat_generator(val_X, TIMESTEPS)\n",
    "name = \"nn3_20\""
   ]
  },
  {
   "cell_type": "code",
   "execution_count": null,
   "metadata": {
    "collapsed": true
   },
   "outputs": [],
   "source": [
    "input_layer = Input(shape=(TIMESTEPS*DIM,))\n",
    "hidden = Dense(1000, activation='relu')(input_layer)\n",
    "hidden = Dense(500, activation='relu')(hidden)\n",
    "hidden = Dense(100, activation='relu')(hidden)\n",
    "output = Dense(DIM, activation='sigmoid')(hidden)"
   ]
  },
  {
   "cell_type": "code",
   "execution_count": null,
   "metadata": {
    "collapsed": true
   },
   "outputs": [],
   "source": [
    "model = Model(input_layer, output)\n",
    "model.compile(loss='mean_absolute_error', optimizer='adam', metrics=['mae'])"
   ]
  },
  {
   "cell_type": "code",
   "execution_count": null,
   "metadata": {
    "collapsed": true
   },
   "outputs": [],
   "source": [
    "train(model, tgen, vgen, name=name)\n",
    "test(model, name=name, window=TIMESTEPS)"
   ]
  },
  {
   "cell_type": "markdown",
   "metadata": {},
   "source": [
    "#### 50 steps"
   ]
  },
  {
   "cell_type": "code",
   "execution_count": null,
   "metadata": {
    "collapsed": true
   },
   "outputs": [],
   "source": [
    "TIMESTEPS = 50\n",
    "DIM = 29\n",
    "tgen = flat_generator(X, TIMESTEPS)\n",
    "vgen = flat_generator(val_X, TIMESTEPS)\n",
    "name = \"nn3_50\""
   ]
  },
  {
   "cell_type": "code",
   "execution_count": null,
   "metadata": {
    "collapsed": true
   },
   "outputs": [],
   "source": [
    "input_layer = Input(shape=(TIMESTEPS*DIM,))\n",
    "hidden = Dense(1000, activation='relu')(input_layer)\n",
    "hidden = Dense(500, activation='relu')(hidden)\n",
    "hidden = Dense(100, activation='relu')(hidden)\n",
    "output = Dense(DIM, activation='sigmoid')(hidden)"
   ]
  },
  {
   "cell_type": "code",
   "execution_count": null,
   "metadata": {
    "collapsed": true
   },
   "outputs": [],
   "source": [
    "model = Model(input_layer, output)\n",
    "model.compile(loss='mean_absolute_error', optimizer='adam', metrics=['mae'])"
   ]
  },
  {
   "cell_type": "code",
   "execution_count": null,
   "metadata": {
    "collapsed": true
   },
   "outputs": [],
   "source": [
    "train(model, tgen, vgen, name=name)\n",
    "test(model, name=name, window=TIMESTEPS)"
   ]
  },
  {
   "cell_type": "markdown",
   "metadata": {},
   "source": [
    "#### 100 steps"
   ]
  },
  {
   "cell_type": "code",
   "execution_count": null,
   "metadata": {
    "collapsed": true
   },
   "outputs": [],
   "source": [
    "TIMESTEPS = 100\n",
    "DIM = 29\n",
    "tgen = flat_generator(X, TIMESTEPS)\n",
    "vgen = flat_generator(val_X, TIMESTEPS)\n",
    "name = \"nn3_100\""
   ]
  },
  {
   "cell_type": "code",
   "execution_count": null,
   "metadata": {
    "collapsed": true
   },
   "outputs": [],
   "source": [
    "input_layer = Input(shape=(TIMESTEPS*DIM,))\n",
    "hidden = Dense(1000, activation='relu')(input_layer)\n",
    "hidden = Dense(500, activation='relu')(hidden)\n",
    "hidden = Dense(100, activation='relu')(hidden)\n",
    "output = Dense(DIM, activation='sigmoid')(hidden)"
   ]
  },
  {
   "cell_type": "code",
   "execution_count": null,
   "metadata": {
    "collapsed": true
   },
   "outputs": [],
   "source": [
    "model = Model(input_layer, output)\n",
    "model.compile(loss='mean_absolute_error', optimizer='adam', metrics=['mae'])"
   ]
  },
  {
   "cell_type": "code",
   "execution_count": null,
   "metadata": {
    "collapsed": true
   },
   "outputs": [],
   "source": [
    "train(model, tgen, vgen, name=name)\n",
    "test(model, name=name, window=TIMESTEPS)"
   ]
  },
  {
   "cell_type": "markdown",
   "metadata": {},
   "source": [
    "#### 200 steps"
   ]
  },
  {
   "cell_type": "code",
   "execution_count": null,
   "metadata": {
    "collapsed": true
   },
   "outputs": [],
   "source": [
    "TIMESTEPS = 200\n",
    "DIM = 29\n",
    "tgen = flat_generator(X, TIMESTEPS)\n",
    "vgen = flat_generator(val_X, TIMESTEPS)\n",
    "name = \"nn3_200\""
   ]
  },
  {
   "cell_type": "code",
   "execution_count": null,
   "metadata": {
    "collapsed": true
   },
   "outputs": [],
   "source": [
    "input_layer = Input(shape=(TIMESTEPS*DIM,))\n",
    "hidden = Dense(1000, activation='relu')(input_layer)\n",
    "hidden = Dense(500, activation='relu')(hidden)\n",
    "hidden = Dense(100, activation='relu')(hidden)\n",
    "output = Dense(DIM, activation='sigmoid')(hidden)"
   ]
  },
  {
   "cell_type": "code",
   "execution_count": null,
   "metadata": {
    "collapsed": true
   },
   "outputs": [],
   "source": [
    "model = Model(input_layer, output)\n",
    "model.compile(loss='mean_absolute_error', optimizer='adam', metrics=['mae'])"
   ]
  },
  {
   "cell_type": "code",
   "execution_count": null,
   "metadata": {
    "collapsed": true
   },
   "outputs": [],
   "source": [
    "train(model, tgen, vgen, name=name)\n",
    "test(model, name=name, window=TIMESTEPS)"
   ]
  },
  {
   "cell_type": "markdown",
   "metadata": {},
   "source": [
    "### RNN with 1 GRU layers"
   ]
  },
  {
   "cell_type": "markdown",
   "metadata": {},
   "source": [
    "#### 2 steps"
   ]
  },
  {
   "cell_type": "code",
   "execution_count": null,
   "metadata": {
    "collapsed": true
   },
   "outputs": [],
   "source": [
    "TIMESTEPS = 2\n",
    "DIM = 29\n",
    "tgen = flat_generator(X, TIMESTEPS,0)\n",
    "vgen = flat_generator(val_X, TIMESTEPS,0)\n",
    "name = \"gru1_2\""
   ]
  },
  {
   "cell_type": "code",
   "execution_count": null,
   "metadata": {
    "collapsed": true
   },
   "outputs": [],
   "source": [
    "input_layer = Input(shape=(TIMESTEPS,DIM))\n",
    "hidden = GRU(10, activation='relu')(input_layer)\n",
    "output = Dense(DIM, activation='sigmoid')(hidden)"
   ]
  },
  {
   "cell_type": "code",
   "execution_count": null,
   "metadata": {
    "collapsed": true
   },
   "outputs": [],
   "source": [
    "model = Model(input_layer, output)\n",
    "model.compile(loss='mean_absolute_error', optimizer='adam', metrics=['mae'])"
   ]
  },
  {
   "cell_type": "code",
   "execution_count": null,
   "metadata": {
    "collapsed": true
   },
   "outputs": [],
   "source": [
    "train(model, tgen, vgen, name=name)\n",
    "test(model, ravel=0, name=name, window=TIMESTEPS)"
   ]
  },
  {
   "cell_type": "markdown",
   "metadata": {},
   "source": [
    "#### 5 steps"
   ]
  },
  {
   "cell_type": "code",
   "execution_count": null,
   "metadata": {
    "collapsed": true
   },
   "outputs": [],
   "source": [
    "TIMESTEPS = 5\n",
    "DIM = 29\n",
    "tgen = flat_generator(X, TIMESTEPS,0)\n",
    "vgen = flat_generator(val_X, TIMESTEPS, 0)\n",
    "name = \"gru1_5\""
   ]
  },
  {
   "cell_type": "code",
   "execution_count": null,
   "metadata": {
    "collapsed": true
   },
   "outputs": [],
   "source": [
    "input_layer = Input(shape=(TIMESTEPS,DIM))\n",
    "hidden = GRU(10, activation='relu')(input_layer)\n",
    "output = Dense(DIM, activation='sigmoid')(hidden)"
   ]
  },
  {
   "cell_type": "code",
   "execution_count": null,
   "metadata": {
    "collapsed": true
   },
   "outputs": [],
   "source": [
    "model = Model(input_layer, output)\n",
    "model.compile(loss='mean_absolute_error', optimizer='adam', metrics=['mae'])"
   ]
  },
  {
   "cell_type": "code",
   "execution_count": null,
   "metadata": {
    "collapsed": true
   },
   "outputs": [],
   "source": [
    "train(model, tgen, vgen, name=name)\n",
    "test(model, ravel=0, name=name, window=TIMESTEPS)"
   ]
  },
  {
   "cell_type": "markdown",
   "metadata": {},
   "source": [
    "#### 10 steps"
   ]
  },
  {
   "cell_type": "code",
   "execution_count": null,
   "metadata": {
    "collapsed": true
   },
   "outputs": [],
   "source": [
    "TIMESTEPS = 10\n",
    "DIM = 29\n",
    "tgen = flat_generator(X, TIMESTEPS, 0)\n",
    "vgen = flat_generator(val_X, TIMESTEPS, 0)\n",
    "name = \"gru1_10\""
   ]
  },
  {
   "cell_type": "code",
   "execution_count": null,
   "metadata": {
    "collapsed": true
   },
   "outputs": [],
   "source": [
    "input_layer = Input(shape=(TIMESTEPS,DIM))\n",
    "hidden = GRU(10, activation='relu')(input_layer)\n",
    "output = Dense(DIM, activation='sigmoid')(hidden)"
   ]
  },
  {
   "cell_type": "code",
   "execution_count": null,
   "metadata": {
    "collapsed": true
   },
   "outputs": [],
   "source": [
    "model = Model(input_layer, output)\n",
    "model.compile(loss='mean_absolute_error', optimizer='adam', metrics=['mae'])"
   ]
  },
  {
   "cell_type": "code",
   "execution_count": null,
   "metadata": {
    "collapsed": true
   },
   "outputs": [],
   "source": [
    "train(model, tgen, vgen, name=name)\n",
    "test(model, ravel=0, name=name, window=TIMESTEPS)"
   ]
  },
  {
   "cell_type": "markdown",
   "metadata": {},
   "source": [
    "#### 20 steps"
   ]
  },
  {
   "cell_type": "code",
   "execution_count": null,
   "metadata": {
    "collapsed": true
   },
   "outputs": [],
   "source": [
    "TIMESTEPS = 20\n",
    "DIM = 29\n",
    "tgen = flat_generator(X, TIMESTEPS,0)\n",
    "vgen = flat_generator(val_X, TIMESTEPS,0)\n",
    "name = \"gru1_20\""
   ]
  },
  {
   "cell_type": "code",
   "execution_count": null,
   "metadata": {
    "collapsed": true
   },
   "outputs": [],
   "source": [
    "input_layer = Input(shape=(TIMESTEPS,DIM))\n",
    "hidden = GRU(10, activation='relu')(input_layer)\n",
    "output = Dense(DIM, activation='sigmoid')(hidden)"
   ]
  },
  {
   "cell_type": "code",
   "execution_count": null,
   "metadata": {
    "collapsed": true
   },
   "outputs": [],
   "source": [
    "model = Model(input_layer, output)\n",
    "model.compile(loss='mean_absolute_error', optimizer='adam', metrics=['mae'])"
   ]
  },
  {
   "cell_type": "code",
   "execution_count": null,
   "metadata": {
    "collapsed": true
   },
   "outputs": [],
   "source": [
    "train(model, tgen, vgen, name=name)\n",
    "test(model, ravel=0, name=name, window=TIMESTEPS)"
   ]
  },
  {
   "cell_type": "markdown",
   "metadata": {},
   "source": [
    "#### 50 steps"
   ]
  },
  {
   "cell_type": "code",
   "execution_count": null,
   "metadata": {
    "collapsed": true
   },
   "outputs": [],
   "source": [
    "TIMESTEPS = 50\n",
    "DIM = 29\n",
    "tgen = flat_generator(X, TIMESTEPS,0)\n",
    "vgen = flat_generator(val_X, TIMESTEPS,0)\n",
    "name = \"gru1_50\""
   ]
  },
  {
   "cell_type": "code",
   "execution_count": null,
   "metadata": {
    "collapsed": true
   },
   "outputs": [],
   "source": [
    "input_layer = Input(shape=(TIMESTEPS,DIM))\n",
    "hidden = GRU(10, activation='relu')(input_layer)\n",
    "output = Dense(DIM, activation='sigmoid')(hidden)"
   ]
  },
  {
   "cell_type": "code",
   "execution_count": null,
   "metadata": {
    "collapsed": true
   },
   "outputs": [],
   "source": [
    "model = Model(input_layer, output)\n",
    "model.compile(loss='mean_absolute_error', optimizer='adam', metrics=['mae'])"
   ]
  },
  {
   "cell_type": "code",
   "execution_count": null,
   "metadata": {
    "collapsed": true
   },
   "outputs": [],
   "source": [
    "train(model, tgen, vgen, name=name)\n",
    "test(model, ravel=0, name=name, window=TIMESTEPS)"
   ]
  },
  {
   "cell_type": "markdown",
   "metadata": {},
   "source": [
    "#### 100 steps"
   ]
  },
  {
   "cell_type": "code",
   "execution_count": null,
   "metadata": {
    "collapsed": true
   },
   "outputs": [],
   "source": [
    "TIMESTEPS = 100\n",
    "DIM = 29\n",
    "tgen = flat_generator(X, TIMESTEPS,0)\n",
    "vgen = flat_generator(val_X, TIMESTEPS,0)\n",
    "name = \"gru1_100\""
   ]
  },
  {
   "cell_type": "code",
   "execution_count": null,
   "metadata": {
    "collapsed": true
   },
   "outputs": [],
   "source": [
    "input_layer = Input(shape=(TIMESTEPS,DIM))\n",
    "hidden = GRU(10, activation='relu')(input_layer)\n",
    "output = Dense(DIM, activation='sigmoid')(hidden)"
   ]
  },
  {
   "cell_type": "code",
   "execution_count": null,
   "metadata": {
    "collapsed": true
   },
   "outputs": [],
   "source": [
    "model = Model(input_layer, output)\n",
    "model.compile(loss='mean_absolute_error', optimizer='adam', metrics=['mae'])"
   ]
  },
  {
   "cell_type": "code",
   "execution_count": null,
   "metadata": {
    "collapsed": true
   },
   "outputs": [],
   "source": [
    "train(model, tgen, vgen, name=name)\n",
    "test(model, ravel=0, name=name, window=TIMESTEPS)"
   ]
  },
  {
   "cell_type": "markdown",
   "metadata": {},
   "source": [
    "#### 200 steps"
   ]
  },
  {
   "cell_type": "code",
   "execution_count": null,
   "metadata": {
    "collapsed": true
   },
   "outputs": [],
   "source": [
    "TIMESTEPS = 200\n",
    "DIM = 29\n",
    "tgen = flat_generator(X, TIMESTEPS,0)\n",
    "vgen = flat_generator(val_X, TIMESTEPS,0)\n",
    "name = \"gru1_200\""
   ]
  },
  {
   "cell_type": "code",
   "execution_count": null,
   "metadata": {
    "collapsed": true
   },
   "outputs": [],
   "source": [
    "input_layer = Input(shape=(TIMESTEPS,DIM))\n",
    "hidden = GRU(10, activation='relu')(input_layer)\n",
    "output = Dense(DIM, activation='sigmoid')(hidden)"
   ]
  },
  {
   "cell_type": "code",
   "execution_count": null,
   "metadata": {
    "collapsed": true
   },
   "outputs": [],
   "source": [
    "model = Model(input_layer, output)\n",
    "model.compile(loss='mean_absolute_error', optimizer='adam', metrics=['mae'])"
   ]
  },
  {
   "cell_type": "code",
   "execution_count": null,
   "metadata": {
    "collapsed": true
   },
   "outputs": [],
   "source": [
    "train(model, tgen, vgen, name=name)\n",
    "test(model, ravel=0, name=name, window=TIMESTEPS)"
   ]
  },
  {
   "cell_type": "markdown",
   "metadata": {},
   "source": [
    "### RNN with 2 GRU layers"
   ]
  },
  {
   "cell_type": "markdown",
   "metadata": {},
   "source": [
    "#### 2 steps"
   ]
  },
  {
   "cell_type": "code",
   "execution_count": null,
   "metadata": {
    "collapsed": true
   },
   "outputs": [],
   "source": [
    "TIMESTEPS = 2\n",
    "DIM = 29\n",
    "tgen = flat_generator(X, TIMESTEPS,0)\n",
    "vgen = flat_generator(val_X, TIMESTEPS,0)\n",
    "name = \"gru2_2\""
   ]
  },
  {
   "cell_type": "code",
   "execution_count": null,
   "metadata": {
    "collapsed": true
   },
   "outputs": [],
   "source": [
    "input_layer = Input(shape=(TIMESTEPS,DIM))\n",
    "hidden = GRU(10, activation='relu', return_sequences=True)(input_layer)\n",
    "hidden = GRU(10, activation='relu')(hidden)\n",
    "output = Dense(DIM, activation='sigmoid')(hidden)"
   ]
  },
  {
   "cell_type": "code",
   "execution_count": null,
   "metadata": {
    "collapsed": true
   },
   "outputs": [],
   "source": [
    "model = Model(input_layer, output)\n",
    "model.compile(loss='mean_absolute_error', optimizer='adam', metrics=['mae'])"
   ]
  },
  {
   "cell_type": "code",
   "execution_count": null,
   "metadata": {
    "collapsed": true
   },
   "outputs": [],
   "source": [
    "train(model, tgen, vgen, name=name)\n",
    "test(model, ravel=0, name=name, window=TIMESTEPS)"
   ]
  },
  {
   "cell_type": "markdown",
   "metadata": {},
   "source": [
    "#### 5 steps"
   ]
  },
  {
   "cell_type": "code",
   "execution_count": null,
   "metadata": {
    "collapsed": true
   },
   "outputs": [],
   "source": [
    "TIMESTEPS = 5\n",
    "DIM = 29\n",
    "tgen = flat_generator(X, TIMESTEPS,0)\n",
    "vgen = flat_generator(val_X, TIMESTEPS, 0)\n",
    "name = \"gru2_5\""
   ]
  },
  {
   "cell_type": "code",
   "execution_count": null,
   "metadata": {
    "collapsed": true
   },
   "outputs": [],
   "source": [
    "input_layer = Input(shape=(TIMESTEPS,DIM))\n",
    "hidden = GRU(10, activation='relu', return_sequences=True)(input_layer)\n",
    "hidden = GRU(10, activation='relu')(hidden)\n",
    "output = Dense(DIM, activation='sigmoid')(hidden)"
   ]
  },
  {
   "cell_type": "code",
   "execution_count": null,
   "metadata": {
    "collapsed": true
   },
   "outputs": [],
   "source": [
    "model = Model(input_layer, output)\n",
    "model.compile(loss='mean_absolute_error', optimizer='adam', metrics=['mae'])"
   ]
  },
  {
   "cell_type": "code",
   "execution_count": null,
   "metadata": {
    "collapsed": true
   },
   "outputs": [],
   "source": [
    "train(model, tgen, vgen, name=name)\n",
    "test(model, ravel=0, name=name, window=TIMESTEPS)"
   ]
  },
  {
   "cell_type": "markdown",
   "metadata": {},
   "source": [
    "#### 10 steps"
   ]
  },
  {
   "cell_type": "code",
   "execution_count": null,
   "metadata": {
    "collapsed": true
   },
   "outputs": [],
   "source": [
    "TIMESTEPS = 10\n",
    "DIM = 29\n",
    "tgen = flat_generator(X, TIMESTEPS, 0)\n",
    "vgen = flat_generator(val_X, TIMESTEPS, 0)\n",
    "name = \"gru2_10\""
   ]
  },
  {
   "cell_type": "code",
   "execution_count": null,
   "metadata": {
    "collapsed": true
   },
   "outputs": [],
   "source": [
    "input_layer = Input(shape=(TIMESTEPS,DIM))\n",
    "hidden = GRU(10, activation='relu', return_sequences=True)(input_layer)\n",
    "hidden = GRU(10, activation='relu')(hidden)\n",
    "output = Dense(DIM, activation='sigmoid')(hidden)"
   ]
  },
  {
   "cell_type": "code",
   "execution_count": null,
   "metadata": {
    "collapsed": true
   },
   "outputs": [],
   "source": [
    "model = Model(input_layer, output)\n",
    "model.compile(loss='mean_absolute_error', optimizer='adam', metrics=['mae'])"
   ]
  },
  {
   "cell_type": "code",
   "execution_count": null,
   "metadata": {
    "collapsed": true
   },
   "outputs": [],
   "source": [
    "train(model, tgen, vgen, name=name)\n",
    "test(model, ravel=0, name=name, window=TIMESTEPS)"
   ]
  },
  {
   "cell_type": "markdown",
   "metadata": {},
   "source": [
    "#### 20 steps"
   ]
  },
  {
   "cell_type": "code",
   "execution_count": null,
   "metadata": {
    "collapsed": true
   },
   "outputs": [],
   "source": [
    "TIMESTEPS = 20\n",
    "DIM = 29\n",
    "tgen = flat_generator(X, TIMESTEPS,0)\n",
    "vgen = flat_generator(val_X, TIMESTEPS,0)\n",
    "name = \"gru2_20\""
   ]
  },
  {
   "cell_type": "code",
   "execution_count": null,
   "metadata": {
    "collapsed": true
   },
   "outputs": [],
   "source": [
    "input_layer = Input(shape=(TIMESTEPS,DIM))\n",
    "hidden = GRU(10, activation='relu', return_sequences=True)(input_layer)\n",
    "hidden = GRU(10, activation='relu')(hidden)\n",
    "output = Dense(DIM, activation='sigmoid')(hidden)"
   ]
  },
  {
   "cell_type": "code",
   "execution_count": null,
   "metadata": {
    "collapsed": true
   },
   "outputs": [],
   "source": [
    "model = Model(input_layer, output)\n",
    "model.compile(loss='mean_absolute_error', optimizer='adam', metrics=['mae'])"
   ]
  },
  {
   "cell_type": "code",
   "execution_count": null,
   "metadata": {
    "collapsed": true
   },
   "outputs": [],
   "source": [
    "train(model, tgen, vgen, name=name)\n",
    "test(model, ravel=0, name=name, window=TIMESTEPS)"
   ]
  },
  {
   "cell_type": "markdown",
   "metadata": {},
   "source": [
    "#### 50 steps"
   ]
  },
  {
   "cell_type": "code",
   "execution_count": null,
   "metadata": {
    "collapsed": true
   },
   "outputs": [],
   "source": [
    "TIMESTEPS = 50\n",
    "DIM = 29\n",
    "tgen = flat_generator(X, TIMESTEPS,0)\n",
    "vgen = flat_generator(val_X, TIMESTEPS,0)\n",
    "name = \"gru2_50\""
   ]
  },
  {
   "cell_type": "code",
   "execution_count": null,
   "metadata": {
    "collapsed": true
   },
   "outputs": [],
   "source": [
    "input_layer = Input(shape=(TIMESTEPS,DIM))\n",
    "hidden = GRU(10, activation='relu', return_sequences=True)(input_layer)\n",
    "hidden = GRU(10, activation='relu')(hidden)\n",
    "output = Dense(DIM, activation='sigmoid')(hidden)"
   ]
  },
  {
   "cell_type": "code",
   "execution_count": null,
   "metadata": {
    "collapsed": true
   },
   "outputs": [],
   "source": [
    "model = Model(input_layer, output)\n",
    "model.compile(loss='mean_absolute_error', optimizer='adam', metrics=['mae'])"
   ]
  },
  {
   "cell_type": "code",
   "execution_count": null,
   "metadata": {
    "collapsed": true
   },
   "outputs": [],
   "source": [
    "train(model, tgen, vgen, name=name)\n",
    "test(model, ravel=0, name=name, window=TIMESTEPS)"
   ]
  },
  {
   "cell_type": "markdown",
   "metadata": {},
   "source": [
    "#### 100 steps"
   ]
  },
  {
   "cell_type": "code",
   "execution_count": null,
   "metadata": {
    "collapsed": true
   },
   "outputs": [],
   "source": [
    "TIMESTEPS = 100\n",
    "DIM = 29\n",
    "tgen = flat_generator(X, TIMESTEPS,0)\n",
    "vgen = flat_generator(val_X, TIMESTEPS,0)\n",
    "name = \"gru2_100\""
   ]
  },
  {
   "cell_type": "code",
   "execution_count": null,
   "metadata": {
    "collapsed": true
   },
   "outputs": [],
   "source": [
    "input_layer = Input(shape=(TIMESTEPS,DIM))\n",
    "hidden = GRU(10, activation='relu', return_sequences=True)(input_layer)\n",
    "hidden = GRU(10, activation='relu')(hidden)\n",
    "output = Dense(DIM, activation='sigmoid')(hidden)"
   ]
  },
  {
   "cell_type": "code",
   "execution_count": null,
   "metadata": {
    "collapsed": true
   },
   "outputs": [],
   "source": [
    "model = Model(input_layer, output)\n",
    "model.compile(loss='mean_absolute_error', optimizer='adam', metrics=['mae'])"
   ]
  },
  {
   "cell_type": "code",
   "execution_count": null,
   "metadata": {
    "collapsed": true
   },
   "outputs": [],
   "source": [
    "train(model, tgen, vgen, name=name)\n",
    "test(model, ravel=0, name=name, window=TIMESTEPS)"
   ]
  },
  {
   "cell_type": "markdown",
   "metadata": {},
   "source": [
    "#### 200 steps"
   ]
  },
  {
   "cell_type": "code",
   "execution_count": null,
   "metadata": {
    "collapsed": true
   },
   "outputs": [],
   "source": [
    "TIMESTEPS = 200\n",
    "DIM = 29\n",
    "tgen = flat_generator(X, TIMESTEPS,0)\n",
    "vgen = flat_generator(val_X, TIMESTEPS,0)\n",
    "name = \"gru2_200\""
   ]
  },
  {
   "cell_type": "code",
   "execution_count": null,
   "metadata": {
    "collapsed": true
   },
   "outputs": [],
   "source": [
    "input_layer = Input(shape=(TIMESTEPS,DIM))\n",
    "hidden = GRU(10, activation='relu', return_sequences=True)(input_layer)\n",
    "hidden = GRU(10, activation='relu')(hidden)\n",
    "output = Dense(DIM, activation='sigmoid')(hidden)"
   ]
  },
  {
   "cell_type": "code",
   "execution_count": null,
   "metadata": {
    "collapsed": true
   },
   "outputs": [],
   "source": [
    "model = Model(input_layer, output)\n",
    "model.compile(loss='mean_absolute_error', optimizer='adam', metrics=['mae'])"
   ]
  },
  {
   "cell_type": "code",
   "execution_count": null,
   "metadata": {
    "collapsed": true
   },
   "outputs": [],
   "source": [
    "train(model, tgen, vgen, name=name)\n",
    "test(model, ravel=0, name=name, window=TIMESTEPS)"
   ]
  },
  {
   "cell_type": "markdown",
   "metadata": {},
   "source": [
    "### RNN with 3 GRU layers"
   ]
  },
  {
   "cell_type": "markdown",
   "metadata": {},
   "source": [
    "#### 2 steps"
   ]
  },
  {
   "cell_type": "code",
   "execution_count": null,
   "metadata": {
    "collapsed": true
   },
   "outputs": [],
   "source": [
    "TIMESTEPS = 2\n",
    "DIM = 29\n",
    "tgen = flat_generator(X, TIMESTEPS,0)\n",
    "vgen = flat_generator(val_X, TIMESTEPS,0)\n",
    "name = \"gru3_2\""
   ]
  },
  {
   "cell_type": "code",
   "execution_count": null,
   "metadata": {
    "collapsed": true
   },
   "outputs": [],
   "source": [
    "input_layer = Input(shape=(TIMESTEPS,DIM))\n",
    "hidden = GRU(10, activation='relu', return_sequences=True)(input_layer)\n",
    "hidden = GRU(10, activation='relu', return_sequences=True)(hidden)\n",
    "hidden = GRU(10, activation='relu')(hidden)\n",
    "output = Dense(DIM, activation='sigmoid')(hidden)"
   ]
  },
  {
   "cell_type": "code",
   "execution_count": null,
   "metadata": {
    "collapsed": true
   },
   "outputs": [],
   "source": [
    "model = Model(input_layer, output)\n",
    "model.compile(loss='mean_absolute_error', optimizer='adam', metrics=['mae'])"
   ]
  },
  {
   "cell_type": "code",
   "execution_count": null,
   "metadata": {
    "collapsed": true
   },
   "outputs": [],
   "source": [
    "train(model, tgen, vgen, name=name)\n",
    "test(model, ravel=0, name=name, window=TIMESTEPS)"
   ]
  },
  {
   "cell_type": "markdown",
   "metadata": {},
   "source": [
    "#### 5 steps"
   ]
  },
  {
   "cell_type": "code",
   "execution_count": null,
   "metadata": {
    "collapsed": true
   },
   "outputs": [],
   "source": [
    "TIMESTEPS = 5\n",
    "DIM = 29\n",
    "tgen = flat_generator(X, TIMESTEPS, 0)\n",
    "vgen = flat_generator(val_X, TIMESTEPS, 0)\n",
    "name = \"gru3_5\""
   ]
  },
  {
   "cell_type": "code",
   "execution_count": null,
   "metadata": {
    "collapsed": true
   },
   "outputs": [],
   "source": [
    "input_layer = Input(shape=(TIMESTEPS,DIM))\n",
    "hidden = GRU(10, activation='relu', return_sequences=True)(input_layer)\n",
    "hidden = GRU(10, activation='relu', return_sequences=True)(hidden)\n",
    "hidden = GRU(10, activation='relu')(hidden)\n",
    "output = Dense(DIM, activation='sigmoid')(hidden)"
   ]
  },
  {
   "cell_type": "code",
   "execution_count": null,
   "metadata": {
    "collapsed": true
   },
   "outputs": [],
   "source": [
    "model = Model(input_layer, output)\n",
    "model.compile(loss='mean_absolute_error', optimizer='adam', metrics=['mae'])"
   ]
  },
  {
   "cell_type": "code",
   "execution_count": null,
   "metadata": {
    "collapsed": true
   },
   "outputs": [],
   "source": [
    "train(model, tgen, vgen, name=name)\n",
    "test(model, ravel=0, name=name, window=TIMESTEPS)"
   ]
  },
  {
   "cell_type": "markdown",
   "metadata": {},
   "source": [
    "#### 10 steps"
   ]
  },
  {
   "cell_type": "code",
   "execution_count": null,
   "metadata": {
    "collapsed": true
   },
   "outputs": [],
   "source": [
    "TIMESTEPS = 10\n",
    "DIM = 29\n",
    "tgen = flat_generator(X, TIMESTEPS, 0)\n",
    "vgen = flat_generator(val_X, TIMESTEPS, 0)\n",
    "name = \"gru3_10\""
   ]
  },
  {
   "cell_type": "code",
   "execution_count": null,
   "metadata": {
    "collapsed": true
   },
   "outputs": [],
   "source": [
    "input_layer = Input(shape=(TIMESTEPS,DIM))\n",
    "hidden = GRU(10, activation='relu', return_sequences=True)(input_layer)\n",
    "hidden = GRU(10, activation='relu', return_sequences=True)(hidden)\n",
    "hidden = GRU(10, activation='relu')(hidden)\n",
    "output = Dense(DIM, activation='sigmoid')(hidden)"
   ]
  },
  {
   "cell_type": "code",
   "execution_count": null,
   "metadata": {
    "collapsed": true
   },
   "outputs": [],
   "source": [
    "model = Model(input_layer, output)\n",
    "model.compile(loss='mean_absolute_error', optimizer='adam', metrics=['mae'])"
   ]
  },
  {
   "cell_type": "code",
   "execution_count": null,
   "metadata": {
    "collapsed": true
   },
   "outputs": [],
   "source": [
    "train(model, tgen, vgen, name=name)\n",
    "test(model, ravel=0, name=name, window=TIMESTEPS)"
   ]
  },
  {
   "cell_type": "markdown",
   "metadata": {},
   "source": [
    "#### 20 steps"
   ]
  },
  {
   "cell_type": "code",
   "execution_count": null,
   "metadata": {
    "collapsed": true
   },
   "outputs": [],
   "source": [
    "TIMESTEPS = 20\n",
    "DIM = 29\n",
    "tgen = flat_generator(X, TIMESTEPS,0)\n",
    "vgen = flat_generator(val_X, TIMESTEPS,0)\n",
    "name = \"gru3_20\""
   ]
  },
  {
   "cell_type": "code",
   "execution_count": null,
   "metadata": {
    "collapsed": true
   },
   "outputs": [],
   "source": [
    "input_layer = Input(shape=(TIMESTEPS,DIM))\n",
    "hidden = GRU(10, activation='relu', return_sequences=True)(input_layer)\n",
    "hidden = GRU(10, activation='relu', return_sequences=True)(hidden)\n",
    "hidden = GRU(10, activation='relu')(hidden)\n",
    "output = Dense(DIM, activation='sigmoid')(hidden)"
   ]
  },
  {
   "cell_type": "code",
   "execution_count": null,
   "metadata": {
    "collapsed": true
   },
   "outputs": [],
   "source": [
    "model = Model(input_layer, output)\n",
    "model.compile(loss='mean_absolute_error', optimizer='adam', metrics=['mae'])"
   ]
  },
  {
   "cell_type": "code",
   "execution_count": null,
   "metadata": {
    "collapsed": true
   },
   "outputs": [],
   "source": [
    "train(model, tgen, vgen, name=name)\n",
    "test(model, ravel=0, name=name, window=TIMESTEPS)"
   ]
  },
  {
   "cell_type": "markdown",
   "metadata": {},
   "source": [
    "#### 50 steps"
   ]
  },
  {
   "cell_type": "code",
   "execution_count": null,
   "metadata": {
    "collapsed": true
   },
   "outputs": [],
   "source": [
    "TIMESTEPS = 50\n",
    "DIM = 29\n",
    "tgen = flat_generator(X, TIMESTEPS,0)\n",
    "vgen = flat_generator(val_X, TIMESTEPS,0)\n",
    "name = \"gru3_50\""
   ]
  },
  {
   "cell_type": "code",
   "execution_count": null,
   "metadata": {
    "collapsed": true
   },
   "outputs": [],
   "source": [
    "input_layer = Input(shape=(TIMESTEPS,DIM))\n",
    "hidden = GRU(10, activation='relu', return_sequences=True)(input_layer)\n",
    "hidden = GRU(10, activation='relu', return_sequences=True)(hidden)\n",
    "hidden = GRU(10, activation='relu')(hidden)\n",
    "output = Dense(DIM, activation='sigmoid')(hidden)"
   ]
  },
  {
   "cell_type": "code",
   "execution_count": null,
   "metadata": {
    "collapsed": true
   },
   "outputs": [],
   "source": [
    "model = Model(input_layer, output)\n",
    "model.compile(loss='mean_absolute_error', optimizer='adam', metrics=['mae'])"
   ]
  },
  {
   "cell_type": "code",
   "execution_count": null,
   "metadata": {
    "collapsed": true
   },
   "outputs": [],
   "source": [
    "train(model, tgen, vgen, name=name)\n",
    "test(model, ravel=0, name=name, window=TIMESTEPS)"
   ]
  },
  {
   "cell_type": "markdown",
   "metadata": {},
   "source": [
    "#### 100 steps"
   ]
  },
  {
   "cell_type": "code",
   "execution_count": null,
   "metadata": {
    "collapsed": true
   },
   "outputs": [],
   "source": [
    "TIMESTEPS = 100\n",
    "DIM = 29\n",
    "tgen = flat_generator(X, TIMESTEPS,0)\n",
    "vgen = flat_generator(val_X, TIMESTEPS,0)\n",
    "name = \"gru3_100\""
   ]
  },
  {
   "cell_type": "code",
   "execution_count": null,
   "metadata": {
    "collapsed": true
   },
   "outputs": [],
   "source": [
    "input_layer = Input(shape=(TIMESTEPS,DIM))\n",
    "hidden = GRU(10, activation='relu', return_sequences=True)(input_layer)\n",
    "hidden = GRU(10, activation='relu', return_sequences=True)(hidden)\n",
    "hidden = GRU(10, activation='relu')(hidden)\n",
    "output = Dense(DIM, activation='sigmoid')(hidden)"
   ]
  },
  {
   "cell_type": "code",
   "execution_count": null,
   "metadata": {
    "collapsed": true
   },
   "outputs": [],
   "source": [
    "model = Model(input_layer, output)\n",
    "model.compile(loss='mean_absolute_error', optimizer='adam', metrics=['mae'])"
   ]
  },
  {
   "cell_type": "code",
   "execution_count": null,
   "metadata": {
    "collapsed": true
   },
   "outputs": [],
   "source": [
    "train(model, tgen, vgen, name=name)\n",
    "test(model, ravel=0, name=name, window=TIMESTEPS)"
   ]
  },
  {
   "cell_type": "markdown",
   "metadata": {},
   "source": [
    "#### 200 steps"
   ]
  },
  {
   "cell_type": "code",
   "execution_count": null,
   "metadata": {
    "collapsed": true
   },
   "outputs": [],
   "source": [
    "TIMESTEPS = 200\n",
    "DIM = 29\n",
    "tgen = flat_generator(X, TIMESTEPS,0)\n",
    "vgen = flat_generator(val_X, TIMESTEPS,0)\n",
    "name = \"gru3_200\""
   ]
  },
  {
   "cell_type": "code",
   "execution_count": null,
   "metadata": {
    "collapsed": true
   },
   "outputs": [],
   "source": [
    "input_layer = Input(shape=(TIMESTEPS,DIM))\n",
    "hidden = GRU(10, activation='relu', return_sequences=True)(input_layer)\n",
    "hidden = GRU(10, activation='relu', return_sequences=True)(hidden)\n",
    "hidden = GRU(10, activation='relu')(hidden)\n",
    "output = Dense(DIM, activation='sigmoid')(hidden)"
   ]
  },
  {
   "cell_type": "code",
   "execution_count": null,
   "metadata": {
    "collapsed": true
   },
   "outputs": [],
   "source": [
    "model = Model(input_layer, output)\n",
    "model.compile(loss='mean_absolute_error', optimizer='adam', metrics=['mae'])"
   ]
  },
  {
   "cell_type": "code",
   "execution_count": null,
   "metadata": {
    "collapsed": true
   },
   "outputs": [],
   "source": [
    "train(model, tgen, vgen, name=name)\n",
    "test(model, ravel=0, name=name, window=TIMESTEPS)"
   ]
  },
  {
   "cell_type": "markdown",
   "metadata": {},
   "source": [
    "### RNN with 4 GRU layers dim compression."
   ]
  },
  {
   "cell_type": "markdown",
   "metadata": {},
   "source": [
    "#### 2 steps"
   ]
  },
  {
   "cell_type": "code",
   "execution_count": null,
   "metadata": {
    "collapsed": true
   },
   "outputs": [],
   "source": [
    "TIMESTEPS = 2\n",
    "DIM = 29\n",
    "tgen = flat_generator(X, TIMESTEPS,0)\n",
    "vgen = flat_generator(val_X, TIMESTEPS,0)\n",
    "name = \"gru4_2\""
   ]
  },
  {
   "cell_type": "code",
   "execution_count": null,
   "metadata": {
    "collapsed": true
   },
   "outputs": [],
   "source": [
    "input_layer = Input(shape=(TIMESTEPS,DIM))\n",
    "hidden = GRU(10, activation='relu', return_sequences=True)(input_layer)\n",
    "hidden = GRU(7, activation='relu', return_sequences=True)(hidden)\n",
    "hidden = GRU(5, activation='relu', return_sequences=True)(hidden)\n",
    "hidden = GRU(DIM, activation='relu')(hidden)\n",
    "output = Dense(DIM, activation='sigmoid')(hidden)"
   ]
  },
  {
   "cell_type": "code",
   "execution_count": null,
   "metadata": {
    "collapsed": true
   },
   "outputs": [],
   "source": [
    "model = Model(input_layer, output)\n",
    "model.compile(loss='mean_absolute_error', optimizer='adam', metrics=['mae'])"
   ]
  },
  {
   "cell_type": "code",
   "execution_count": null,
   "metadata": {
    "collapsed": true
   },
   "outputs": [],
   "source": [
    "train(model, tgen, vgen, name=name)\n",
    "test(model, ravel=0, name=name, window=TIMESTEPS)"
   ]
  },
  {
   "cell_type": "markdown",
   "metadata": {},
   "source": [
    "#### 5 steps"
   ]
  },
  {
   "cell_type": "code",
   "execution_count": null,
   "metadata": {
    "collapsed": true
   },
   "outputs": [],
   "source": [
    "TIMESTEPS = 5\n",
    "DIM = 29\n",
    "tgen = flat_generator(X, TIMESTEPS,0)\n",
    "vgen = flat_generator(val_X, TIMESTEPS, 0)\n",
    "name = \"gru4_5\""
   ]
  },
  {
   "cell_type": "code",
   "execution_count": null,
   "metadata": {
    "collapsed": true
   },
   "outputs": [],
   "source": [
    "input_layer = Input(shape=(TIMESTEPS,DIM))\n",
    "hidden = GRU(10, activation='relu', return_sequences=True)(input_layer)\n",
    "hidden = GRU(7, activation='relu', return_sequences=True)(hidden)\n",
    "hidden = GRU(5, activation='relu', return_sequences=True)(hidden)\n",
    "hidden = GRU(DIM, activation='relu')(hidden)\n",
    "output = Dense(DIM, activation='sigmoid')(hidden)"
   ]
  },
  {
   "cell_type": "code",
   "execution_count": null,
   "metadata": {
    "collapsed": true
   },
   "outputs": [],
   "source": [
    "model = Model(input_layer, output)\n",
    "model.compile(loss='mean_absolute_error', optimizer='adam', metrics=['mae'])"
   ]
  },
  {
   "cell_type": "code",
   "execution_count": null,
   "metadata": {
    "collapsed": true
   },
   "outputs": [],
   "source": [
    "train(model, tgen, vgen, name=name)\n",
    "test(model, ravel=0, name=name, window=TIMESTEPS)"
   ]
  },
  {
   "cell_type": "markdown",
   "metadata": {},
   "source": [
    "#### 10 steps"
   ]
  },
  {
   "cell_type": "code",
   "execution_count": null,
   "metadata": {
    "collapsed": true
   },
   "outputs": [],
   "source": [
    "TIMESTEPS = 10\n",
    "DIM = 29\n",
    "tgen = flat_generator(X, TIMESTEPS, 0)\n",
    "vgen = flat_generator(val_X, TIMESTEPS, 0)\n",
    "name = \"gru4_10\""
   ]
  },
  {
   "cell_type": "code",
   "execution_count": null,
   "metadata": {
    "collapsed": true
   },
   "outputs": [],
   "source": [
    "input_layer = Input(shape=(TIMESTEPS,DIM))\n",
    "hidden = GRU(10, activation='relu', return_sequences=True)(input_layer)\n",
    "hidden = GRU(7, activation='relu', return_sequences=True)(hidden)\n",
    "hidden = GRU(5, activation='relu', return_sequences=True)(hidden)\n",
    "hidden = GRU(DIM, activation='relu')(hidden)\n",
    "output = Dense(DIM, activation='sigmoid')(hidden)"
   ]
  },
  {
   "cell_type": "code",
   "execution_count": null,
   "metadata": {
    "collapsed": true
   },
   "outputs": [],
   "source": [
    "model = Model(input_layer, output)\n",
    "model.compile(loss='mean_absolute_error', optimizer='adam', metrics=['mae'])"
   ]
  },
  {
   "cell_type": "code",
   "execution_count": null,
   "metadata": {
    "collapsed": true
   },
   "outputs": [],
   "source": [
    "train(model, tgen, vgen, name=name)\n",
    "test(model, ravel=0, name=name, window=TIMESTEPS)"
   ]
  },
  {
   "cell_type": "markdown",
   "metadata": {},
   "source": [
    "#### 20 steps"
   ]
  },
  {
   "cell_type": "code",
   "execution_count": null,
   "metadata": {
    "collapsed": true
   },
   "outputs": [],
   "source": [
    "TIMESTEPS = 20\n",
    "DIM = 29\n",
    "tgen = flat_generator(X, TIMESTEPS,0)\n",
    "vgen = flat_generator(val_X, TIMESTEPS,0)\n",
    "name = \"gru4_20\""
   ]
  },
  {
   "cell_type": "code",
   "execution_count": null,
   "metadata": {
    "collapsed": true
   },
   "outputs": [],
   "source": [
    "input_layer = Input(shape=(TIMESTEPS,DIM))\n",
    "hidden = GRU(10, activation='relu', return_sequences=True)(input_layer)\n",
    "hidden = GRU(7, activation='relu', return_sequences=True)(hidden)\n",
    "hidden = GRU(5, activation='relu', return_sequences=True)(hidden)\n",
    "hidden = GRU(DIM, activation='relu')(hidden)\n",
    "output = Dense(DIM, activation='sigmoid')(hidden)"
   ]
  },
  {
   "cell_type": "code",
   "execution_count": null,
   "metadata": {
    "collapsed": true
   },
   "outputs": [],
   "source": [
    "model = Model(input_layer, output)\n",
    "model.compile(loss='mean_absolute_error', optimizer='adam', metrics=['mae'])"
   ]
  },
  {
   "cell_type": "code",
   "execution_count": null,
   "metadata": {
    "collapsed": true
   },
   "outputs": [],
   "source": [
    "train(model, tgen, vgen, name=name)\n",
    "test(model, ravel=0, name=name, window=TIMESTEPS)"
   ]
  },
  {
   "cell_type": "markdown",
   "metadata": {},
   "source": [
    "#### 50 steps"
   ]
  },
  {
   "cell_type": "code",
   "execution_count": null,
   "metadata": {
    "collapsed": true
   },
   "outputs": [],
   "source": [
    "TIMESTEPS = 50\n",
    "DIM = 29\n",
    "tgen = flat_generator(X, TIMESTEPS,0)\n",
    "vgen = flat_generator(val_X, TIMESTEPS,0)\n",
    "name = \"gru4_50\""
   ]
  },
  {
   "cell_type": "code",
   "execution_count": null,
   "metadata": {
    "collapsed": true
   },
   "outputs": [],
   "source": [
    "input_layer = Input(shape=(TIMESTEPS,DIM))\n",
    "hidden = GRU(10, activation='relu', return_sequences=True)(input_layer)\n",
    "hidden = GRU(7, activation='relu', return_sequences=True)(hidden)\n",
    "hidden = GRU(5, activation='relu', return_sequences=True)(hidden)\n",
    "hidden = GRU(DIM, activation='relu')(hidden)\n",
    "output = Dense(DIM, activation='sigmoid')(hidden)"
   ]
  },
  {
   "cell_type": "code",
   "execution_count": null,
   "metadata": {
    "collapsed": true
   },
   "outputs": [],
   "source": [
    "model = Model(input_layer, output)\n",
    "model.compile(loss='mean_absolute_error', optimizer='adam', metrics=['mae'])"
   ]
  },
  {
   "cell_type": "code",
   "execution_count": null,
   "metadata": {
    "collapsed": true
   },
   "outputs": [],
   "source": [
    "train(model, tgen, vgen, name=name)\n",
    "test(model, ravel=0, name=name, window=TIMESTEPS)"
   ]
  },
  {
   "cell_type": "markdown",
   "metadata": {},
   "source": [
    "#### 100 steps"
   ]
  },
  {
   "cell_type": "code",
   "execution_count": null,
   "metadata": {
    "collapsed": true
   },
   "outputs": [],
   "source": [
    "TIMESTEPS = 100\n",
    "DIM = 29\n",
    "tgen = flat_generator(X, TIMESTEPS,0)\n",
    "vgen = flat_generator(val_X, TIMESTEPS,0)\n",
    "name = \"gru4_100\""
   ]
  },
  {
   "cell_type": "code",
   "execution_count": null,
   "metadata": {
    "collapsed": true
   },
   "outputs": [],
   "source": [
    "input_layer = Input(shape=(TIMESTEPS,DIM))\n",
    "hidden = GRU(10, activation='relu', return_sequences=True)(input_layer)\n",
    "hidden = GRU(7, activation='relu', return_sequences=True)(hidden)\n",
    "hidden = GRU(5, activation='relu', return_sequences=True)(hidden)\n",
    "hidden = GRU(DIM, activation='relu')(hidden)\n",
    "output = Dense(DIM, activation='sigmoid')(hidden)"
   ]
  },
  {
   "cell_type": "code",
   "execution_count": null,
   "metadata": {
    "collapsed": true
   },
   "outputs": [],
   "source": [
    "model = Model(input_layer, output)\n",
    "model.compile(loss='mean_absolute_error', optimizer='adam', metrics=['mae'])"
   ]
  },
  {
   "cell_type": "code",
   "execution_count": null,
   "metadata": {
    "collapsed": true
   },
   "outputs": [],
   "source": [
    "train(model, tgen, vgen, name=name)\n",
    "test(model, ravel=0, name=name, window=TIMESTEPS)"
   ]
  },
  {
   "cell_type": "markdown",
   "metadata": {},
   "source": [
    "#### 200 steps"
   ]
  },
  {
   "cell_type": "code",
   "execution_count": null,
   "metadata": {
    "collapsed": true
   },
   "outputs": [],
   "source": [
    "TIMESTEPS = 200\n",
    "DIM = 29\n",
    "tgen = flat_generator(X, TIMESTEPS,0)\n",
    "vgen = flat_generator(val_X, TIMESTEPS,0)\n",
    "name = \"gru4_200\""
   ]
  },
  {
   "cell_type": "code",
   "execution_count": null,
   "metadata": {
    "collapsed": true
   },
   "outputs": [],
   "source": [
    "input_layer = Input(shape=(TIMESTEPS,DIM))\n",
    "hidden = GRU(10, activation='relu', return_sequences=True)(input_layer)\n",
    "hidden = GRU(7, activation='relu', return_sequences=True)(hidden)\n",
    "hidden = GRU(5, activation='relu', return_sequences=True)(hidden)\n",
    "hidden = GRU(DIM, activation='relu')(hidden)\n",
    "output = Dense(DIM, activation='sigmoid')(hidden)"
   ]
  },
  {
   "cell_type": "code",
   "execution_count": null,
   "metadata": {
    "collapsed": true
   },
   "outputs": [],
   "source": [
    "model = Model(input_layer, output)\n",
    "model.compile(loss='mean_absolute_error', optimizer='adam', metrics=['mae'])"
   ]
  },
  {
   "cell_type": "code",
   "execution_count": null,
   "metadata": {
    "collapsed": true
   },
   "outputs": [],
   "source": [
    "train(model, tgen, vgen, name=name)\n",
    "test(model, ravel=0, name=name, window=TIMESTEPS)"
   ]
  },
  {
   "cell_type": "code",
   "execution_count": null,
   "metadata": {},
   "outputs": [],
   "source": []
  },
  {
   "cell_type": "code",
   "execution_count": null,
   "metadata": {},
   "outputs": [],
   "source": []
  }
 ],
 "metadata": {
  "kernelspec": {
   "display_name": "Python 3",
   "language": "python",
   "name": "python3"
  },
  "language_info": {
   "codemirror_mode": {
    "name": "ipython",
    "version": 3
   },
   "file_extension": ".py",
   "mimetype": "text/x-python",
   "name": "python",
   "nbconvert_exporter": "python",
   "pygments_lexer": "ipython3",
   "version": "3.6.5"
  }
 },
 "nbformat": 4,
 "nbformat_minor": 2
}
